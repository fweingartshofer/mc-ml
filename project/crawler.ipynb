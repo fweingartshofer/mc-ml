{
 "cells": [
  {
   "cell_type": "markdown",
   "source": [
    "# Server"
   ],
   "metadata": {
    "collapsed": false
   }
  },
  {
   "cell_type": "code",
   "execution_count": 1,
   "outputs": [],
   "source": [
    "import tekore as tk\n",
    "from dotenv import load_dotenv\n",
    "\n",
    "load_dotenv()\n",
    "\n",
    "conf = tk.config_from_environment()\n",
    "cred = tk.Credentials(*conf)\n",
    "spotify = tk.Spotify()\n",
    "host = '127.0.0.1'\n",
    "port = 5000"
   ],
   "metadata": {
    "collapsed": false
   }
  },
  {
   "cell_type": "code",
   "execution_count": 2,
   "metadata": {
    "collapsed": true
   },
   "outputs": [],
   "source": [
    "from os import environ as env\n",
    "import json\n",
    "from authentication.spotify_server import SpotifyServer\n",
    "try:\n",
    "    with open(\".spotify_credentials.json\", \"r\") as infile:\n",
    "        token_dict = json.load(infile)\n",
    "        token_dict[\"scope\"] = \" \".join(token_dict[\"scope\"])\n",
    "        spotify.token = tk.Token(token_dict, token_dict[\"uses_pkce\"])\n",
    "        spotify.token = cred.refresh(spotify.token)\n",
    "except Exception as e:\n",
    "    print(e)\n",
    "    app = SpotifyServer(host, port, spotify, cred)\n",
    "    spotify.token = app.spawn_single_use_server()"
   ]
  },
  {
   "cell_type": "code",
   "execution_count": 3,
   "outputs": [],
   "source": [
    "from typing import List\n",
    "token: tk.Token = spotify.token\n",
    "scopes: List[str] = list(token.scope)\n",
    "token_dict = {\n",
    "    \"token_type\": token.token_type,\n",
    "    \"access_token\": token.access_token,\n",
    "    \"refresh_token\": token.refresh_token,\n",
    "    \"scope\": scopes[0].replace(\"[\", \"\").replace(\"]\", \"\").replace(\"'\", \"\").split(\", \") if len(scopes) == 0 else scopes,\n",
    "    \"expires_at\": token.expires_at,\n",
    "    \"uses_pkce\": token.uses_pkce,\n",
    "    \"expires_in\": 0\n",
    "}\n",
    "json_object = json.dumps(token_dict, indent=4)\n",
    "with open(\".spotify_credentials.json\", \"w\") as outfile:\n",
    "    outfile.write(json_object)"
   ],
   "metadata": {
    "collapsed": false
   }
  },
  {
   "cell_type": "markdown",
   "source": [
    "# Spotify API"
   ],
   "metadata": {
    "collapsed": false
   }
  },
  {
   "cell_type": "code",
   "execution_count": 4,
   "outputs": [],
   "source": [
    "spotify.token = cred.refresh(spotify.token)"
   ],
   "metadata": {
    "collapsed": false
   }
  },
  {
   "cell_type": "code",
   "execution_count": 5,
   "outputs": [
    {
     "data": {
      "text/plain": "['Blue (Da Ba Dee)',\n 'Blaues Licht',\n 'Under Bergets Rot',\n 'Burn the Straw Man',\n 'Be the Sky',\n 'Sick Boogie Murder',\n 'Das Bollwerk',\n 'Lyra - Broken Minds Remix',\n 'Braveheart',\n \"Welcome Back, O' Sleeping Dreamer\",\n 'Scotland the Brave',\n '200 Beathoven',\n 'Tsar Bomba',\n 'Mr. Blue Sky',\n 'Ghost From The Barrow',\n 'A Lucid Tower Beckons on the Hills Afar',\n 'Ocean Blue',\n 'Armored Bards',\n 'Looking Down the Barrel of Today',\n 'Bloody Mary',\n 'Bones',\n 'Blinding Lights',\n 'Believer',\n \"I'm Good (Blue)\",\n 'Baianá',\n 'BILLIE EILISH.',\n 'Blaues Licht',\n 'Belly Dancer',\n 'Bad Habits',\n 'Bamba (feat. Aitch & BIA)',\n 'Big City Life',\n 'Jingle Bell Rock',\n 'Buzz Down',\n 'Bad Memories (feat. Elley Duhé & FAST BOY)',\n 'Beautiful Girl',\n 'Brooklyn',\n 'Bamba (feat. Aitch & BIA)',\n \"It's Beginning to Look a Lot like Christmas\",\n 'Belgisches Viertel',\n 'Nachts wach (Lila Wolken Bootleg)',\n 'I Believe',\n 'BLACKOUT',\n 'Bei Nacht',\n 'Move Your Body',\n \"It's Beginning to Look a Lot like Christmas\",\n 'Kernkraft 400 (A Better Day)',\n \"Rockin' Around The Christmas Tree\",\n 'BIELEFELD',\n \"Creepin' (with The Weeknd & 21 Savage)\",\n \"Baby, It's Cold Outside (feat. Meghan Trainor)\"]"
     },
     "execution_count": 5,
     "metadata": {},
     "output_type": "execute_result"
    }
   ],
   "source": [
    "from project.random_track import RandomTrack\n",
    "\n",
    "rndTrack = RandomTrack(spotify, cred)\n",
    "tracks = rndTrack.random_tracks()\n",
    "[track.name for track in tracks]"
   ],
   "metadata": {
    "collapsed": false
   }
  },
  {
   "cell_type": "code",
   "execution_count": 6,
   "outputs": [
    {
     "data": {
      "text/plain": "70"
     },
     "execution_count": 6,
     "metadata": {},
     "output_type": "execute_result"
    }
   ],
   "source": [
    "from project.util import Partition\n",
    "\n",
    "artist_ids = [artist.id for track in tracks for artist in track.artists]\n",
    "artist_id_partitions = Partition(artist_ids)\n",
    "artists = [spotify.artists(ids) for ids in artist_id_partitions]\n",
    "artists: List[tk.model.FullArtist] = list(artist for partition in artists for artist in partition)\n",
    "len(artists)"
   ],
   "metadata": {
    "collapsed": false
   }
  },
  {
   "cell_type": "code",
   "execution_count": 7,
   "outputs": [],
   "source": [
    "import pylast\n",
    "from authentication.lastfm_credentials import LastFmCredentials\n",
    "from lastfm import LastFmScraper, LastFmProxy\n",
    "\n",
    "creds = LastFmCredentials(env[\"LASTFM_API_KEY\"], env[\"LASTFM_SHARED_SECRET\"])\n",
    "last_network = pylast.LastFMNetwork(\n",
    "    api_key=creds.api_key,\n",
    "    api_secret=creds.shared_secret,\n",
    ")\n",
    "\n",
    "lastfm = LastFmProxy(last_network, LastFmScraper())"
   ],
   "metadata": {
    "collapsed": false
   }
  },
  {
   "cell_type": "code",
   "execution_count": 8,
   "outputs": [],
   "source": [
    "import track as model\n",
    "analyzed_tracks = model.AnalyzedTracks(tracks, artists)"
   ],
   "metadata": {
    "collapsed": false
   }
  },
  {
   "cell_type": "code",
   "execution_count": 9,
   "outputs": [
    {
     "name": "stdout",
     "output_type": "stream",
     "text": [
      "No tags 3PPgrtOHdJTZrmyGVNQ7EQ Ocean Blue ['Gravii']\n"
     ]
    }
   ],
   "source": [
    "from project.track import TaggedTrack\n",
    "for track in analyzed_tracks.tracks:\n",
    "    try:\n",
    "        tags = TaggedTrack(lastfm, track.name, track.artist_names).tags()\n",
    "        if len(tags) == 0:\n",
    "            raise Exception(\"No tags\")\n",
    "    except Exception as e:\n",
    "        print(e, track.id, track.name, track.artist_names)\n",
    "        continue\n",
    "    track.tags = tags"
   ],
   "metadata": {
    "collapsed": false
   }
  },
  {
   "cell_type": "markdown",
   "source": [
    "# Firebase"
   ],
   "metadata": {
    "collapsed": false
   }
  },
  {
   "cell_type": "code",
   "execution_count": 10,
   "outputs": [
    {
     "data": {
      "text/plain": "<firebase_admin.App at 0x7fc1fbbd2260>"
     },
     "execution_count": 10,
     "metadata": {},
     "output_type": "execute_result"
    }
   ],
   "source": [
    "import firebase_admin\n",
    "from firebase_admin import credentials, firestore\n",
    "\n",
    "cred = credentials.ApplicationDefault()\n",
    "firebase_admin.initialize_app()"
   ],
   "metadata": {
    "collapsed": false
   }
  },
  {
   "cell_type": "code",
   "execution_count": 11,
   "outputs": [],
   "source": [
    "from google.cloud.firestore_v1 import Client\n",
    "\n",
    "firestore_client: Client = firestore.client()\n",
    "analyzed_tracks.upsert(firestore_client.collection(\"tracks\"))"
   ],
   "metadata": {
    "collapsed": false
   }
  },
  {
   "cell_type": "code",
   "execution_count": 11,
   "outputs": [],
   "source": [],
   "metadata": {
    "collapsed": false
   }
  }
 ],
 "metadata": {
  "kernelspec": {
   "display_name": "Python 3",
   "language": "python",
   "name": "python3"
  },
  "language_info": {
   "codemirror_mode": {
    "name": "ipython",
    "version": 2
   },
   "file_extension": ".py",
   "mimetype": "text/x-python",
   "name": "python",
   "nbconvert_exporter": "python",
   "pygments_lexer": "ipython2",
   "version": "2.7.6"
  }
 },
 "nbformat": 4,
 "nbformat_minor": 0
}
