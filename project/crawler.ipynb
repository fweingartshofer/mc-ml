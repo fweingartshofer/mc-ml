{
 "cells": [
  {
   "cell_type": "markdown",
   "source": [
    "# Server"
   ],
   "metadata": {
    "collapsed": false
   }
  },
  {
   "cell_type": "code",
   "execution_count": 16,
   "outputs": [],
   "source": [
    "import tekore as tk\n",
    "from dotenv import load_dotenv\n",
    "\n",
    "load_dotenv()\n",
    "\n",
    "conf = tk.config_from_environment()\n",
    "cred = tk.Credentials(*conf)\n",
    "spotify = tk.Spotify()\n",
    "host = '127.0.0.1'\n",
    "port = 5000"
   ],
   "metadata": {
    "collapsed": false
   }
  },
  {
   "cell_type": "code",
   "execution_count": 23,
   "metadata": {
    "collapsed": true
   },
   "outputs": [],
   "source": [
    "from os import environ as env\n",
    "import json\n",
    "from authentication.spotify_server import SpotifyServer\n",
    "try:\n",
    "    with open(\".spotify_credentials.json\", \"r\") as infile:\n",
    "        token_dict = json.load(infile)\n",
    "        token_dict[\"scope\"] = \" \".join(token_dict[\"scope\"])\n",
    "        spotify.token = tk.Token(token_dict, token_dict[\"uses_pkce\"])\n",
    "        spotify.token = cred.refresh(spotify.token)\n",
    "except Exception as e:\n",
    "    print(e)\n",
    "    app = SpotifyServer(host, port, spotify, cred)\n",
    "    spotify.token = app.spawn_single_use_server()"
   ]
  },
  {
   "cell_type": "code",
   "execution_count": 28,
   "outputs": [],
   "source": [
    "from typing import List\n",
    "token: tk.Token = spotify.token\n",
    "scopes: List[str] = list(token.scope)\n",
    "token_dict = {\n",
    "    \"token_type\": token.token_type,\n",
    "    \"access_token\": token.access_token,\n",
    "    \"refresh_token\": token.refresh_token,\n",
    "    \"scope\": scopes[0].replace(\"[\", \"\").replace(\"]\", \"\").replace(\"'\", \"\").split(\", \") if len(scopes) == 0 else scopes,\n",
    "    \"expires_at\": token.expires_at,\n",
    "    \"uses_pkce\": token.uses_pkce,\n",
    "    \"expires_in\": 0\n",
    "}\n",
    "json_object = json.dumps(token_dict, indent=4)\n",
    "with open(\".spotify_credentials.json\", \"w\") as outfile:\n",
    "    outfile.write(json_object)"
   ],
   "metadata": {
    "collapsed": false
   }
  },
  {
   "cell_type": "markdown",
   "source": [
    "# Spotify API"
   ],
   "metadata": {
    "collapsed": false
   }
  },
  {
   "cell_type": "code",
   "execution_count": 29,
   "outputs": [
    {
     "data": {
      "text/plain": "Scope('user-read-currently-playing', 'user-top-read')"
     },
     "execution_count": 29,
     "metadata": {},
     "output_type": "execute_result"
    }
   ],
   "source": [
    "spotify.token = cred.refresh(spotify.token)"
   ],
   "metadata": {
    "collapsed": false
   }
  },
  {
   "cell_type": "code",
   "execution_count": 7,
   "outputs": [
    {
     "name": "stdout",
     "output_type": "stream",
     "text": [
      "Athen\n",
      "I Ain't Worried\n",
      "growing up (feat. remme & alicja)\n",
      "All the Way (I Believe In Steve)\n",
      "Am Ende\n",
      "Another Heart\n",
      "Alles wegen Dir\n",
      "abcdefu\n",
      "All Good\n",
      "We Don't Talk About Bruno\n",
      "Enemy (with JID) - from the series Arcane League of Legends\n",
      "AVA\n",
      "Fallin’ (Adrenaline)\n",
      "Acapulco\n",
      "Die Nacht von Freitag auf Montag\n",
      "ave cesaria\n",
      "Ain't No Rest For The Wicked - Original Version\n",
      "Parle à ta tête\n",
      "As It Was\n",
      "Africa\n",
      "Sweet Dreams (Are Made of This) - Remastered\n",
      "Another Love\n",
      "STAR WALKIN' (League of Legends Worlds Anthem)\n",
      "Anti-Hero\n",
      "Alright (feat. KIDDO)\n",
      "Auf & Ab\n",
      "Where Are You Now\n",
      "All I Want for Christmas Is You\n",
      "Alles neu\n",
      "Atlantis\n",
      "Have It All\n",
      "Kernkraft 400 (A Better Day)\n",
      "Wonderful Dream (Holidays Are Coming) - Radio Version\n",
      "Bad Memories (feat. Elley Duhé & FAST BOY)\n",
      "Apocalypse\n",
      "Another Love\n",
      "Bamba (feat. Aitch & BIA)\n",
      "Anti-Hero\n",
      "Santa Tell Me\n",
      "Bamba (feat. Aitch & BIA)\n",
      "Rockin' Around The Christmas Tree\n",
      "As You Are\n",
      "ALLEINE - SW43 L33 D1DO REMIX\n",
      "All Girls Are The Same\n",
      "Comment te dire adieu\n",
      "It's Beginning to Look a Lot Like Christmas (with Mitchell Ayres & His Orchestra)\n",
      "A Holly Jolly Christmas\n",
      "It's Beginning to Look a Lot like Christmas\n",
      "It's Beginning to Look a Lot like Christmas\n",
      "Creepin' (with The Weeknd & 21 Savage)\n"
     ]
    }
   ],
   "source": [
    "from project.random_track import RandomTrack\n",
    "\n",
    "rndTrack = RandomTrack(spotify, cred)\n",
    "tracks = rndTrack.random_tracks()\n",
    "for track in tracks:\n",
    "    print(track.name)"
   ],
   "metadata": {
    "collapsed": false
   }
  },
  {
   "cell_type": "code",
   "execution_count": 8,
   "outputs": [
    {
     "data": {
      "text/plain": "[FullArtist with fields:\n   external_urls = {'spotify'}\n   followers = Followers(href, total)\n   genres = [1 x str]\n   href = 'https://api.spotify.com/v1/artists/7jQYzUpPshdP6jZS7lJSDU'\n   id = '7jQYzUpPshdP6jZS7lJSDU'\n   images = [3 x Image(height, url, width)]\n   name = 'Georg Stengel'\n   popularity = 50\n   type = 'artist'\n   uri = 'spotify:artist:7jQYzUpPshdP6jZS7lJSDU',\n FullArtist with fields:\n   external_urls = {'spotify'}\n   followers = Followers(href, total)\n   genres = [2 x str]\n   href = 'https://api.spotify.com/v1/artists/5Pwc4xIPtQLFEnJriah9YJ'\n   id = '5Pwc4xIPtQLFEnJriah9YJ'\n   images = [3 x Image(height, url, width)]\n   name = 'OneRepublic'\n   popularity = 85\n   type = 'artist'\n   uri = 'spotify:artist:5Pwc4xIPtQLFEnJriah9YJ',\n FullArtist with fields:\n   external_urls = {'spotify'}\n   followers = Followers(href, total)\n   genres = [1 x str]\n   href = 'https://api.spotify.com/v1/artists/0ql0Aw24KJaMeOVlwadzFE'\n   id = '0ql0Aw24KJaMeOVlwadzFE'\n   images = [3 x Image(height, url, width)]\n   name = 'fiedlerski'\n   popularity = 42\n   type = 'artist'\n   uri = 'spotify:artist:0ql0Aw24KJaMeOVlwadzFE',\n FullArtist with fields:\n   external_urls = {'spotify'}\n   followers = Followers(href, total)\n   genres = [1 x str]\n   href = 'https://api.spotify.com/v1/artists/1QDigvoDqzcojpLCK6soAb'\n   id = '1QDigvoDqzcojpLCK6soAb'\n   images = [3 x Image(height, url, width)]\n   name = 'Alicja'\n   popularity = 34\n   type = 'artist'\n   uri = 'spotify:artist:1QDigvoDqzcojpLCK6soAb',\n FullArtist with fields:\n   external_urls = {'spotify'}\n   followers = Followers(href, total)\n   genres = [1 x str]\n   href = 'https://api.spotify.com/v1/artists/2yqHVMUJy2Wxl7HVsp4Se5'\n   id = '2yqHVMUJy2Wxl7HVsp4Se5'\n   images = [3 x Image(height, url, width)]\n   name = 'remme'\n   popularity = 50\n   type = 'artist'\n   uri = 'spotify:artist:2yqHVMUJy2Wxl7HVsp4Se5',\n FullArtist with fields:\n   external_urls = {'spotify'}\n   followers = Followers(href, total)\n   genres = [0 x str]\n   href = 'https://api.spotify.com/v1/artists/5PeQ24Ru3fypcBborc8IeN'\n   id = '5PeQ24Ru3fypcBborc8IeN'\n   images = [3 x Image(height, url, width)]\n   name = 'Jacksepticeye'\n   popularity = 43\n   type = 'artist'\n   uri = 'spotify:artist:5PeQ24Ru3fypcBborc8IeN',\n FullArtist with fields:\n   external_urls = {'spotify'}\n   followers = Followers(href, total)\n   genres = [5 x str]\n   href = 'https://api.spotify.com/v1/artists/0V8tQXWkKPD5SxsB2moGew'\n   id = '0V8tQXWkKPD5SxsB2moGew'\n   images = [3 x Image(height, url, width)]\n   name = 'The Gregory Brothers'\n   popularity = 58\n   type = 'artist'\n   uri = 'spotify:artist:0V8tQXWkKPD5SxsB2moGew',\n FullArtist with fields:\n   external_urls = {'spotify'}\n   followers = Followers(href, total)\n   genres = [3 x str]\n   href = 'https://api.spotify.com/v1/artists/0MZ55DwuMQ1B2TXq9lcrE4'\n   id = '0MZ55DwuMQ1B2TXq9lcrE4'\n   images = [3 x Image(height, url, width)]\n   name = 'Kraftklub'\n   popularity = 66\n   type = 'artist'\n   uri = 'spotify:artist:0MZ55DwuMQ1B2TXq9lcrE4',\n FullArtist with fields:\n   external_urls = {'spotify'}\n   followers = Followers(href, total)\n   genres = [1 x str]\n   href = 'https://api.spotify.com/v1/artists/6mzs66iVW15C5iLt0JLt41'\n   id = '6mzs66iVW15C5iLt0JLt41'\n   images = [3 x Image(height, url, width)]\n   name = 'ILIRA'\n   popularity = 61\n   type = 'artist'\n   uri = 'spotify:artist:6mzs66iVW15C5iLt0JLt41',\n FullArtist with fields:\n   external_urls = {'spotify'}\n   followers = Followers(href, total)\n   genres = [3 x str]\n   href = 'https://api.spotify.com/v1/artists/0MZ55DwuMQ1B2TXq9lcrE4'\n   id = '0MZ55DwuMQ1B2TXq9lcrE4'\n   images = [3 x Image(height, url, width)]\n   name = 'Kraftklub'\n   popularity = 66\n   type = 'artist'\n   uri = 'spotify:artist:0MZ55DwuMQ1B2TXq9lcrE4',\n FullArtist with fields:\n   external_urls = {'spotify'}\n   followers = Followers(href, total)\n   genres = [1 x str]\n   href = 'https://api.spotify.com/v1/artists/2VSHKHBTiXWplO8lxcnUC9'\n   id = '2VSHKHBTiXWplO8lxcnUC9'\n   images = [3 x Image(height, url, width)]\n   name = 'GAYLE'\n   popularity = 71\n   type = 'artist'\n   uri = 'spotify:artist:2VSHKHBTiXWplO8lxcnUC9',\n FullArtist with fields:\n   external_urls = {'spotify'}\n   followers = Followers(href, total)\n   genres = [0 x str]\n   href = 'https://api.spotify.com/v1/artists/73x7tbnCDhYqVxrbuq0dtz'\n   id = '73x7tbnCDhYqVxrbuq0dtz'\n   images = [0 x Image(height, url, width)]\n   name = 'Millé'\n   popularity = 0\n   type = 'artist'\n   uri = 'spotify:artist:73x7tbnCDhYqVxrbuq0dtz',\n FullArtist with fields:\n   external_urls = {'spotify'}\n   followers = Followers(href, total)\n   genres = [0 x str]\n   href = 'https://api.spotify.com/v1/artists/525GU041EGIS2uP04pY8fM'\n   id = '525GU041EGIS2uP04pY8fM'\n   images = [0 x Image(height, url, width)]\n   name = 'Malou Prytz'\n   popularity = 0\n   type = 'artist'\n   uri = 'spotify:artist:525GU041EGIS2uP04pY8fM',\n FullArtist with fields:\n   external_urls = {'spotify'}\n   followers = Followers(href, total)\n   genres = [0 x str]\n   href = 'https://api.spotify.com/v1/artists/29PgYEggDV3cDP9QYTogwv'\n   id = '29PgYEggDV3cDP9QYTogwv'\n   images = [3 x Image(height, url, width)]\n   name = 'Carolina Gaitán - La Gaita'\n   popularity = 63\n   type = 'artist'\n   uri = 'spotify:artist:29PgYEggDV3cDP9QYTogwv',\n FullArtist with fields:\n   external_urls = {'spotify'}\n   followers = Followers(href, total)\n   genres = [2 x str]\n   href = 'https://api.spotify.com/v1/artists/36CUTsdtNgCwMq6zKD1l8I'\n   id = '36CUTsdtNgCwMq6zKD1l8I'\n   images = [3 x Image(height, url, width)]\n   name = 'Mauro Castillo'\n   popularity = 63\n   type = 'artist'\n   uri = 'spotify:artist:36CUTsdtNgCwMq6zKD1l8I',\n FullArtist with fields:\n   external_urls = {'spotify'}\n   followers = Followers(href, total)\n   genres = [2 x str]\n   href = 'https://api.spotify.com/v1/artists/72kqSqk124Vnl1wtT6q9Fh'\n   id = '72kqSqk124Vnl1wtT6q9Fh'\n   images = [3 x Image(height, url, width)]\n   name = 'Adassa'\n   popularity = 63\n   type = 'artist'\n   uri = 'spotify:artist:72kqSqk124Vnl1wtT6q9Fh',\n FullArtist with fields:\n   external_urls = {'spotify'}\n   followers = Followers(href, total)\n   genres = [0 x str]\n   href = 'https://api.spotify.com/v1/artists/2as15AH2BTrPk8v4gyElmr'\n   id = '2as15AH2BTrPk8v4gyElmr'\n   images = [0 x Image(height, url, width)]\n   name = 'Rhenzy Feliz'\n   popularity = 61\n   type = 'artist'\n   uri = 'spotify:artist:2as15AH2BTrPk8v4gyElmr',\n FullArtist with fields:\n   external_urls = {'spotify'}\n   followers = Followers(href, total)\n   genres = [0 x str]\n   href = 'https://api.spotify.com/v1/artists/18MFcGBHtyW0mU3ufcm0X1'\n   id = '18MFcGBHtyW0mU3ufcm0X1'\n   images = [3 x Image(height, url, width)]\n   name = 'Diane Guerrero'\n   popularity = 64\n   type = 'artist'\n   uri = 'spotify:artist:18MFcGBHtyW0mU3ufcm0X1',\n FullArtist with fields:\n   external_urls = {'spotify'}\n   followers = Followers(href, total)\n   genres = [2 x str]\n   href = 'https://api.spotify.com/v1/artists/5PYToRCsrnvikZg3yl2JMr'\n   id = '5PYToRCsrnvikZg3yl2JMr'\n   images = [3 x Image(height, url, width)]\n   name = 'Stephanie Beatriz'\n   popularity = 69\n   type = 'artist'\n   uri = 'spotify:artist:5PYToRCsrnvikZg3yl2JMr',\n FullArtist with fields:\n   external_urls = {'spotify'}\n   followers = Followers(href, total)\n   genres = [0 x str]\n   href = 'https://api.spotify.com/v1/artists/3xLU748QxpTmIVaiNXXg0P'\n   id = '3xLU748QxpTmIVaiNXXg0P'\n   images = [3 x Image(height, url, width)]\n   name = 'Encanto - Cast'\n   popularity = 66\n   type = 'artist'\n   uri = 'spotify:artist:3xLU748QxpTmIVaiNXXg0P',\n FullArtist with fields:\n   external_urls = {'spotify'}\n   followers = Followers(href, total)\n   genres = [2 x str]\n   href = 'https://api.spotify.com/v1/artists/53XhwfbYqKCa1cC15pYq2q'\n   id = '53XhwfbYqKCa1cC15pYq2q'\n   images = [3 x Image(height, url, width)]\n   name = 'Imagine Dragons'\n   popularity = 89\n   type = 'artist'\n   uri = 'spotify:artist:53XhwfbYqKCa1cC15pYq2q',\n FullArtist with fields:\n   external_urls = {'spotify'}\n   followers = Followers(href, total)\n   genres = [2 x str]\n   href = 'https://api.spotify.com/v1/artists/6U3ybJ9UHNKEdsH7ktGBZ7'\n   id = '6U3ybJ9UHNKEdsH7ktGBZ7'\n   images = [3 x Image(height, url, width)]\n   name = 'JID'\n   popularity = 79\n   type = 'artist'\n   uri = 'spotify:artist:6U3ybJ9UHNKEdsH7ktGBZ7',\n FullArtist with fields:\n   external_urls = {'spotify'}\n   followers = Followers(href, total)\n   genres = [0 x str]\n   href = 'https://api.spotify.com/v1/artists/57nPqD7z62gDdq37US9XJR'\n   id = '57nPqD7z62gDdq37US9XJR'\n   images = [3 x Image(height, url, width)]\n   name = 'Arcane'\n   popularity = 74\n   type = 'artist'\n   uri = 'spotify:artist:57nPqD7z62gDdq37US9XJR',\n FullArtist with fields:\n   external_urls = {'spotify'}\n   followers = Followers(href, total)\n   genres = [2 x str]\n   href = 'https://api.spotify.com/v1/artists/47mIJdHORyRerp4os813jD'\n   id = '47mIJdHORyRerp4os813jD'\n   images = [3 x Image(height, url, width)]\n   name = 'League of Legends'\n   popularity = 80\n   type = 'artist'\n   uri = 'spotify:artist:47mIJdHORyRerp4os813jD',\n FullArtist with fields:\n   external_urls = {'spotify'}\n   followers = Followers(href, total)\n   genres = [1 x str]\n   href = 'https://api.spotify.com/v1/artists/5bfglVyGJppmmNoC2rhBUG'\n   id = '5bfglVyGJppmmNoC2rhBUG'\n   images = [3 x Image(height, url, width)]\n   name = 'Natalie Jane'\n   popularity = 68\n   type = 'artist'\n   uri = 'spotify:artist:5bfglVyGJppmmNoC2rhBUG',\n FullArtist with fields:\n   external_urls = {'spotify'}\n   followers = Followers(href, total)\n   genres = [4 x str]\n   href = 'https://api.spotify.com/v1/artists/2jnIB6XdLvnJUeNTy5A0J2'\n   id = '2jnIB6XdLvnJUeNTy5A0J2'\n   images = [3 x Image(height, url, width)]\n   name = 'Why Don't We'\n   popularity = 72\n   type = 'artist'\n   uri = 'spotify:artist:2jnIB6XdLvnJUeNTy5A0J2',\n FullArtist with fields:\n   external_urls = {'spotify'}\n   followers = Followers(href, total)\n   genres = [5 x str]\n   href = 'https://api.spotify.com/v1/artists/07YZf4WDAMNwqr4jfgOZ8y'\n   id = '07YZf4WDAMNwqr4jfgOZ8y'\n   images = [3 x Image(height, url, width)]\n   name = 'Jason Derulo'\n   popularity = 80\n   type = 'artist'\n   uri = 'spotify:artist:07YZf4WDAMNwqr4jfgOZ8y',\n FullArtist with fields:\n   external_urls = {'spotify'}\n   followers = Followers(href, total)\n   genres = [3 x str]\n   href = 'https://api.spotify.com/v1/artists/1EfwyuCzDQpCslZc8C9gkG'\n   id = '1EfwyuCzDQpCslZc8C9gkG'\n   images = [3 x Image(height, url, width)]\n   name = 'SDP'\n   popularity = 66\n   type = 'artist'\n   uri = 'spotify:artist:1EfwyuCzDQpCslZc8C9gkG',\n FullArtist with fields:\n   external_urls = {'spotify'}\n   followers = Followers(href, total)\n   genres = [1 x str]\n   href = 'https://api.spotify.com/v1/artists/4Yttlv9ndGjCDCVLqM7ACq'\n   id = '4Yttlv9ndGjCDCVLqM7ACq'\n   images = [3 x Image(height, url, width)]\n   name = 'Sido'\n   popularity = 76\n   type = 'artist'\n   uri = 'spotify:artist:4Yttlv9ndGjCDCVLqM7ACq',\n FullArtist with fields:\n   external_urls = {'spotify'}\n   followers = Followers(href, total)\n   genres = [2 x str]\n   href = 'https://api.spotify.com/v1/artists/5j4HeCoUlzhfWtjAfM1acR'\n   id = '5j4HeCoUlzhfWtjAfM1acR'\n   images = [3 x Image(height, url, width)]\n   name = 'Stromae'\n   popularity = 75\n   type = 'artist'\n   uri = 'spotify:artist:5j4HeCoUlzhfWtjAfM1acR',\n FullArtist with fields:\n   external_urls = {'spotify'}\n   followers = Followers(href, total)\n   genres = [3 x str]\n   href = 'https://api.spotify.com/v1/artists/26T3LtbuGT1Fu9m0eRq5X3'\n   id = '26T3LtbuGT1Fu9m0eRq5X3'\n   images = [3 x Image(height, url, width)]\n   name = 'Cage The Elephant'\n   popularity = 75\n   type = 'artist'\n   uri = 'spotify:artist:26T3LtbuGT1Fu9m0eRq5X3',\n FullArtist with fields:\n   external_urls = {'spotify'}\n   followers = Followers(href, total)\n   genres = [1 x str]\n   href = 'https://api.spotify.com/v1/artists/0FEJqmeLRzsXj8hgcZaAyB'\n   id = '0FEJqmeLRzsXj8hgcZaAyB'\n   images = [3 x Image(height, url, width)]\n   name = 'Indila'\n   popularity = 70\n   type = 'artist'\n   uri = 'spotify:artist:0FEJqmeLRzsXj8hgcZaAyB',\n FullArtist with fields:\n   external_urls = {'spotify'}\n   followers = Followers(href, total)\n   genres = [1 x str]\n   href = 'https://api.spotify.com/v1/artists/6KImCVD70vtIoJWnq6nGn3'\n   id = '6KImCVD70vtIoJWnq6nGn3'\n   images = [3 x Image(height, url, width)]\n   name = 'Harry Styles'\n   popularity = 90\n   type = 'artist'\n   uri = 'spotify:artist:6KImCVD70vtIoJWnq6nGn3',\n FullArtist with fields:\n   external_urls = {'spotify'}\n   followers = Followers(href, total)\n   genres = [6 x str]\n   href = 'https://api.spotify.com/v1/artists/0PFtn5NtBbbUNbU9EAmIWF'\n   id = '0PFtn5NtBbbUNbU9EAmIWF'\n   images = [3 x Image(height, url, width)]\n   name = 'TOTO'\n   popularity = 73\n   type = 'artist'\n   uri = 'spotify:artist:0PFtn5NtBbbUNbU9EAmIWF',\n FullArtist with fields:\n   external_urls = {'spotify'}\n   followers = Followers(href, total)\n   genres = [11 x str]\n   href = 'https://api.spotify.com/v1/artists/0NKDgy9j66h3DLnN8qu1bB'\n   id = '0NKDgy9j66h3DLnN8qu1bB'\n   images = [3 x Image(height, url, width)]\n   name = 'Eurythmics'\n   popularity = 69\n   type = 'artist'\n   uri = 'spotify:artist:0NKDgy9j66h3DLnN8qu1bB',\n FullArtist with fields:\n   external_urls = {'spotify'}\n   followers = Followers(href, total)\n   genres = [5 x str]\n   href = 'https://api.spotify.com/v1/artists/5MspMQqdVbdwP6ax3GXqum'\n   id = '5MspMQqdVbdwP6ax3GXqum'\n   images = [3 x Image(height, url, width)]\n   name = 'Annie Lennox'\n   popularity = 71\n   type = 'artist'\n   uri = 'spotify:artist:5MspMQqdVbdwP6ax3GXqum',\n FullArtist with fields:\n   external_urls = {'spotify'}\n   followers = Followers(href, total)\n   genres = [2 x str]\n   href = 'https://api.spotify.com/v1/artists/7gcCQIlkkfbul5Mt0jBQkg'\n   id = '7gcCQIlkkfbul5Mt0jBQkg'\n   images = [3 x Image(height, url, width)]\n   name = 'Dave Stewart'\n   popularity = 69\n   type = 'artist'\n   uri = 'spotify:artist:7gcCQIlkkfbul5Mt0jBQkg',\n FullArtist with fields:\n   external_urls = {'spotify'}\n   followers = Followers(href, total)\n   genres = [1 x str]\n   href = 'https://api.spotify.com/v1/artists/2txHhyCwHjUEpJjWrEyqyX'\n   id = '2txHhyCwHjUEpJjWrEyqyX'\n   images = [3 x Image(height, url, width)]\n   name = 'Tom Odell'\n   popularity = 80\n   type = 'artist'\n   uri = 'spotify:artist:2txHhyCwHjUEpJjWrEyqyX',\n FullArtist with fields:\n   external_urls = {'spotify'}\n   followers = Followers(href, total)\n   genres = [2 x str]\n   href = 'https://api.spotify.com/v1/artists/7jVv8c5Fj3E9VhNjxT4snq'\n   id = '7jVv8c5Fj3E9VhNjxT4snq'\n   images = [3 x Image(height, url, width)]\n   name = 'Lil Nas X'\n   popularity = 83\n   type = 'artist'\n   uri = 'spotify:artist:7jVv8c5Fj3E9VhNjxT4snq',\n FullArtist with fields:\n   external_urls = {'spotify'}\n   followers = Followers(href, total)\n   genres = [1 x str]\n   href = 'https://api.spotify.com/v1/artists/06HL4z0CvFAxyc27GXpf02'\n   id = '06HL4z0CvFAxyc27GXpf02'\n   images = [3 x Image(height, url, width)]\n   name = 'Taylor Swift'\n   popularity = 99\n   type = 'artist'\n   uri = 'spotify:artist:06HL4z0CvFAxyc27GXpf02',\n FullArtist with fields:\n   external_urls = {'spotify'}\n   followers = Followers(href, total)\n   genres = [6 x str]\n   href = 'https://api.spotify.com/v1/artists/61ipISvUVa5LkJlKZnm3Oo'\n   id = '61ipISvUVa5LkJlKZnm3Oo'\n   images = [3 x Image(height, url, width)]\n   name = 'Alle Farben'\n   popularity = 67\n   type = 'artist'\n   uri = 'spotify:artist:61ipISvUVa5LkJlKZnm3Oo',\n FullArtist with fields:\n   external_urls = {'spotify'}\n   followers = Followers(href, total)\n   genres = [1 x str]\n   href = 'https://api.spotify.com/v1/artists/5pXe6yFchq1oyYK3rq2A8i'\n   id = '5pXe6yFchq1oyYK3rq2A8i'\n   images = [3 x Image(height, url, width)]\n   name = 'KIDDO'\n   popularity = 66\n   type = 'artist'\n   uri = 'spotify:artist:5pXe6yFchq1oyYK3rq2A8i',\n FullArtist with fields:\n   external_urls = {'spotify'}\n   followers = Followers(href, total)\n   genres = [2 x str]\n   href = 'https://api.spotify.com/v1/artists/5ZY4M2aGiTaZQEP6HfqeJc'\n   id = '5ZY4M2aGiTaZQEP6HfqeJc'\n   images = [3 x Image(height, url, width)]\n   name = 'Montez'\n   popularity = 67\n   type = 'artist'\n   uri = 'spotify:artist:5ZY4M2aGiTaZQEP6HfqeJc',\n FullArtist with fields:\n   external_urls = {'spotify'}\n   followers = Followers(href, total)\n   genres = [6 x str]\n   href = 'https://api.spotify.com/v1/artists/7f5Zgnp2spUuuzKplmRkt7'\n   id = '7f5Zgnp2spUuuzKplmRkt7'\n   images = [3 x Image(height, url, width)]\n   name = 'Lost Frequencies'\n   popularity = 77\n   type = 'artist'\n   uri = 'spotify:artist:7f5Zgnp2spUuuzKplmRkt7',\n FullArtist with fields:\n   external_urls = {'spotify'}\n   followers = Followers(href, total)\n   genres = [2 x str]\n   href = 'https://api.spotify.com/v1/artists/6ydoSd3N2mwgwBHtF6K7eX'\n   id = '6ydoSd3N2mwgwBHtF6K7eX'\n   images = [3 x Image(height, url, width)]\n   name = 'Calum Scott'\n   popularity = 78\n   type = 'artist'\n   uri = 'spotify:artist:6ydoSd3N2mwgwBHtF6K7eX',\n FullArtist with fields:\n   external_urls = {'spotify'}\n   followers = Followers(href, total)\n   genres = [2 x str]\n   href = 'https://api.spotify.com/v1/artists/4iHNK0tOyZPYnBU7nGAgpQ'\n   id = '4iHNK0tOyZPYnBU7nGAgpQ'\n   images = [3 x Image(height, url, width)]\n   name = 'Mariah Carey'\n   popularity = 85\n   type = 'artist'\n   uri = 'spotify:artist:4iHNK0tOyZPYnBU7nGAgpQ',\n FullArtist with fields:\n   external_urls = {'spotify'}\n   followers = Followers(href, total)\n   genres = [1 x str]\n   href = 'https://api.spotify.com/v1/artists/6rqlONGmPuP2wJVSfliLBI'\n   id = '6rqlONGmPuP2wJVSfliLBI'\n   images = [3 x Image(height, url, width)]\n   name = 'Peter Fox'\n   popularity = 69\n   type = 'artist'\n   uri = 'spotify:artist:6rqlONGmPuP2wJVSfliLBI',\n FullArtist with fields:\n   external_urls = {'spotify'}\n   followers = Followers(href, total)\n   genres = [1 x str]\n   href = 'https://api.spotify.com/v1/artists/4Ly0KABsxlx4fNj63zJTrF'\n   id = '4Ly0KABsxlx4fNj63zJTrF'\n   images = [3 x Image(height, url, width)]\n   name = 'Seafret'\n   popularity = 74\n   type = 'artist'\n   uri = 'spotify:artist:4Ly0KABsxlx4fNj63zJTrF',\n FullArtist with fields:\n   external_urls = {'spotify'}\n   followers = Followers(href, total)\n   genres = [4 x str]\n   href = 'https://api.spotify.com/v1/artists/4phGZZrJZRo4ElhRtViYdl'\n   id = '4phGZZrJZRo4ElhRtViYdl'\n   images = [3 x Image(height, url, width)]\n   name = 'Jason Mraz'\n   popularity = 74\n   type = 'artist'\n   uri = 'spotify:artist:4phGZZrJZRo4ElhRtViYdl',\n FullArtist with fields:\n   external_urls = {'spotify'}\n   followers = Followers(href, total)\n   genres = [7 x str]\n   href = 'https://api.spotify.com/v1/artists/0u6GtibW46tFX7koQ6uNJZ'\n   id = '0u6GtibW46tFX7koQ6uNJZ'\n   images = [3 x Image(height, url, width)]\n   name = 'Topic'\n   popularity = 75\n   type = 'artist'\n   uri = 'spotify:artist:0u6GtibW46tFX7koQ6uNJZ',\n FullArtist with fields:\n   external_urls = {'spotify'}\n   followers = Followers(href, total)\n   genres = [2 x str]\n   href = 'https://api.spotify.com/v1/artists/5Pwc4xIPtQLFEnJriah9YJ'\n   id = '5Pwc4xIPtQLFEnJriah9YJ'\n   images = [3 x Image(height, url, width)]\n   name = 'OneRepublic'\n   popularity = 85\n   type = 'artist'\n   uri = 'spotify:artist:5Pwc4xIPtQLFEnJriah9YJ',\n FullArtist with fields:\n   external_urls = {'spotify'}\n   followers = Followers(href, total)\n   genres = [1 x str]\n   href = 'https://api.spotify.com/v1/artists/0ql0Aw24KJaMeOVlwadzFE'\n   id = '0ql0Aw24KJaMeOVlwadzFE'\n   images = [3 x Image(height, url, width)]\n   name = 'fiedlerski'\n   popularity = 42\n   type = 'artist'\n   uri = 'spotify:artist:0ql0Aw24KJaMeOVlwadzFE',\n FullArtist with fields:\n   external_urls = {'spotify'}\n   followers = Followers(href, total)\n   genres = [1 x str]\n   href = 'https://api.spotify.com/v1/artists/1QDigvoDqzcojpLCK6soAb'\n   id = '1QDigvoDqzcojpLCK6soAb'\n   images = [3 x Image(height, url, width)]\n   name = 'Alicja'\n   popularity = 34\n   type = 'artist'\n   uri = 'spotify:artist:1QDigvoDqzcojpLCK6soAb',\n FullArtist with fields:\n   external_urls = {'spotify'}\n   followers = Followers(href, total)\n   genres = [1 x str]\n   href = 'https://api.spotify.com/v1/artists/2yqHVMUJy2Wxl7HVsp4Se5'\n   id = '2yqHVMUJy2Wxl7HVsp4Se5'\n   images = [3 x Image(height, url, width)]\n   name = 'remme'\n   popularity = 50\n   type = 'artist'\n   uri = 'spotify:artist:2yqHVMUJy2Wxl7HVsp4Se5',\n FullArtist with fields:\n   external_urls = {'spotify'}\n   followers = Followers(href, total)\n   genres = [0 x str]\n   href = 'https://api.spotify.com/v1/artists/5PeQ24Ru3fypcBborc8IeN'\n   id = '5PeQ24Ru3fypcBborc8IeN'\n   images = [3 x Image(height, url, width)]\n   name = 'Jacksepticeye'\n   popularity = 43\n   type = 'artist'\n   uri = 'spotify:artist:5PeQ24Ru3fypcBborc8IeN',\n FullArtist with fields:\n   external_urls = {'spotify'}\n   followers = Followers(href, total)\n   genres = [5 x str]\n   href = 'https://api.spotify.com/v1/artists/0V8tQXWkKPD5SxsB2moGew'\n   id = '0V8tQXWkKPD5SxsB2moGew'\n   images = [3 x Image(height, url, width)]\n   name = 'The Gregory Brothers'\n   popularity = 58\n   type = 'artist'\n   uri = 'spotify:artist:0V8tQXWkKPD5SxsB2moGew',\n FullArtist with fields:\n   external_urls = {'spotify'}\n   followers = Followers(href, total)\n   genres = [3 x str]\n   href = 'https://api.spotify.com/v1/artists/0MZ55DwuMQ1B2TXq9lcrE4'\n   id = '0MZ55DwuMQ1B2TXq9lcrE4'\n   images = [3 x Image(height, url, width)]\n   name = 'Kraftklub'\n   popularity = 66\n   type = 'artist'\n   uri = 'spotify:artist:0MZ55DwuMQ1B2TXq9lcrE4',\n FullArtist with fields:\n   external_urls = {'spotify'}\n   followers = Followers(href, total)\n   genres = [1 x str]\n   href = 'https://api.spotify.com/v1/artists/6mzs66iVW15C5iLt0JLt41'\n   id = '6mzs66iVW15C5iLt0JLt41'\n   images = [3 x Image(height, url, width)]\n   name = 'ILIRA'\n   popularity = 61\n   type = 'artist'\n   uri = 'spotify:artist:6mzs66iVW15C5iLt0JLt41',\n FullArtist with fields:\n   external_urls = {'spotify'}\n   followers = Followers(href, total)\n   genres = [3 x str]\n   href = 'https://api.spotify.com/v1/artists/0MZ55DwuMQ1B2TXq9lcrE4'\n   id = '0MZ55DwuMQ1B2TXq9lcrE4'\n   images = [3 x Image(height, url, width)]\n   name = 'Kraftklub'\n   popularity = 66\n   type = 'artist'\n   uri = 'spotify:artist:0MZ55DwuMQ1B2TXq9lcrE4',\n FullArtist with fields:\n   external_urls = {'spotify'}\n   followers = Followers(href, total)\n   genres = [1 x str]\n   href = 'https://api.spotify.com/v1/artists/2VSHKHBTiXWplO8lxcnUC9'\n   id = '2VSHKHBTiXWplO8lxcnUC9'\n   images = [3 x Image(height, url, width)]\n   name = 'GAYLE'\n   popularity = 71\n   type = 'artist'\n   uri = 'spotify:artist:2VSHKHBTiXWplO8lxcnUC9',\n FullArtist with fields:\n   external_urls = {'spotify'}\n   followers = Followers(href, total)\n   genres = [0 x str]\n   href = 'https://api.spotify.com/v1/artists/73x7tbnCDhYqVxrbuq0dtz'\n   id = '73x7tbnCDhYqVxrbuq0dtz'\n   images = [0 x Image(height, url, width)]\n   name = 'Millé'\n   popularity = 0\n   type = 'artist'\n   uri = 'spotify:artist:73x7tbnCDhYqVxrbuq0dtz',\n FullArtist with fields:\n   external_urls = {'spotify'}\n   followers = Followers(href, total)\n   genres = [0 x str]\n   href = 'https://api.spotify.com/v1/artists/525GU041EGIS2uP04pY8fM'\n   id = '525GU041EGIS2uP04pY8fM'\n   images = [0 x Image(height, url, width)]\n   name = 'Malou Prytz'\n   popularity = 0\n   type = 'artist'\n   uri = 'spotify:artist:525GU041EGIS2uP04pY8fM',\n FullArtist with fields:\n   external_urls = {'spotify'}\n   followers = Followers(href, total)\n   genres = [0 x str]\n   href = 'https://api.spotify.com/v1/artists/29PgYEggDV3cDP9QYTogwv'\n   id = '29PgYEggDV3cDP9QYTogwv'\n   images = [3 x Image(height, url, width)]\n   name = 'Carolina Gaitán - La Gaita'\n   popularity = 63\n   type = 'artist'\n   uri = 'spotify:artist:29PgYEggDV3cDP9QYTogwv',\n FullArtist with fields:\n   external_urls = {'spotify'}\n   followers = Followers(href, total)\n   genres = [2 x str]\n   href = 'https://api.spotify.com/v1/artists/36CUTsdtNgCwMq6zKD1l8I'\n   id = '36CUTsdtNgCwMq6zKD1l8I'\n   images = [3 x Image(height, url, width)]\n   name = 'Mauro Castillo'\n   popularity = 63\n   type = 'artist'\n   uri = 'spotify:artist:36CUTsdtNgCwMq6zKD1l8I',\n FullArtist with fields:\n   external_urls = {'spotify'}\n   followers = Followers(href, total)\n   genres = [2 x str]\n   href = 'https://api.spotify.com/v1/artists/72kqSqk124Vnl1wtT6q9Fh'\n   id = '72kqSqk124Vnl1wtT6q9Fh'\n   images = [3 x Image(height, url, width)]\n   name = 'Adassa'\n   popularity = 63\n   type = 'artist'\n   uri = 'spotify:artist:72kqSqk124Vnl1wtT6q9Fh',\n FullArtist with fields:\n   external_urls = {'spotify'}\n   followers = Followers(href, total)\n   genres = [0 x str]\n   href = 'https://api.spotify.com/v1/artists/2as15AH2BTrPk8v4gyElmr'\n   id = '2as15AH2BTrPk8v4gyElmr'\n   images = [0 x Image(height, url, width)]\n   name = 'Rhenzy Feliz'\n   popularity = 61\n   type = 'artist'\n   uri = 'spotify:artist:2as15AH2BTrPk8v4gyElmr',\n FullArtist with fields:\n   external_urls = {'spotify'}\n   followers = Followers(href, total)\n   genres = [0 x str]\n   href = 'https://api.spotify.com/v1/artists/18MFcGBHtyW0mU3ufcm0X1'\n   id = '18MFcGBHtyW0mU3ufcm0X1'\n   images = [3 x Image(height, url, width)]\n   name = 'Diane Guerrero'\n   popularity = 64\n   type = 'artist'\n   uri = 'spotify:artist:18MFcGBHtyW0mU3ufcm0X1',\n FullArtist with fields:\n   external_urls = {'spotify'}\n   followers = Followers(href, total)\n   genres = [2 x str]\n   href = 'https://api.spotify.com/v1/artists/5PYToRCsrnvikZg3yl2JMr'\n   id = '5PYToRCsrnvikZg3yl2JMr'\n   images = [3 x Image(height, url, width)]\n   name = 'Stephanie Beatriz'\n   popularity = 69\n   type = 'artist'\n   uri = 'spotify:artist:5PYToRCsrnvikZg3yl2JMr',\n FullArtist with fields:\n   external_urls = {'spotify'}\n   followers = Followers(href, total)\n   genres = [0 x str]\n   href = 'https://api.spotify.com/v1/artists/3xLU748QxpTmIVaiNXXg0P'\n   id = '3xLU748QxpTmIVaiNXXg0P'\n   images = [3 x Image(height, url, width)]\n   name = 'Encanto - Cast'\n   popularity = 66\n   type = 'artist'\n   uri = 'spotify:artist:3xLU748QxpTmIVaiNXXg0P',\n FullArtist with fields:\n   external_urls = {'spotify'}\n   followers = Followers(href, total)\n   genres = [2 x str]\n   href = 'https://api.spotify.com/v1/artists/53XhwfbYqKCa1cC15pYq2q'\n   id = '53XhwfbYqKCa1cC15pYq2q'\n   images = [3 x Image(height, url, width)]\n   name = 'Imagine Dragons'\n   popularity = 89\n   type = 'artist'\n   uri = 'spotify:artist:53XhwfbYqKCa1cC15pYq2q',\n FullArtist with fields:\n   external_urls = {'spotify'}\n   followers = Followers(href, total)\n   genres = [2 x str]\n   href = 'https://api.spotify.com/v1/artists/6U3ybJ9UHNKEdsH7ktGBZ7'\n   id = '6U3ybJ9UHNKEdsH7ktGBZ7'\n   images = [3 x Image(height, url, width)]\n   name = 'JID'\n   popularity = 79\n   type = 'artist'\n   uri = 'spotify:artist:6U3ybJ9UHNKEdsH7ktGBZ7',\n FullArtist with fields:\n   external_urls = {'spotify'}\n   followers = Followers(href, total)\n   genres = [0 x str]\n   href = 'https://api.spotify.com/v1/artists/57nPqD7z62gDdq37US9XJR'\n   id = '57nPqD7z62gDdq37US9XJR'\n   images = [3 x Image(height, url, width)]\n   name = 'Arcane'\n   popularity = 74\n   type = 'artist'\n   uri = 'spotify:artist:57nPqD7z62gDdq37US9XJR',\n FullArtist with fields:\n   external_urls = {'spotify'}\n   followers = Followers(href, total)\n   genres = [2 x str]\n   href = 'https://api.spotify.com/v1/artists/47mIJdHORyRerp4os813jD'\n   id = '47mIJdHORyRerp4os813jD'\n   images = [3 x Image(height, url, width)]\n   name = 'League of Legends'\n   popularity = 80\n   type = 'artist'\n   uri = 'spotify:artist:47mIJdHORyRerp4os813jD',\n FullArtist with fields:\n   external_urls = {'spotify'}\n   followers = Followers(href, total)\n   genres = [1 x str]\n   href = 'https://api.spotify.com/v1/artists/5bfglVyGJppmmNoC2rhBUG'\n   id = '5bfglVyGJppmmNoC2rhBUG'\n   images = [3 x Image(height, url, width)]\n   name = 'Natalie Jane'\n   popularity = 68\n   type = 'artist'\n   uri = 'spotify:artist:5bfglVyGJppmmNoC2rhBUG',\n FullArtist with fields:\n   external_urls = {'spotify'}\n   followers = Followers(href, total)\n   genres = [4 x str]\n   href = 'https://api.spotify.com/v1/artists/2jnIB6XdLvnJUeNTy5A0J2'\n   id = '2jnIB6XdLvnJUeNTy5A0J2'\n   images = [3 x Image(height, url, width)]\n   name = 'Why Don't We'\n   popularity = 72\n   type = 'artist'\n   uri = 'spotify:artist:2jnIB6XdLvnJUeNTy5A0J2',\n FullArtist with fields:\n   external_urls = {'spotify'}\n   followers = Followers(href, total)\n   genres = [5 x str]\n   href = 'https://api.spotify.com/v1/artists/07YZf4WDAMNwqr4jfgOZ8y'\n   id = '07YZf4WDAMNwqr4jfgOZ8y'\n   images = [3 x Image(height, url, width)]\n   name = 'Jason Derulo'\n   popularity = 80\n   type = 'artist'\n   uri = 'spotify:artist:07YZf4WDAMNwqr4jfgOZ8y',\n FullArtist with fields:\n   external_urls = {'spotify'}\n   followers = Followers(href, total)\n   genres = [3 x str]\n   href = 'https://api.spotify.com/v1/artists/1EfwyuCzDQpCslZc8C9gkG'\n   id = '1EfwyuCzDQpCslZc8C9gkG'\n   images = [3 x Image(height, url, width)]\n   name = 'SDP'\n   popularity = 66\n   type = 'artist'\n   uri = 'spotify:artist:1EfwyuCzDQpCslZc8C9gkG',\n FullArtist with fields:\n   external_urls = {'spotify'}\n   followers = Followers(href, total)\n   genres = [1 x str]\n   href = 'https://api.spotify.com/v1/artists/4Yttlv9ndGjCDCVLqM7ACq'\n   id = '4Yttlv9ndGjCDCVLqM7ACq'\n   images = [3 x Image(height, url, width)]\n   name = 'Sido'\n   popularity = 76\n   type = 'artist'\n   uri = 'spotify:artist:4Yttlv9ndGjCDCVLqM7ACq',\n FullArtist with fields:\n   external_urls = {'spotify'}\n   followers = Followers(href, total)\n   genres = [2 x str]\n   href = 'https://api.spotify.com/v1/artists/5j4HeCoUlzhfWtjAfM1acR'\n   id = '5j4HeCoUlzhfWtjAfM1acR'\n   images = [3 x Image(height, url, width)]\n   name = 'Stromae'\n   popularity = 75\n   type = 'artist'\n   uri = 'spotify:artist:5j4HeCoUlzhfWtjAfM1acR',\n FullArtist with fields:\n   external_urls = {'spotify'}\n   followers = Followers(href, total)\n   genres = [3 x str]\n   href = 'https://api.spotify.com/v1/artists/26T3LtbuGT1Fu9m0eRq5X3'\n   id = '26T3LtbuGT1Fu9m0eRq5X3'\n   images = [3 x Image(height, url, width)]\n   name = 'Cage The Elephant'\n   popularity = 75\n   type = 'artist'\n   uri = 'spotify:artist:26T3LtbuGT1Fu9m0eRq5X3',\n FullArtist with fields:\n   external_urls = {'spotify'}\n   followers = Followers(href, total)\n   genres = [1 x str]\n   href = 'https://api.spotify.com/v1/artists/0FEJqmeLRzsXj8hgcZaAyB'\n   id = '0FEJqmeLRzsXj8hgcZaAyB'\n   images = [3 x Image(height, url, width)]\n   name = 'Indila'\n   popularity = 70\n   type = 'artist'\n   uri = 'spotify:artist:0FEJqmeLRzsXj8hgcZaAyB',\n FullArtist with fields:\n   external_urls = {'spotify'}\n   followers = Followers(href, total)\n   genres = [1 x str]\n   href = 'https://api.spotify.com/v1/artists/6KImCVD70vtIoJWnq6nGn3'\n   id = '6KImCVD70vtIoJWnq6nGn3'\n   images = [3 x Image(height, url, width)]\n   name = 'Harry Styles'\n   popularity = 90\n   type = 'artist'\n   uri = 'spotify:artist:6KImCVD70vtIoJWnq6nGn3',\n FullArtist with fields:\n   external_urls = {'spotify'}\n   followers = Followers(href, total)\n   genres = [6 x str]\n   href = 'https://api.spotify.com/v1/artists/0PFtn5NtBbbUNbU9EAmIWF'\n   id = '0PFtn5NtBbbUNbU9EAmIWF'\n   images = [3 x Image(height, url, width)]\n   name = 'TOTO'\n   popularity = 73\n   type = 'artist'\n   uri = 'spotify:artist:0PFtn5NtBbbUNbU9EAmIWF',\n FullArtist with fields:\n   external_urls = {'spotify'}\n   followers = Followers(href, total)\n   genres = [11 x str]\n   href = 'https://api.spotify.com/v1/artists/0NKDgy9j66h3DLnN8qu1bB'\n   id = '0NKDgy9j66h3DLnN8qu1bB'\n   images = [3 x Image(height, url, width)]\n   name = 'Eurythmics'\n   popularity = 69\n   type = 'artist'\n   uri = 'spotify:artist:0NKDgy9j66h3DLnN8qu1bB',\n FullArtist with fields:\n   external_urls = {'spotify'}\n   followers = Followers(href, total)\n   genres = [5 x str]\n   href = 'https://api.spotify.com/v1/artists/5MspMQqdVbdwP6ax3GXqum'\n   id = '5MspMQqdVbdwP6ax3GXqum'\n   images = [3 x Image(height, url, width)]\n   name = 'Annie Lennox'\n   popularity = 71\n   type = 'artist'\n   uri = 'spotify:artist:5MspMQqdVbdwP6ax3GXqum',\n FullArtist with fields:\n   external_urls = {'spotify'}\n   followers = Followers(href, total)\n   genres = [2 x str]\n   href = 'https://api.spotify.com/v1/artists/7gcCQIlkkfbul5Mt0jBQkg'\n   id = '7gcCQIlkkfbul5Mt0jBQkg'\n   images = [3 x Image(height, url, width)]\n   name = 'Dave Stewart'\n   popularity = 69\n   type = 'artist'\n   uri = 'spotify:artist:7gcCQIlkkfbul5Mt0jBQkg',\n FullArtist with fields:\n   external_urls = {'spotify'}\n   followers = Followers(href, total)\n   genres = [1 x str]\n   href = 'https://api.spotify.com/v1/artists/2txHhyCwHjUEpJjWrEyqyX'\n   id = '2txHhyCwHjUEpJjWrEyqyX'\n   images = [3 x Image(height, url, width)]\n   name = 'Tom Odell'\n   popularity = 80\n   type = 'artist'\n   uri = 'spotify:artist:2txHhyCwHjUEpJjWrEyqyX',\n FullArtist with fields:\n   external_urls = {'spotify'}\n   followers = Followers(href, total)\n   genres = [2 x str]\n   href = 'https://api.spotify.com/v1/artists/7jVv8c5Fj3E9VhNjxT4snq'\n   id = '7jVv8c5Fj3E9VhNjxT4snq'\n   images = [3 x Image(height, url, width)]\n   name = 'Lil Nas X'\n   popularity = 83\n   type = 'artist'\n   uri = 'spotify:artist:7jVv8c5Fj3E9VhNjxT4snq',\n FullArtist with fields:\n   external_urls = {'spotify'}\n   followers = Followers(href, total)\n   genres = [1 x str]\n   href = 'https://api.spotify.com/v1/artists/06HL4z0CvFAxyc27GXpf02'\n   id = '06HL4z0CvFAxyc27GXpf02'\n   images = [3 x Image(height, url, width)]\n   name = 'Taylor Swift'\n   popularity = 99\n   type = 'artist'\n   uri = 'spotify:artist:06HL4z0CvFAxyc27GXpf02',\n FullArtist with fields:\n   external_urls = {'spotify'}\n   followers = Followers(href, total)\n   genres = [6 x str]\n   href = 'https://api.spotify.com/v1/artists/61ipISvUVa5LkJlKZnm3Oo'\n   id = '61ipISvUVa5LkJlKZnm3Oo'\n   images = [3 x Image(height, url, width)]\n   name = 'Alle Farben'\n   popularity = 67\n   type = 'artist'\n   uri = 'spotify:artist:61ipISvUVa5LkJlKZnm3Oo',\n FullArtist with fields:\n   external_urls = {'spotify'}\n   followers = Followers(href, total)\n   genres = [1 x str]\n   href = 'https://api.spotify.com/v1/artists/5pXe6yFchq1oyYK3rq2A8i'\n   id = '5pXe6yFchq1oyYK3rq2A8i'\n   images = [3 x Image(height, url, width)]\n   name = 'KIDDO'\n   popularity = 66\n   type = 'artist'\n   uri = 'spotify:artist:5pXe6yFchq1oyYK3rq2A8i',\n FullArtist with fields:\n   external_urls = {'spotify'}\n   followers = Followers(href, total)\n   genres = [2 x str]\n   href = 'https://api.spotify.com/v1/artists/5ZY4M2aGiTaZQEP6HfqeJc'\n   id = '5ZY4M2aGiTaZQEP6HfqeJc'\n   images = [3 x Image(height, url, width)]\n   name = 'Montez'\n   popularity = 67\n   type = 'artist'\n   uri = 'spotify:artist:5ZY4M2aGiTaZQEP6HfqeJc',\n FullArtist with fields:\n   external_urls = {'spotify'}\n   followers = Followers(href, total)\n   genres = [6 x str]\n   href = 'https://api.spotify.com/v1/artists/7f5Zgnp2spUuuzKplmRkt7'\n   id = '7f5Zgnp2spUuuzKplmRkt7'\n   images = [3 x Image(height, url, width)]\n   name = 'Lost Frequencies'\n   popularity = 77\n   type = 'artist'\n   uri = 'spotify:artist:7f5Zgnp2spUuuzKplmRkt7',\n FullArtist with fields:\n   external_urls = {'spotify'}\n   followers = Followers(href, total)\n   genres = [2 x str]\n   href = 'https://api.spotify.com/v1/artists/6ydoSd3N2mwgwBHtF6K7eX'\n   id = '6ydoSd3N2mwgwBHtF6K7eX'\n   images = [3 x Image(height, url, width)]\n   name = 'Calum Scott'\n   popularity = 78\n   type = 'artist'\n   uri = 'spotify:artist:6ydoSd3N2mwgwBHtF6K7eX',\n FullArtist with fields:\n   external_urls = {'spotify'}\n   followers = Followers(href, total)\n   genres = [2 x str]\n   href = 'https://api.spotify.com/v1/artists/4iHNK0tOyZPYnBU7nGAgpQ'\n   id = '4iHNK0tOyZPYnBU7nGAgpQ'\n   images = [3 x Image(height, url, width)]\n   name = 'Mariah Carey'\n   popularity = 85\n   type = 'artist'\n   uri = 'spotify:artist:4iHNK0tOyZPYnBU7nGAgpQ',\n FullArtist with fields:\n   external_urls = {'spotify'}\n   followers = Followers(href, total)\n   genres = [1 x str]\n   href = 'https://api.spotify.com/v1/artists/6rqlONGmPuP2wJVSfliLBI'\n   id = '6rqlONGmPuP2wJVSfliLBI'\n   images = [3 x Image(height, url, width)]\n   name = 'Peter Fox'\n   popularity = 69\n   type = 'artist'\n   uri = 'spotify:artist:6rqlONGmPuP2wJVSfliLBI',\n FullArtist with fields:\n   external_urls = {'spotify'}\n   followers = Followers(href, total)\n   genres = [1 x str]\n   href = 'https://api.spotify.com/v1/artists/4Ly0KABsxlx4fNj63zJTrF'\n   id = '4Ly0KABsxlx4fNj63zJTrF'\n   images = [3 x Image(height, url, width)]\n   name = 'Seafret'\n   popularity = 74\n   type = 'artist'\n   uri = 'spotify:artist:4Ly0KABsxlx4fNj63zJTrF',\n FullArtist with fields:\n   external_urls = {'spotify'}\n   followers = Followers(href, total)\n   genres = [4 x str]\n   href = 'https://api.spotify.com/v1/artists/4phGZZrJZRo4ElhRtViYdl'\n   id = '4phGZZrJZRo4ElhRtViYdl'\n   images = [3 x Image(height, url, width)]\n   name = 'Jason Mraz'\n   popularity = 74\n   type = 'artist'\n   uri = 'spotify:artist:4phGZZrJZRo4ElhRtViYdl',\n FullArtist with fields:\n   external_urls = {'spotify'}\n   followers = Followers(href, total)\n   genres = [7 x str]\n   href = 'https://api.spotify.com/v1/artists/0u6GtibW46tFX7koQ6uNJZ'\n   id = '0u6GtibW46tFX7koQ6uNJZ'\n   images = [3 x Image(height, url, width)]\n   name = 'Topic'\n   popularity = 75\n   type = 'artist'\n   uri = 'spotify:artist:0u6GtibW46tFX7koQ6uNJZ',\n FullArtist with fields:\n   external_urls = {'spotify'}\n   followers = Followers(href, total)\n   genres = [1 x str]\n   href = 'https://api.spotify.com/v1/artists/5Wg2b4Mp42gicxEeDNawf7'\n   id = '5Wg2b4Mp42gicxEeDNawf7'\n   images = [3 x Image(height, url, width)]\n   name = 'A7S'\n   popularity = 72\n   type = 'artist'\n   uri = 'spotify:artist:5Wg2b4Mp42gicxEeDNawf7']"
     },
     "execution_count": 8,
     "metadata": {},
     "output_type": "execute_result"
    }
   ],
   "source": [
    "from project.util import Partition\n",
    "\n",
    "artist_id_limit=50\n",
    "artist_ids = [artist.id for track in tracks for artist in track.artists]\n",
    "artist_id_partitions = Partition(artist_ids)\n",
    "artists = [spotify.artists(ids) for ids in artist_id_partitions]\n",
    "artists = [artist for partition in artists for artist in partition]\n",
    "artists"
   ],
   "metadata": {
    "collapsed": false
   }
  },
  {
   "cell_type": "code",
   "execution_count": 9,
   "outputs": [],
   "source": [
    "import pylast\n",
    "from authentication.lastfm_credentials import LastFmCredentials\n",
    "from lastfm import LastFmScraper, LastFmProxy\n",
    "\n",
    "creds = LastFmCredentials(env[\"LASTFM_API_KEY\"], env[\"LASTFM_SHARED_SECRET\"])\n",
    "last_network = pylast.LastFMNetwork(\n",
    "    api_key=creds.api_key,\n",
    "    api_secret=creds.shared_secret,\n",
    ")\n",
    "\n",
    "lastfm = LastFmProxy(last_network, LastFmScraper())"
   ],
   "metadata": {
    "collapsed": false
   }
  },
  {
   "cell_type": "code",
   "execution_count": 10,
   "outputs": [],
   "source": [
    "import track as model\n",
    "analyzed_tracks = model.AnalyzedTracks(tracks, artists)"
   ],
   "metadata": {
    "collapsed": false
   }
  },
  {
   "cell_type": "code",
   "execution_count": 11,
   "outputs": [
    {
     "name": "stdout",
     "output_type": "stream",
     "text": [
      "No tags 2X5gs8HvIDmZQ2rlWmkscx Athen ['Georg Stengel']\n",
      "No tags 3Yww1k7Up2ja2ytfmXjJp8 Wonderful Dream (Holidays Are Coming) - Radio Version []\n",
      "No tags 3rb0tMq42WfggucPm0HHkA Bad Memories (feat. Elley Duhé & FAST BOY) []\n",
      "No tags 0yc6Gst2xkRu0eMLeRMGCX Apocalypse []\n",
      "No tags 6Hh6pxNSScePI9zjKBIUg2 Another Love []\n",
      "No tags 7nFJSfGvvV0WjatTZN6QYi Bamba (feat. Aitch & BIA) []\n",
      "No tags 0lizgQ7Qw35od7CYaoMBZb Santa Tell Me []\n",
      "No tags 7sJNeWTXkZCEC7OnFMpGWL Bamba (feat. Aitch & BIA) []\n",
      "No tags 2EjXfH91m7f8HiJN1yQg97 Rockin' Around The Christmas Tree []\n",
      "No tags 6qwedJNVRAS1gNyK4WQIlx As You Are []\n",
      "No tags 7dq9QIXx5eIz6w2MNzTan4 ALLEINE - SW43 L33 D1DO REMIX []\n",
      "No tags 4VXIryQMWpIdGgYR4TrjT1 All Girls Are The Same []\n",
      "No tags 5tYSTEEJGs5Vno1OchhVis Comment te dire adieu []\n",
      "No tags 2pXpURmn6zC5ZYDMms6fwa It's Beginning to Look a Lot Like Christmas (with Mitchell Ayres & His Orchestra) []\n",
      "No tags 77khP2fIVhSW23NwxrRluh A Holly Jolly Christmas []\n",
      "No tags 5a1iz510sv2W9Dt1MvFd5R It's Beginning to Look a Lot like Christmas []\n",
      "No tags 1rv46mRwDqMEhOBZ7vODg3 It's Beginning to Look a Lot like Christmas []\n",
      "No tags 2dHHgzDwk4BJdRwy9uXhTO Creepin' (with The Weeknd & 21 Savage) []\n"
     ]
    }
   ],
   "source": [
    "from project.track import TaggedTrack\n",
    "# TODO: fix empty artists\n",
    "for track in analyzed_tracks.tracks:\n",
    "    try:\n",
    "        tags = TaggedTrack(lastfm, track.name, track.artist_names).tags()\n",
    "        if len(tags) == 0:\n",
    "            raise Exception(\"No tags\")\n",
    "    except Exception as e:\n",
    "        print(e, track.id, track.name, track.artist_names)\n",
    "        continue\n",
    "    track.tags = tags"
   ],
   "metadata": {
    "collapsed": false
   }
  },
  {
   "cell_type": "markdown",
   "source": [
    "# Firebase"
   ],
   "metadata": {
    "collapsed": false
   }
  },
  {
   "cell_type": "code",
   "execution_count": 12,
   "outputs": [
    {
     "data": {
      "text/plain": "<firebase_admin.App at 0x7fb907967c40>"
     },
     "execution_count": 12,
     "metadata": {},
     "output_type": "execute_result"
    }
   ],
   "source": [
    "import firebase_admin\n",
    "from firebase_admin import credentials, firestore\n",
    "\n",
    "cred = credentials.ApplicationDefault()\n",
    "firebase_admin.initialize_app()"
   ],
   "metadata": {
    "collapsed": false
   }
  },
  {
   "cell_type": "code",
   "execution_count": 13,
   "outputs": [],
   "source": [
    "from google.cloud.firestore_v1 import Client\n",
    "\n",
    "firestore_client: Client = firestore.client()\n",
    "analyzed_tracks.upsert(firestore_client.collection(\"tracks\"))"
   ],
   "metadata": {
    "collapsed": false
   }
  },
  {
   "cell_type": "code",
   "execution_count": 14,
   "outputs": [],
   "source": [],
   "metadata": {
    "collapsed": false
   }
  }
 ],
 "metadata": {
  "kernelspec": {
   "display_name": "Python 3",
   "language": "python",
   "name": "python3"
  },
  "language_info": {
   "codemirror_mode": {
    "name": "ipython",
    "version": 2
   },
   "file_extension": ".py",
   "mimetype": "text/x-python",
   "name": "python",
   "nbconvert_exporter": "python",
   "pygments_lexer": "ipython2",
   "version": "2.7.6"
  }
 },
 "nbformat": 4,
 "nbformat_minor": 0
}
