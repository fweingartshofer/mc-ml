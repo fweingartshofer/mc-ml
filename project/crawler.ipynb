{
 "cells": [
  {
   "cell_type": "markdown",
   "source": [
    "# Server"
   ],
   "metadata": {
    "collapsed": false
   }
  },
  {
   "cell_type": "code",
   "execution_count": 12,
   "outputs": [],
   "source": [
    "import requests.exceptions\n",
    "import tekore as tk\n",
    "from dotenv import load_dotenv\n",
    "import httpx\n",
    "\n",
    "load_dotenv()\n",
    "\n",
    "conf = tk.config_from_environment()\n",
    "cred = tk.Credentials(*conf)\n",
    "\n",
    "# trans = httpx.HTTPTransport(retries=3)\n",
    "# client = httpx.Client(timeout=30, transport=trans)\n",
    "# sender = tk.SyncSender(client=client)\n",
    "spotify = tk.Spotify()\n",
    "\n",
    "host = '127.0.0.1'\n",
    "port = 5000"
   ],
   "metadata": {
    "collapsed": false
   }
  },
  {
   "cell_type": "code",
   "execution_count": 13,
   "metadata": {
    "collapsed": true
   },
   "outputs": [],
   "source": [
    "from os import environ as env\n",
    "import json\n",
    "from authentication.spotify_server import SpotifyServer\n",
    "try:\n",
    "    with open(\".spotify_credentials.json\", \"r\") as infile:\n",
    "        token_dict = json.load(infile)\n",
    "        token_dict[\"scope\"] = \" \".join(token_dict[\"scope\"])\n",
    "        spotify.token = tk.Token(token_dict, token_dict[\"uses_pkce\"])\n",
    "        spotify.token = cred.refresh(spotify.token)\n",
    "except Exception as e:\n",
    "    print(e)\n",
    "    app = SpotifyServer(host, port, spotify, cred)\n",
    "    spotify.token = app.spawn_single_use_server()"
   ]
  },
  {
   "cell_type": "code",
   "execution_count": 14,
   "outputs": [],
   "source": [
    "from typing import List\n",
    "token: tk.Token = spotify.token\n",
    "scopes: List[str] = list(token.scope)\n",
    "token_dict = {\n",
    "    \"token_type\": token.token_type,\n",
    "    \"access_token\": token.access_token,\n",
    "    \"refresh_token\": token.refresh_token,\n",
    "    \"scope\": scopes[0].replace(\"[\", \"\").replace(\"]\", \"\").replace(\"'\", \"\").split(\", \") if len(scopes) == 0 else scopes,\n",
    "    \"expires_at\": token.expires_at,\n",
    "    \"uses_pkce\": token.uses_pkce,\n",
    "    \"expires_in\": 0\n",
    "}\n",
    "json_object = json.dumps(token_dict, indent=4)\n",
    "with open(\".spotify_credentials.json\", \"w\") as outfile:\n",
    "    outfile.write(json_object)"
   ],
   "metadata": {
    "collapsed": false
   }
  },
  {
   "cell_type": "markdown",
   "source": [
    "# Spotify API"
   ],
   "metadata": {
    "collapsed": false
   }
  },
  {
   "cell_type": "code",
   "execution_count": 15,
   "outputs": [],
   "source": [
    "spotify.token = cred.refresh(spotify.token)"
   ],
   "metadata": {
    "collapsed": false
   }
  },
  {
   "cell_type": "code",
   "execution_count": 16,
   "outputs": [
    {
     "data": {
      "text/plain": "['God Was Never on Your Side',\n 'Going Hunting',\n 'The Game (Triple H)',\n 'Ghost From The Barrow',\n \"God's Wrath\",\n 'Götterdämmerung',\n 'Get It Crackin - Sefa Remix',\n 'VICTORY OR DEATH (WE GAVE ‘EM HELL) (feat. Campino of Die Toten Hosen)',\n 'Let It Go',\n 'goosebumps',\n 'Schwarz Tot Gold',\n 'Let It Go',\n 'I Gotta Feeling',\n 'Gegen den Wind - Piano Version',\n 'Das ist alles von der Kunstfreiheit gedeckt',\n \"You're Gonna Go Far, Kid\",\n \"Gangsta's Paradise\",\n \"I'm Good (Blue)\",\n 'My Own Grave',\n 'Gimme! Gimme! Gimme! (A Man After Midnight)',\n 'Godzilla (feat. Juice WRLD)',\n 'good 4 u',\n 'GigaChad Theme - Phonk House Version',\n 'Bloody Mary',\n 'Green Green Grass',\n 'Get Shaky',\n 'Give It To Me',\n 'Grenade',\n 'Glimpse of Us',\n 'Glatteis',\n 'Gold',\n \"Thank God It's Christmas - Non-Album Single\",\n \"God's Plan\",\n 'Go Solo',\n 'Gad',\n \"I Ain't Worried\",\n 'Give Me Everything (feat. Ne-Yo, Afrojack & Nayer)',\n 'Give It To Me - Full Vocal Mix',\n '61 Grad (Deep House RMX)',\n 'Geschenk',\n 'How Do I Say Goodbye',\n 'golden hour',\n 'Escapism.',\n 'Santa Tell Me',\n 'Gott sei Dank',\n 'Beautiful Girl',\n 'Calm Down (with Selena Gomez)',\n 'LET GO',\n 'Doppel G',\n 'Beautiful Girl']"
     },
     "execution_count": 16,
     "metadata": {},
     "output_type": "execute_result"
    }
   ],
   "source": [
    "from project.random_track import RandomTrack\n",
    "\n",
    "rndTrack = RandomTrack(spotify, cred)\n",
    "tracks = rndTrack.random_tracks()\n",
    "[track.name for track in tracks]"
   ],
   "metadata": {
    "collapsed": false
   }
  },
  {
   "cell_type": "code",
   "execution_count": 17,
   "outputs": [
    {
     "data": {
      "text/plain": "68"
     },
     "execution_count": 17,
     "metadata": {},
     "output_type": "execute_result"
    }
   ],
   "source": [
    "from project.util import Partition\n",
    "\n",
    "artist_ids = [artist.id for track in tracks for artist in track.artists]\n",
    "artist_id_partitions = Partition(artist_ids)\n",
    "artists = [spotify.artists(ids) for ids in artist_id_partitions]\n",
    "artists: List[tk.model.FullArtist] = list(artist for partition in artists for artist in partition)\n",
    "len(artists)"
   ],
   "metadata": {
    "collapsed": false
   }
  },
  {
   "cell_type": "code",
   "execution_count": 18,
   "outputs": [],
   "source": [
    "import pylast\n",
    "from authentication.lastfm_credentials import LastFmCredentials\n",
    "from lastfm import LastFmScraper, LastFmProxy\n",
    "\n",
    "creds = LastFmCredentials(env[\"LASTFM_API_KEY\"], env[\"LASTFM_SHARED_SECRET\"])\n",
    "last_network = pylast.LastFMNetwork(\n",
    "    api_key=creds.api_key,\n",
    "    api_secret=creds.shared_secret,\n",
    ")\n",
    "\n",
    "lastfm = LastFmProxy(last_network, LastFmScraper())"
   ],
   "metadata": {
    "collapsed": false
   }
  },
  {
   "cell_type": "code",
   "execution_count": 19,
   "outputs": [],
   "source": [
    "import track as model\n",
    "analyzed_tracks = model.AnalyzedTracks(tracks, artists)"
   ],
   "metadata": {
    "collapsed": false
   }
  },
  {
   "cell_type": "code",
   "execution_count": 20,
   "outputs": [
    {
     "name": "stdout",
     "output_type": "stream",
     "text": [
      "No tags 5ZNa6S7agmCmaEnxIHE73m Get Shaky ['TurboKevin', 'KXXMA']\n",
      "No tags 4D7qV8IeK3Rt5zhqRTZHSN Geschenk ['Chiko69']\n"
     ]
    }
   ],
   "source": [
    "from project.track import TaggedTrack\n",
    "for track in analyzed_tracks.tracks:\n",
    "    try:\n",
    "        tags = TaggedTrack(lastfm, track.name, track.artist_names).tags()\n",
    "        if len(tags) == 0:\n",
    "            raise Exception(\"No tags\")\n",
    "    except Exception as e:\n",
    "        print(e, track.id, track.name, track.artist_names)\n",
    "        continue\n",
    "    track.tags = tags"
   ],
   "metadata": {
    "collapsed": false
   }
  },
  {
   "cell_type": "code",
   "execution_count": 22,
   "outputs": [
    {
     "name": "stdout",
     "output_type": "stream",
     "text": [
      "ReadTimeout\n",
      "ReadTimeout\n",
      "ReadTimeout\n",
      "ReadTimeout\n",
      "ReadTimeout\n",
      "ReadTimeout\n",
      "ReadTimeout\n"
     ]
    }
   ],
   "source": [
    "from time import sleep\n",
    "\n",
    "track_ids = [track.id for track in analyzed_tracks.tracks]\n",
    "track_id_partitions = Partition(track_ids)\n",
    "features = [spotify.tracks_audio_features(ids) for ids in track_id_partitions]\n",
    "features = [feature for partition in features for feature in partition]\n",
    "\n",
    "for track in analyzed_tracks.tracks:\n",
    "    successful = False\n",
    "    analysis = None\n",
    "    while not successful:\n",
    "        try:\n",
    "            analysis = spotify.track_audio_analysis(track_id=track.id)\n",
    "            successful = True\n",
    "        except httpx.HTTPError:\n",
    "            print('ReadTimeout')\n",
    "            successful = False\n",
    "            sleep(3)\n",
    "\n",
    "    feature = [feature for feature in features if feature.id == track.id][0]\n",
    "    track.acousticness = feature.acousticness\n",
    "    track.pitches = { str(segment.start):[p for p in segment.pitches] for segment in analysis.segments}\n",
    "    track.loudness = feature.loudness\n",
    "    track.energy = feature.energy\n",
    "    track.danceability = feature.danceability\n",
    "    track.mode = feature.mode\n",
    "    track.instrumentalness = feature.instrumentalness\n",
    "    track.key = feature.key\n",
    "    track.liveness = feature.liveness\n",
    "    track.tempo = feature.tempo\n",
    "    track.time_signature = feature.time_signature\n",
    "    track.valence = feature.valence"
   ],
   "metadata": {
    "collapsed": false,
    "pycharm": {
     "name": "#%%\n"
    }
   }
  },
  {
   "cell_type": "markdown",
   "source": [
    "# Firebase"
   ],
   "metadata": {
    "collapsed": false
   }
  },
  {
   "cell_type": "code",
   "execution_count": 24,
   "outputs": [
    {
     "ename": "ValueError",
     "evalue": "The default Firebase app already exists. This means you called initialize_app() more than once without providing an app name as the second argument. In most cases you only need to call initialize_app() once. But if you do want to initialize multiple apps, pass a second argument to initialize_app() to give each app a unique name.",
     "output_type": "error",
     "traceback": [
      "\u001B[0;31m---------------------------------------------------------------------------\u001B[0m",
      "\u001B[0;31mValueError\u001B[0m                                Traceback (most recent call last)",
      "Cell \u001B[0;32mIn [24], line 5\u001B[0m\n\u001B[1;32m      2\u001B[0m \u001B[38;5;28;01mfrom\u001B[39;00m \u001B[38;5;21;01mfirebase_admin\u001B[39;00m \u001B[38;5;28;01mimport\u001B[39;00m credentials, firestore\n\u001B[1;32m      4\u001B[0m cred \u001B[38;5;241m=\u001B[39m credentials\u001B[38;5;241m.\u001B[39mApplicationDefault()\n\u001B[0;32m----> 5\u001B[0m \u001B[43mfirebase_admin\u001B[49m\u001B[38;5;241;43m.\u001B[39;49m\u001B[43minitialize_app\u001B[49m\u001B[43m(\u001B[49m\u001B[43m)\u001B[49m\n",
      "File \u001B[0;32m~/projects/fh/mc/ml/venv/lib/python3.10/site-packages/firebase_admin/__init__.py:71\u001B[0m, in \u001B[0;36minitialize_app\u001B[0;34m(credential, options, name)\u001B[0m\n\u001B[1;32m     68\u001B[0m         \u001B[38;5;28;01mreturn\u001B[39;00m app\n\u001B[1;32m     70\u001B[0m \u001B[38;5;28;01mif\u001B[39;00m name \u001B[38;5;241m==\u001B[39m _DEFAULT_APP_NAME:\n\u001B[0;32m---> 71\u001B[0m     \u001B[38;5;28;01mraise\u001B[39;00m \u001B[38;5;167;01mValueError\u001B[39;00m((\n\u001B[1;32m     72\u001B[0m         \u001B[38;5;124m'\u001B[39m\u001B[38;5;124mThe default Firebase app already exists. This means you called \u001B[39m\u001B[38;5;124m'\u001B[39m\n\u001B[1;32m     73\u001B[0m         \u001B[38;5;124m'\u001B[39m\u001B[38;5;124minitialize_app() more than once without providing an app name as \u001B[39m\u001B[38;5;124m'\u001B[39m\n\u001B[1;32m     74\u001B[0m         \u001B[38;5;124m'\u001B[39m\u001B[38;5;124mthe second argument. In most cases you only need to call \u001B[39m\u001B[38;5;124m'\u001B[39m\n\u001B[1;32m     75\u001B[0m         \u001B[38;5;124m'\u001B[39m\u001B[38;5;124minitialize_app() once. But if you do want to initialize multiple \u001B[39m\u001B[38;5;124m'\u001B[39m\n\u001B[1;32m     76\u001B[0m         \u001B[38;5;124m'\u001B[39m\u001B[38;5;124mapps, pass a second argument to initialize_app() to give each app \u001B[39m\u001B[38;5;124m'\u001B[39m\n\u001B[1;32m     77\u001B[0m         \u001B[38;5;124m'\u001B[39m\u001B[38;5;124ma unique name.\u001B[39m\u001B[38;5;124m'\u001B[39m))\n\u001B[1;32m     79\u001B[0m \u001B[38;5;28;01mraise\u001B[39;00m \u001B[38;5;167;01mValueError\u001B[39;00m((\n\u001B[1;32m     80\u001B[0m     \u001B[38;5;124m'\u001B[39m\u001B[38;5;124mFirebase app named \u001B[39m\u001B[38;5;124m\"\u001B[39m\u001B[38;5;132;01m{0}\u001B[39;00m\u001B[38;5;124m\"\u001B[39m\u001B[38;5;124m already exists. This means you called \u001B[39m\u001B[38;5;124m'\u001B[39m\n\u001B[1;32m     81\u001B[0m     \u001B[38;5;124m'\u001B[39m\u001B[38;5;124minitialize_app() more than once with the same app name as the \u001B[39m\u001B[38;5;124m'\u001B[39m\n\u001B[1;32m     82\u001B[0m     \u001B[38;5;124m'\u001B[39m\u001B[38;5;124msecond argument. Make sure you provide a unique name every time \u001B[39m\u001B[38;5;124m'\u001B[39m\n\u001B[1;32m     83\u001B[0m     \u001B[38;5;124m'\u001B[39m\u001B[38;5;124myou call initialize_app().\u001B[39m\u001B[38;5;124m'\u001B[39m)\u001B[38;5;241m.\u001B[39mformat(name))\n",
      "\u001B[0;31mValueError\u001B[0m: The default Firebase app already exists. This means you called initialize_app() more than once without providing an app name as the second argument. In most cases you only need to call initialize_app() once. But if you do want to initialize multiple apps, pass a second argument to initialize_app() to give each app a unique name."
     ]
    }
   ],
   "source": [
    "import firebase_admin\n",
    "from firebase_admin import credentials, firestore\n",
    "\n",
    "cred = credentials.ApplicationDefault()\n",
    "firebase_admin.initialize_app()"
   ],
   "metadata": {
    "collapsed": false
   }
  },
  {
   "cell_type": "code",
   "execution_count": 26,
   "outputs": [],
   "source": [
    "from google.cloud.firestore_v1 import Client\n",
    "\n",
    "firestore_client: Client = firestore.client()\n",
    "analyzed_tracks.upsert(firestore_client.collection(\"tracks\"))"
   ],
   "metadata": {
    "collapsed": false
   }
  },
  {
   "cell_type": "code",
   "execution_count": 25,
   "outputs": [
    {
     "data": {
      "text/plain": "AnalyzedTrack(id=3zeQSYzaN9kLVypKWr6yUi, name=God Was Never on Your Side, duration=261186, artist_genres={'album rock', 'speed metal', 'metal', 'hard rock', 'rock'})"
     },
     "execution_count": 25,
     "metadata": {},
     "output_type": "execute_result"
    }
   ],
   "source": [
    "analyzed_tracks.tracks[0]"
   ],
   "metadata": {
    "collapsed": false
   }
  },
  {
   "cell_type": "code",
   "execution_count": null,
   "outputs": [],
   "source": [],
   "metadata": {
    "collapsed": false
   }
  }
 ],
 "metadata": {
  "kernelspec": {
   "display_name": "Python 3",
   "language": "python",
   "name": "python3"
  },
  "language_info": {
   "codemirror_mode": {
    "name": "ipython",
    "version": 2
   },
   "file_extension": ".py",
   "mimetype": "text/x-python",
   "name": "python",
   "nbconvert_exporter": "python",
   "pygments_lexer": "ipython2",
   "version": "2.7.6"
  }
 },
 "nbformat": 4,
 "nbformat_minor": 0
}
