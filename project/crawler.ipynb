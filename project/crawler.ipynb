{
 "cells": [
  {
   "cell_type": "markdown",
   "source": [
    "# Collect data from Spotify and Last.fm"
   ],
   "metadata": {
    "collapsed": false
   }
  },
  {
   "cell_type": "code",
   "execution_count": 1,
   "outputs": [],
   "source": [
    "from crawler import Crawler\n",
    "\n",
    "crawler = Crawler(\"127.0.0.1\", 5000)"
   ],
   "metadata": {
    "collapsed": false,
    "pycharm": {
     "name": "#%%\n"
    }
   }
  },
  {
   "cell_type": "code",
   "execution_count": null,
   "outputs": [],
   "source": [
    "crawler.collect_random_tracks()"
   ],
   "metadata": {
    "collapsed": false,
    "pycharm": {
     "name": "#%%\n"
    }
   }
  },
  {
   "cell_type": "markdown",
   "source": [
    "Huge party playlist (500+ hours)"
   ],
   "metadata": {
    "collapsed": false,
    "pycharm": {
     "name": "#%% md\n"
    }
   }
  },
  {
   "cell_type": "code",
   "execution_count": null,
   "outputs": [
    {
     "name": "stdout",
     "output_type": "stream",
     "text": [
      "refreshing spotify credentials at _retrieve_playlist_tracks\n",
      "Analyzing 50 tracks ...\n",
      "refreshing spotify credentials at _enrich_tracks\n",
      "Retry of audio analysis for track 1OmcAT5Y8eg5bUPv9qJT4R necessary.\n",
      "Retry of audio analysis for track 63SevszngYpZOwf63o61K4 necessary.\n",
      "Retry of audio analysis for track 63SevszngYpZOwf63o61K4 necessary.\n",
      "Saving tracks ...\n",
      "Analyzing 50 tracks ...\n",
      "refreshing spotify credentials at _enrich_tracks\n",
      "Retry of audio analysis for track 5Q41NLTmGbVPozwHKK7bk2 necessary.\n",
      "Retry of audio analysis for track 6jdOi5U5LBzQrc4c1VT983 necessary.\n",
      "Retry of audio analysis for track 5qHirGR7M9tdm6C17DlzSY necessary.\n",
      "Retry of audio analysis for track 3mcG2NI5G5vhrQtRda1YnA necessary.\n",
      "Saving tracks ...\n",
      "Analyzing 50 tracks ...\n",
      "refreshing spotify credentials at _enrich_tracks\n",
      "Retry of audio analysis for track 6IaieqiCVvsNvEt6Y7yOFa necessary.\n",
      "Retry of audio analysis for track 5lZZmityu9TAjNvSY6GLhR necessary.\n",
      "Retry of audio analysis for track 5lZZmityu9TAjNvSY6GLhR necessary.\n",
      "Retry of audio analysis for track 0xl1w2q4VLojeXp4JfazPL necessary.\n",
      "Retry of audio analysis for track 2bv5JwDF95lIGtIf5mXcvB necessary.\n",
      "Retry of audio analysis for track 0Puj4YlTm6xNzDDADXHMI9 necessary.\n",
      "Retry of audio analysis for track 0Puj4YlTm6xNzDDADXHMI9 necessary.\n",
      "Retry of audio analysis for track 6HTJZ0TQJVMSKkUGzAOe2h necessary.\n",
      "Retry of audio analysis for track 6HTJZ0TQJVMSKkUGzAOe2h necessary.\n",
      "Retry of audio analysis for track 6HTJZ0TQJVMSKkUGzAOe2h necessary.\n",
      "Retry of audio analysis for track 6HTJZ0TQJVMSKkUGzAOe2h necessary.\n",
      "Retry of audio analysis for track 6HTJZ0TQJVMSKkUGzAOe2h necessary.\n",
      "Retry of audio analysis for track 6HTJZ0TQJVMSKkUGzAOe2h necessary.\n",
      "Retry of audio analysis for track 6HTJZ0TQJVMSKkUGzAOe2h necessary.\n",
      "Retry of audio analysis for track 4t0UsYzmmmZRMTWn77jiGF necessary.\n",
      "Retry of audio analysis for track 703BT1NQsfIwPFv8MXQ47m necessary.\n",
      "Retry of audio analysis for track 1EWsVHU4FNAdtN4R8FETag necessary.\n",
      "Retry of audio analysis for track 2e0PQjgRNMDKeaMH49tHnC necessary.\n",
      "Retry of audio analysis for track 2e0PQjgRNMDKeaMH49tHnC necessary.\n",
      "Retry of audio analysis for track 5N1o6d8zGcSZSeMFkOUQOk necessary.\n",
      "Retry of audio analysis for track 4n1bdaKwynQndm47x5HqWX necessary.\n",
      "Saving tracks ...\n",
      "Analyzing 50 tracks ...\n",
      "refreshing spotify credentials at _enrich_tracks\n",
      "Retry of audio analysis for track 0OgGn1ofaj55l2PcihQQGV necessary.\n",
      "Retry of audio analysis for track 0Xy9xPPs2zRRFqljGqKXel necessary.\n",
      "Retry of audio analysis for track 52Y5nYBQgqawttJxxtUv1e necessary.\n",
      "Saving tracks ...\n",
      "Analyzing 50 tracks ...\n",
      "refreshing spotify credentials at _enrich_tracks\n",
      "Retry of audio analysis for track 3Q6F8RByyhRTJpRtZLY3cg necessary.\n",
      "Retry of audio analysis for track 4vbW5aT9UQGRqEScStQPPy necessary.\n",
      "Retry of audio analysis for track 4vbW5aT9UQGRqEScStQPPy necessary.\n",
      "Retry of audio analysis for track 1eRBW1HcyM1zPlxO26cScZ necessary.\n",
      "Saving tracks ...\n",
      "Analyzing 50 tracks ...\n",
      "refreshing spotify credentials at _enrich_tracks\n",
      "Retry of audio analysis for track 0lqNtjLgTJYScspOhJXxtx necessary.\n",
      "Saving tracks ...\n",
      "Analyzing 50 tracks ...\n",
      "refreshing spotify credentials at _enrich_tracks\n",
      "Retry of audio analysis for track 6ERR6e7h6wCqGoz1TjiUJb necessary.\n",
      "Retry of audio analysis for track 1j8z4TTjJ1YOdoFEDwJTQa necessary.\n",
      "Retry of audio analysis for track 3I1vEQhGwRK7URrTq4BqNl necessary.\n",
      "Retry of audio analysis for track 11VApNQCWLJdzxWrlmwzUa necessary.\n",
      "Saving tracks ...\n",
      "Analyzing 50 tracks ...\n",
      "refreshing spotify credentials at _enrich_tracks\n",
      "Retry of audio analysis for track 2aufjq2wqMFwGBunVLaxiE necessary.\n",
      "Retry of audio analysis for track 6NyhBA9M6KK0fuVsojxL00 necessary.\n",
      "Retry of audio analysis for track 6NyhBA9M6KK0fuVsojxL00 necessary.\n",
      "Retry of audio analysis for track 4M8x1TR36VMQMFMbGCdoyA necessary.\n",
      "Retry of audio analysis for track 7aQjPecQdIuNd1sz3KCDhD necessary.\n",
      "Saving tracks ...\n",
      "Analyzing 50 tracks ...\n",
      "No tags 1R5wi7cEIKvYHO2KjxkvDF New York Groove ['Mike Leander']\n",
      "refreshing spotify credentials at _enrich_tracks\n",
      "Retry of audio analysis for track 1dgWTMoHwTUnQhOQ8SR5fV necessary.\n",
      "Retry of audio analysis for track 0Otf6MBWU5vOqlwCl1ZIZY necessary.\n",
      "Retry of audio analysis for track 6ET9kf9riLETWs9lePUEAI necessary.\n",
      "Retry of audio analysis for track 3IvMYBE7A3c7to1aEcfFJk necessary.\n",
      "Retry of audio analysis for track 43zdsphuZLzwA9k4DJhU0I necessary.\n",
      "Retry of audio analysis for track 3BQHpFgAp4l80e1XslIjNI necessary.\n",
      "Saving tracks ...\n",
      "Analyzing 50 tracks ...\n",
      "refreshing spotify credentials at _enrich_tracks\n",
      "Retry of audio analysis for track 23hrvdvkIi1X1voQG2bJH9 necessary.\n",
      "Retry of audio analysis for track 23hrvdvkIi1X1voQG2bJH9 necessary.\n",
      "Retry of audio analysis for track 2I8sTYMwuTsTL3K5vR6MB5 necessary.\n",
      "Retry of audio analysis for track 0zrxLoUbe59VjUfDI1r2m4 necessary.\n",
      "Saving tracks ...\n",
      "Analyzing 50 tracks ...\n",
      "refreshing spotify credentials at _enrich_tracks\n",
      "Retry of audio analysis for track 3aGibUHhQyBsyumYHylw0K necessary.\n",
      "Retry of audio analysis for track 1tNJrcVe6gwLEiZCtprs1u necessary.\n",
      "Retry of audio analysis for track 6ybViy2qrO9sIi41EgRJgx necessary.\n",
      "Retry of audio analysis for track 1YaBa6DI8Suh02EtIZOpdM necessary.\n",
      "Retry of audio analysis for track 2PuHj0tUOKud6fVKTZUXRO necessary.\n",
      "Retry of audio analysis for track 1UGD3lW3tDmgZfAVDh6w7r necessary.\n",
      "Saving tracks ...\n",
      "Analyzing 50 tracks ...\n",
      "refreshing spotify credentials at _enrich_tracks\n",
      "Retry of audio analysis for track 7Fq9RwQxSn3kW85PrDUf0M necessary.\n",
      "Retry of audio analysis for track 44ADyYoY5liaRa3EOAl4uf necessary.\n",
      "Saving tracks ...\n",
      "Analyzing 50 tracks ...\n",
      "No tags 5cWIRgigrzjTjDBNXQxhAR Travelling Riverside Blues - 29/6/69 Top Gear;Remaster ['Led Zeppelin']\n",
      "refreshing spotify credentials at _enrich_tracks\n",
      "Retry of audio analysis for track 5nUxusa7DuFafbbTvJWMFu necessary.\n",
      "Retry of audio analysis for track 5nUxusa7DuFafbbTvJWMFu necessary.\n",
      "Retry of audio analysis for track 2zoobJFEB9h15fjYjRd6oP necessary.\n",
      "Saving tracks ...\n",
      "Analyzing 50 tracks ...\n",
      "refreshing spotify credentials at _enrich_tracks\n",
      "Retry of audio analysis for track 2bIfM0ZOF4gxK1BeqH3Djm necessary.\n",
      "Retry of audio analysis for track 2bIfM0ZOF4gxK1BeqH3Djm necessary.\n",
      "Retry of audio analysis for track 2bIfM0ZOF4gxK1BeqH3Djm necessary.\n",
      "Retry of audio analysis for track 2bIfM0ZOF4gxK1BeqH3Djm necessary.\n",
      "Retry of audio analysis for track 2bIfM0ZOF4gxK1BeqH3Djm necessary.\n",
      "Retry of audio analysis for track 2bIfM0ZOF4gxK1BeqH3Djm necessary.\n",
      "Retry of audio analysis for track 2bIfM0ZOF4gxK1BeqH3Djm necessary.\n",
      "Retry of audio analysis for track 6v4pemwpkW7msCbBtSJf15 necessary.\n",
      "Retry of audio analysis for track 1pbHy9VBpSyZh56xuujZz0 necessary.\n",
      "Retry of audio analysis for track 6gpZSI0xEMTzleBc5ykOVA necessary.\n",
      "Retry of audio analysis for track 3KPwt1LBpt1jVSHz8GXERo necessary.\n",
      "Saving tracks ...\n",
      "Analyzing 50 tracks ...\n",
      "refreshing spotify credentials at _enrich_tracks\n",
      "Retry of audio analysis for track 0qqRwBkq7oWv6QnIRLfQKe necessary.\n",
      "Retry of audio analysis for track 0qqRwBkq7oWv6QnIRLfQKe necessary.\n",
      "Retry of audio analysis for track 0qqRwBkq7oWv6QnIRLfQKe necessary.\n",
      "Retry of audio analysis for track 0qqRwBkq7oWv6QnIRLfQKe necessary.\n",
      "Retry of audio analysis for track 0qqRwBkq7oWv6QnIRLfQKe necessary.\n",
      "Retry of audio analysis for track 0qqRwBkq7oWv6QnIRLfQKe necessary.\n",
      "Retry of audio analysis for track 0AqjkVFqa1ujle4Lb1k9wR necessary.\n",
      "Retry of audio analysis for track 4EUe6BsZm5wZLxOTaV3kDX necessary.\n",
      "Retry of audio analysis for track 4EUe6BsZm5wZLxOTaV3kDX necessary.\n",
      "Saving tracks ...\n",
      "Analyzing 50 tracks ...\n",
      "refreshing spotify credentials at _enrich_tracks\n",
      "Retry of audio analysis for track 0SyXvJ6uRArVWHXUyi3FKO necessary.\n",
      "Retry of audio analysis for track 0SyXvJ6uRArVWHXUyi3FKO necessary.\n",
      "Retry of audio analysis for track 0SyXvJ6uRArVWHXUyi3FKO necessary.\n",
      "Retry of audio analysis for track 0SyXvJ6uRArVWHXUyi3FKO necessary.\n",
      "Retry of audio analysis for track 0SyXvJ6uRArVWHXUyi3FKO necessary.\n",
      "Retry of audio analysis for track 0SyXvJ6uRArVWHXUyi3FKO necessary.\n",
      "Saving tracks ...\n",
      "Analyzing 50 tracks ...\n",
      "No tags 5uS8HGp7VfuU5fDarEbNi7 Show Me The Way - Live / Remixed ['Peter Frampton']\n",
      "No tags 1dOGIxOCVTTm8Hu8LceAPG Woodstock - Live at Universal Amphitheatre, Los Angeles, CA, 8/14-17, 1974 ['Joni Mitchell']\n",
      "refreshing spotify credentials at _enrich_tracks\n",
      "Retry of audio analysis for track 1qrpoAMXodY6895hGKoUpA necessary.\n",
      "Retry of audio analysis for track 6M6M9Hc0MhBn36yswsPTbd necessary.\n",
      "Retry of audio analysis for track 3jpeI1goQHPIwwCMxrLrwx necessary.\n",
      "Retry of audio analysis for track 0mPdhLVNOYqP9zwvb7uUIi necessary.\n",
      "Retry of audio analysis for track 5o4cq6gKFAbR1V7wITwB7n necessary.\n",
      "Retry of audio analysis for track 3gCYle76USfbHa7VDTDg5V necessary.\n",
      "Retry of audio analysis for track 3gCYle76USfbHa7VDTDg5V necessary.\n",
      "Retry of audio analysis for track 53bZYxVbCYm6w1Gx8U64bz necessary.\n",
      "Saving tracks ...\n",
      "Analyzing 50 tracks ...\n",
      "No tags 74rDhBfH4eBCVs5ncmHw8e Double Take ['Retropxssy']\n",
      "refreshing spotify credentials at _enrich_tracks\n",
      "Retry of audio analysis for track 69uxyAqqPIsUyTO8txoP2M necessary.\n",
      "Retry of audio analysis for track 69uxyAqqPIsUyTO8txoP2M necessary.\n",
      "Retry of audio analysis for track 1GLeSb7JwiSuIsXdrirkmU necessary.\n",
      "Retry of audio analysis for track 2gCr4ESYU3CrXbJ4vVRLjO necessary.\n",
      "Retry of audio analysis for track 2gCr4ESYU3CrXbJ4vVRLjO necessary.\n",
      "Retry of audio analysis for track 2lBEWXP11gpEySIXgA5ALH necessary.\n",
      "Retry of audio analysis for track 2lBEWXP11gpEySIXgA5ALH necessary.\n",
      "Retry of audio analysis for track 2lBEWXP11gpEySIXgA5ALH necessary.\n",
      "Retry of audio analysis for track 0UVXkzxIKO5e4VXXM4ErjJ necessary.\n",
      "Retry of audio analysis for track 0UVXkzxIKO5e4VXXM4ErjJ necessary.\n",
      "Saving tracks ...\n",
      "Analyzing 50 tracks ...\n",
      "refreshing spotify credentials at _enrich_tracks\n",
      "Retry of audio analysis for track 6xjGRuXye8e0PcGInOGPnN necessary.\n",
      "Retry of audio analysis for track 5ylMA5GG8VDjcYUGts2QNt necessary.\n",
      "Retry of audio analysis for track 4l7YIni9bAiGwWMqK5wvgV necessary.\n",
      "Saving tracks ...\n",
      "Analyzing 50 tracks ...\n",
      "No tags 34jDsuaEgTgaRbTaAMd1Wn Constellations - Live At Bonnaroo, Manchester, Tennessee/2008 ['Eddie Vedder', 'Jack Johnson']\n",
      "No tags 2auWdKsT2wvdGIXjxBYvpS Lenny / Man On the Side - Live at the Oak Mountain Amphitheater, Birmingham, AL - September 2002 ['John Mayer']\n",
      "refreshing spotify credentials at _enrich_tracks\n",
      "Retry of audio analysis for track 3CtphwpjC0XjIVpLFvGiQR necessary.\n",
      "Retry of audio analysis for track 3CtphwpjC0XjIVpLFvGiQR necessary.\n",
      "Saving tracks ...\n",
      "Analyzing 50 tracks ...\n",
      "No tags 2g6qGfcMKlv1KLn1Ia4Nw7 Just Friends - Live BBC Radio 2 Big Band Special / 2009 ['Amy Winehouse']\n",
      "refreshing spotify credentials at _enrich_tracks\n",
      "Retry of audio analysis for track 0EUSbTvyZfo9QOcxunL9Ro necessary.\n",
      "Retry of audio analysis for track 3ieDOGcOqVxScs2VZBzidt necessary.\n",
      "Retry of audio analysis for track 3ieDOGcOqVxScs2VZBzidt necessary.\n",
      "Retry of audio analysis for track 2m3ObD945KvpE5y9A1eUWm necessary.\n",
      "Saving tracks ...\n"
     ]
    }
   ],
   "source": [
    "crawler.collect_tracks_from_playlist(\"6srddMK48bjlvaVZBpukVv\")"
   ],
   "metadata": {
    "collapsed": false,
    "pycharm": {
     "is_executing": true
    }
   }
  },
  {
   "cell_type": "code",
   "execution_count": null,
   "outputs": [],
   "source": [],
   "metadata": {
    "collapsed": false,
    "pycharm": {
     "name": "#%%\n"
    }
   }
  }
 ],
 "metadata": {
  "kernelspec": {
   "display_name": "Python 3",
   "language": "python",
   "name": "python3"
  },
  "language_info": {
   "codemirror_mode": {
    "name": "ipython",
    "version": 2
   },
   "file_extension": ".py",
   "mimetype": "text/x-python",
   "name": "python",
   "nbconvert_exporter": "python",
   "pygments_lexer": "ipython2",
   "version": "2.7.6"
  }
 },
 "nbformat": 4,
 "nbformat_minor": 0
}
