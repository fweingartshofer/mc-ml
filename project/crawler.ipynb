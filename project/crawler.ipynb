{
 "cells": [
  {
   "cell_type": "markdown",
   "source": [
    "# Collect data from Spotify and Last.fm"
   ],
   "metadata": {
    "collapsed": false
   }
  },
  {
   "cell_type": "code",
   "execution_count": 1,
   "outputs": [],
   "source": [
    "from crawler import Crawler\n",
    "\n",
    "crawler = Crawler(\"127.0.0.1\", 5000)"
   ],
   "metadata": {
    "collapsed": false,
    "pycharm": {
     "name": "#%%\n"
    }
   }
  },
  {
   "cell_type": "code",
   "execution_count": null,
   "outputs": [],
   "source": [
    "crawler.collect_random_tracks()"
   ],
   "metadata": {
    "collapsed": false,
    "pycharm": {
     "name": "#%%\n"
    }
   }
  },
  {
   "cell_type": "markdown",
   "source": [
    "Huge party playlist (500+ hours)"
   ],
   "metadata": {
    "collapsed": false,
    "pycharm": {
     "name": "#%% md\n"
    }
   }
  },
  {
   "cell_type": "code",
   "execution_count": 2,
   "outputs": [
    {
     "name": "stdout",
     "output_type": "stream",
     "text": [
      "Analyzing 50 tracks.\n",
      "Saving tracks.\n",
      "Analyzing 50 tracks.\n",
      "Retry of audio analysis for track 57PjISfyOyDcvTPipz16nf necessary.\n",
      "Retry of audio analysis for track 6luSHkUXVmx3DKGN4TuRqF necessary.\n",
      "Retry of audio analysis for track 0d28khcov6AiegSCpG5TuT necessary.\n",
      "Retry of audio analysis for track 1ru5R5iSawvuMELqKXxLjS necessary.\n",
      "Retry of audio analysis for track 2e5Vm6VvdlTzuNcRSikeU6 necessary.\n",
      "Retry of audio analysis for track 24NwBd5vZ2CK8VOQVnqdxr necessary.\n",
      "Retry of audio analysis for track 6h8Bu5maqvdspRv0LXoglo necessary.\n",
      "Retry of audio analysis for track 6m8umBymc4gJQUDq8fFKgH necessary.\n",
      "Retry of audio analysis for track 6m8umBymc4gJQUDq8fFKgH necessary.\n",
      "Retry of audio analysis for track 6m8umBymc4gJQUDq8fFKgH necessary.\n",
      "Saving tracks.\n"
     ]
    },
    {
     "ename": "KeyboardInterrupt",
     "evalue": "",
     "output_type": "error",
     "traceback": [
      "\u001B[1;31m---------------------------------------------------------------------------\u001B[0m",
      "\u001B[1;31m_InactiveRpcError\u001B[0m                         Traceback (most recent call last)",
      "File \u001B[1;32mc:\\users\\andi\\documents\\github\\mc-ml\\venv\\lib\\site-packages\\google\\api_core\\grpc_helpers.py:72\u001B[0m, in \u001B[0;36m_wrap_unary_errors.<locals>.error_remapped_callable\u001B[1;34m(*args, **kwargs)\u001B[0m\n\u001B[0;32m     71\u001B[0m \u001B[38;5;28;01mtry\u001B[39;00m:\n\u001B[1;32m---> 72\u001B[0m     \u001B[38;5;28;01mreturn\u001B[39;00m callable_(\u001B[38;5;241m*\u001B[39margs, \u001B[38;5;241m*\u001B[39m\u001B[38;5;241m*\u001B[39mkwargs)\n\u001B[0;32m     73\u001B[0m \u001B[38;5;28;01mexcept\u001B[39;00m grpc\u001B[38;5;241m.\u001B[39mRpcError \u001B[38;5;28;01mas\u001B[39;00m exc:\n",
      "File \u001B[1;32mc:\\users\\andi\\documents\\github\\mc-ml\\venv\\lib\\site-packages\\grpc\\_channel.py:946\u001B[0m, in \u001B[0;36m_UnaryUnaryMultiCallable.__call__\u001B[1;34m(self, request, timeout, metadata, credentials, wait_for_ready, compression)\u001B[0m\n\u001B[0;32m    944\u001B[0m state, call, \u001B[38;5;241m=\u001B[39m \u001B[38;5;28mself\u001B[39m\u001B[38;5;241m.\u001B[39m_blocking(request, timeout, metadata, credentials,\n\u001B[0;32m    945\u001B[0m                               wait_for_ready, compression)\n\u001B[1;32m--> 946\u001B[0m \u001B[38;5;28;01mreturn\u001B[39;00m \u001B[43m_end_unary_response_blocking\u001B[49m\u001B[43m(\u001B[49m\u001B[43mstate\u001B[49m\u001B[43m,\u001B[49m\u001B[43m \u001B[49m\u001B[43mcall\u001B[49m\u001B[43m,\u001B[49m\u001B[43m \u001B[49m\u001B[38;5;28;43;01mFalse\u001B[39;49;00m\u001B[43m,\u001B[49m\u001B[43m \u001B[49m\u001B[38;5;28;43;01mNone\u001B[39;49;00m\u001B[43m)\u001B[49m\n",
      "File \u001B[1;32mc:\\users\\andi\\documents\\github\\mc-ml\\venv\\lib\\site-packages\\grpc\\_channel.py:849\u001B[0m, in \u001B[0;36m_end_unary_response_blocking\u001B[1;34m(state, call, with_call, deadline)\u001B[0m\n\u001B[0;32m    848\u001B[0m \u001B[38;5;28;01melse\u001B[39;00m:\n\u001B[1;32m--> 849\u001B[0m     \u001B[38;5;28;01mraise\u001B[39;00m _InactiveRpcError(state)\n",
      "\u001B[1;31m_InactiveRpcError\u001B[0m: <_InactiveRpcError of RPC that terminated with:\n\tstatus = StatusCode.NOT_FOUND\n\tdetails = \"No document to update: projects/spotifai-db/databases/(default)/documents/tracks/1Vej0qeQ3ioKwpI6FUbRv1\"\n\tdebug_error_string = \"UNKNOWN:Error received from peer ipv4:142.250.180.234:443 {grpc_message:\"No document to update: projects/spotifai-db/databases/(default)/documents/tracks/1Vej0qeQ3ioKwpI6FUbRv1\", grpc_status:5, created_time:\"2023-01-14T20:42:52.660722123+00:00\"}\"\n>",
      "\nThe above exception was the direct cause of the following exception:\n",
      "\u001B[1;31mNotFound\u001B[0m                                  Traceback (most recent call last)",
      "File \u001B[1;32m~\\Documents\\GitHub\\mc-ml\\project\\track.py:61\u001B[0m, in \u001B[0;36mAnalyzedTrack.upsert\u001B[1;34m(self, collection)\u001B[0m\n\u001B[0;32m     60\u001B[0m \u001B[38;5;28;01mtry\u001B[39;00m:\n\u001B[1;32m---> 61\u001B[0m     \u001B[43mdoc_ref\u001B[49m\u001B[38;5;241;43m.\u001B[39;49m\u001B[43mupdate\u001B[49m\u001B[43m(\u001B[49m\u001B[38;5;28;43mself\u001B[39;49m\u001B[38;5;241;43m.\u001B[39;49m\u001B[38;5;18;43m__dict__\u001B[39;49m\u001B[43m)\u001B[49m\n\u001B[0;32m     62\u001B[0m \u001B[38;5;28;01mexcept\u001B[39;00m:\n",
      "File \u001B[1;32mc:\\users\\andi\\documents\\github\\mc-ml\\venv\\lib\\site-packages\\google\\cloud\\firestore_v1\\document.py:325\u001B[0m, in \u001B[0;36mDocumentReference.update\u001B[1;34m(self, field_updates, option, retry, timeout)\u001B[0m\n\u001B[0;32m    324\u001B[0m batch, kwargs \u001B[38;5;241m=\u001B[39m \u001B[38;5;28mself\u001B[39m\u001B[38;5;241m.\u001B[39m_prep_update(field_updates, option, retry, timeout)\n\u001B[1;32m--> 325\u001B[0m write_results \u001B[38;5;241m=\u001B[39m batch\u001B[38;5;241m.\u001B[39mcommit(\u001B[38;5;241m*\u001B[39m\u001B[38;5;241m*\u001B[39mkwargs)\n\u001B[0;32m    326\u001B[0m \u001B[38;5;28;01mreturn\u001B[39;00m _first_write_result(write_results)\n",
      "File \u001B[1;32mc:\\users\\andi\\documents\\github\\mc-ml\\venv\\lib\\site-packages\\google\\cloud\\firestore_v1\\batch.py:59\u001B[0m, in \u001B[0;36mWriteBatch.commit\u001B[1;34m(self, retry, timeout)\u001B[0m\n\u001B[0;32m     57\u001B[0m request, kwargs \u001B[38;5;241m=\u001B[39m \u001B[38;5;28mself\u001B[39m\u001B[38;5;241m.\u001B[39m_prep_commit(retry, timeout)\n\u001B[1;32m---> 59\u001B[0m commit_response \u001B[38;5;241m=\u001B[39m \u001B[38;5;28mself\u001B[39m\u001B[38;5;241m.\u001B[39m_client\u001B[38;5;241m.\u001B[39m_firestore_api\u001B[38;5;241m.\u001B[39mcommit(\n\u001B[0;32m     60\u001B[0m     request\u001B[38;5;241m=\u001B[39mrequest,\n\u001B[0;32m     61\u001B[0m     metadata\u001B[38;5;241m=\u001B[39m\u001B[38;5;28mself\u001B[39m\u001B[38;5;241m.\u001B[39m_client\u001B[38;5;241m.\u001B[39m_rpc_metadata,\n\u001B[0;32m     62\u001B[0m     \u001B[38;5;241m*\u001B[39m\u001B[38;5;241m*\u001B[39mkwargs,\n\u001B[0;32m     63\u001B[0m )\n\u001B[0;32m     65\u001B[0m \u001B[38;5;28mself\u001B[39m\u001B[38;5;241m.\u001B[39m_write_pbs \u001B[38;5;241m=\u001B[39m []\n",
      "File \u001B[1;32mc:\\users\\andi\\documents\\github\\mc-ml\\venv\\lib\\site-packages\\google\\cloud\\firestore_v1\\services\\firestore\\client.py:1124\u001B[0m, in \u001B[0;36mFirestoreClient.commit\u001B[1;34m(self, request, database, writes, retry, timeout, metadata)\u001B[0m\n\u001B[0;32m   1123\u001B[0m \u001B[38;5;66;03m# Send the request.\u001B[39;00m\n\u001B[1;32m-> 1124\u001B[0m response \u001B[38;5;241m=\u001B[39m \u001B[43mrpc\u001B[49m\u001B[43m(\u001B[49m\n\u001B[0;32m   1125\u001B[0m \u001B[43m    \u001B[49m\u001B[43mrequest\u001B[49m\u001B[43m,\u001B[49m\n\u001B[0;32m   1126\u001B[0m \u001B[43m    \u001B[49m\u001B[43mretry\u001B[49m\u001B[38;5;241;43m=\u001B[39;49m\u001B[43mretry\u001B[49m\u001B[43m,\u001B[49m\n\u001B[0;32m   1127\u001B[0m \u001B[43m    \u001B[49m\u001B[43mtimeout\u001B[49m\u001B[38;5;241;43m=\u001B[39;49m\u001B[43mtimeout\u001B[49m\u001B[43m,\u001B[49m\n\u001B[0;32m   1128\u001B[0m \u001B[43m    \u001B[49m\u001B[43mmetadata\u001B[49m\u001B[38;5;241;43m=\u001B[39;49m\u001B[43mmetadata\u001B[49m\u001B[43m,\u001B[49m\n\u001B[0;32m   1129\u001B[0m \u001B[43m\u001B[49m\u001B[43m)\u001B[49m\n\u001B[0;32m   1131\u001B[0m \u001B[38;5;66;03m# Done; return the response.\u001B[39;00m\n",
      "File \u001B[1;32mc:\\users\\andi\\documents\\github\\mc-ml\\venv\\lib\\site-packages\\google\\api_core\\gapic_v1\\method.py:113\u001B[0m, in \u001B[0;36m_GapicCallable.__call__\u001B[1;34m(self, timeout, retry, *args, **kwargs)\u001B[0m\n\u001B[0;32m    111\u001B[0m     kwargs[\u001B[38;5;124m\"\u001B[39m\u001B[38;5;124mmetadata\u001B[39m\u001B[38;5;124m\"\u001B[39m] \u001B[38;5;241m=\u001B[39m metadata\n\u001B[1;32m--> 113\u001B[0m \u001B[38;5;28;01mreturn\u001B[39;00m wrapped_func(\u001B[38;5;241m*\u001B[39margs, \u001B[38;5;241m*\u001B[39m\u001B[38;5;241m*\u001B[39mkwargs)\n",
      "File \u001B[1;32mc:\\users\\andi\\documents\\github\\mc-ml\\venv\\lib\\site-packages\\google\\api_core\\retry.py:349\u001B[0m, in \u001B[0;36mRetry.__call__.<locals>.retry_wrapped_func\u001B[1;34m(*args, **kwargs)\u001B[0m\n\u001B[0;32m    346\u001B[0m sleep_generator \u001B[38;5;241m=\u001B[39m exponential_sleep_generator(\n\u001B[0;32m    347\u001B[0m     \u001B[38;5;28mself\u001B[39m\u001B[38;5;241m.\u001B[39m_initial, \u001B[38;5;28mself\u001B[39m\u001B[38;5;241m.\u001B[39m_maximum, multiplier\u001B[38;5;241m=\u001B[39m\u001B[38;5;28mself\u001B[39m\u001B[38;5;241m.\u001B[39m_multiplier\n\u001B[0;32m    348\u001B[0m )\n\u001B[1;32m--> 349\u001B[0m \u001B[38;5;28;01mreturn\u001B[39;00m \u001B[43mretry_target\u001B[49m\u001B[43m(\u001B[49m\n\u001B[0;32m    350\u001B[0m \u001B[43m    \u001B[49m\u001B[43mtarget\u001B[49m\u001B[43m,\u001B[49m\n\u001B[0;32m    351\u001B[0m \u001B[43m    \u001B[49m\u001B[38;5;28;43mself\u001B[39;49m\u001B[38;5;241;43m.\u001B[39;49m\u001B[43m_predicate\u001B[49m\u001B[43m,\u001B[49m\n\u001B[0;32m    352\u001B[0m \u001B[43m    \u001B[49m\u001B[43msleep_generator\u001B[49m\u001B[43m,\u001B[49m\n\u001B[0;32m    353\u001B[0m \u001B[43m    \u001B[49m\u001B[38;5;28;43mself\u001B[39;49m\u001B[38;5;241;43m.\u001B[39;49m\u001B[43m_timeout\u001B[49m\u001B[43m,\u001B[49m\n\u001B[0;32m    354\u001B[0m \u001B[43m    \u001B[49m\u001B[43mon_error\u001B[49m\u001B[38;5;241;43m=\u001B[39;49m\u001B[43mon_error\u001B[49m\u001B[43m,\u001B[49m\n\u001B[0;32m    355\u001B[0m \u001B[43m\u001B[49m\u001B[43m)\u001B[49m\n",
      "File \u001B[1;32mc:\\users\\andi\\documents\\github\\mc-ml\\venv\\lib\\site-packages\\google\\api_core\\retry.py:191\u001B[0m, in \u001B[0;36mretry_target\u001B[1;34m(target, predicate, sleep_generator, timeout, on_error, **kwargs)\u001B[0m\n\u001B[0;32m    190\u001B[0m \u001B[38;5;28;01mtry\u001B[39;00m:\n\u001B[1;32m--> 191\u001B[0m     \u001B[38;5;28;01mreturn\u001B[39;00m \u001B[43mtarget\u001B[49m\u001B[43m(\u001B[49m\u001B[43m)\u001B[49m\n\u001B[0;32m    193\u001B[0m \u001B[38;5;66;03m# pylint: disable=broad-except\u001B[39;00m\n\u001B[0;32m    194\u001B[0m \u001B[38;5;66;03m# This function explicitly must deal with broad exceptions.\u001B[39;00m\n",
      "File \u001B[1;32mc:\\users\\andi\\documents\\github\\mc-ml\\venv\\lib\\site-packages\\google\\api_core\\timeout.py:120\u001B[0m, in \u001B[0;36mTimeToDeadlineTimeout.__call__.<locals>.func_with_timeout\u001B[1;34m(*args, **kwargs)\u001B[0m\n\u001B[0;32m    118\u001B[0m     kwargs[\u001B[38;5;124m\"\u001B[39m\u001B[38;5;124mtimeout\u001B[39m\u001B[38;5;124m\"\u001B[39m] \u001B[38;5;241m=\u001B[39m \u001B[38;5;28mmax\u001B[39m(\u001B[38;5;241m0\u001B[39m, \u001B[38;5;28mself\u001B[39m\u001B[38;5;241m.\u001B[39m_timeout \u001B[38;5;241m-\u001B[39m time_since_first_attempt)\n\u001B[1;32m--> 120\u001B[0m \u001B[38;5;28;01mreturn\u001B[39;00m func(\u001B[38;5;241m*\u001B[39margs, \u001B[38;5;241m*\u001B[39m\u001B[38;5;241m*\u001B[39mkwargs)\n",
      "File \u001B[1;32mc:\\users\\andi\\documents\\github\\mc-ml\\venv\\lib\\site-packages\\google\\api_core\\grpc_helpers.py:74\u001B[0m, in \u001B[0;36m_wrap_unary_errors.<locals>.error_remapped_callable\u001B[1;34m(*args, **kwargs)\u001B[0m\n\u001B[0;32m     73\u001B[0m \u001B[38;5;28;01mexcept\u001B[39;00m grpc\u001B[38;5;241m.\u001B[39mRpcError \u001B[38;5;28;01mas\u001B[39;00m exc:\n\u001B[1;32m---> 74\u001B[0m     \u001B[38;5;28;01mraise\u001B[39;00m exceptions\u001B[38;5;241m.\u001B[39mfrom_grpc_error(exc) \u001B[38;5;28;01mfrom\u001B[39;00m \u001B[38;5;21;01mexc\u001B[39;00m\n",
      "\u001B[1;31mNotFound\u001B[0m: 404 No document to update: projects/spotifai-db/databases/(default)/documents/tracks/1Vej0qeQ3ioKwpI6FUbRv1",
      "\nDuring handling of the above exception, another exception occurred:\n",
      "\u001B[1;31mKeyboardInterrupt\u001B[0m                         Traceback (most recent call last)",
      "Cell \u001B[1;32mIn [2], line 1\u001B[0m\n\u001B[1;32m----> 1\u001B[0m \u001B[43mcrawler\u001B[49m\u001B[38;5;241;43m.\u001B[39;49m\u001B[43mcollect_tracks_from_playlist\u001B[49m\u001B[43m(\u001B[49m\u001B[38;5;124;43m\"\u001B[39;49m\u001B[38;5;124;43m1C49yxU1XBkoq5yaVDbJwx\u001B[39;49m\u001B[38;5;124;43m\"\u001B[39;49m\u001B[43m)\u001B[49m\n",
      "File \u001B[1;32m~\\Documents\\GitHub\\mc-ml\\project\\crawler.py:63\u001B[0m, in \u001B[0;36mCrawler.collect_tracks_from_playlist\u001B[1;34m(self, playlist_id)\u001B[0m\n\u001B[0;32m     61\u001B[0m \u001B[38;5;28;01mfor\u001B[39;00m tracks \u001B[38;5;129;01min\u001B[39;00m track_generator:\n\u001B[0;32m     62\u001B[0m     analyzed_tracks \u001B[38;5;241m=\u001B[39m \u001B[38;5;28mself\u001B[39m\u001B[38;5;241m.\u001B[39m_analyze_tracks(tracks)\n\u001B[1;32m---> 63\u001B[0m     \u001B[38;5;28;43mself\u001B[39;49m\u001B[38;5;241;43m.\u001B[39;49m\u001B[43m_save_tracks\u001B[49m\u001B[43m(\u001B[49m\u001B[43manalyzed_tracks\u001B[49m\u001B[43m)\u001B[49m\n",
      "File \u001B[1;32m~\\Documents\\GitHub\\mc-ml\\project\\crawler.py:73\u001B[0m, in \u001B[0;36mCrawler._save_tracks\u001B[1;34m(self, analyzed_tracks)\u001B[0m\n\u001B[0;32m     71\u001B[0m \u001B[38;5;28mprint\u001B[39m(\u001B[38;5;124m\"\u001B[39m\u001B[38;5;124mSaving tracks ...\u001B[39m\u001B[38;5;124m\"\u001B[39m)\n\u001B[0;32m     72\u001B[0m client: Client \u001B[38;5;241m=\u001B[39m firestore\u001B[38;5;241m.\u001B[39mclient()\n\u001B[1;32m---> 73\u001B[0m \u001B[43manalyzed_tracks\u001B[49m\u001B[38;5;241;43m.\u001B[39;49m\u001B[43mupsert\u001B[49m\u001B[43m(\u001B[49m\u001B[43mclient\u001B[49m\u001B[38;5;241;43m.\u001B[39;49m\u001B[43mcollection\u001B[49m\u001B[43m(\u001B[49m\u001B[38;5;124;43m\"\u001B[39;49m\u001B[38;5;124;43mtracks\u001B[39;49m\u001B[38;5;124;43m\"\u001B[39;49m\u001B[43m)\u001B[49m\u001B[43m)\u001B[49m\n",
      "File \u001B[1;32m~\\Documents\\GitHub\\mc-ml\\project\\track.py:98\u001B[0m, in \u001B[0;36mAnalyzedTracks.upsert\u001B[1;34m(self, collection)\u001B[0m\n\u001B[0;32m     96\u001B[0m \u001B[38;5;28;01mdef\u001B[39;00m \u001B[38;5;21mupsert\u001B[39m(\u001B[38;5;28mself\u001B[39m, collection: CollectionReference):\n\u001B[0;32m     97\u001B[0m     \u001B[38;5;28;01mfor\u001B[39;00m track \u001B[38;5;129;01min\u001B[39;00m \u001B[38;5;28mself\u001B[39m\u001B[38;5;241m.\u001B[39mtracks:\n\u001B[1;32m---> 98\u001B[0m         \u001B[43mtrack\u001B[49m\u001B[38;5;241;43m.\u001B[39;49m\u001B[43mupsert\u001B[49m\u001B[43m(\u001B[49m\u001B[43mcollection\u001B[49m\u001B[43m)\u001B[49m\n",
      "File \u001B[1;32m~\\Documents\\GitHub\\mc-ml\\project\\track.py:63\u001B[0m, in \u001B[0;36mAnalyzedTrack.upsert\u001B[1;34m(self, collection)\u001B[0m\n\u001B[0;32m     61\u001B[0m     doc_ref\u001B[38;5;241m.\u001B[39mupdate(\u001B[38;5;28mself\u001B[39m\u001B[38;5;241m.\u001B[39m\u001B[38;5;18m__dict__\u001B[39m)\n\u001B[0;32m     62\u001B[0m \u001B[38;5;28;01mexcept\u001B[39;00m:\n\u001B[1;32m---> 63\u001B[0m     \u001B[43mdoc_ref\u001B[49m\u001B[38;5;241;43m.\u001B[39;49m\u001B[43mset\u001B[49m\u001B[43m(\u001B[49m\u001B[38;5;28;43mself\u001B[39;49m\u001B[38;5;241;43m.\u001B[39;49m\u001B[38;5;18;43m__dict__\u001B[39;49m\u001B[43m)\u001B[49m\n",
      "File \u001B[1;32mc:\\users\\andi\\documents\\github\\mc-ml\\venv\\lib\\site-packages\\google\\cloud\\firestore_v1\\document.py:167\u001B[0m, in \u001B[0;36mDocumentReference.set\u001B[1;34m(self, document_data, merge, retry, timeout)\u001B[0m\n\u001B[0;32m    109\u001B[0m \u001B[38;5;124;03m\"\"\"Create / replace / merge a document in the Firestore database.\u001B[39;00m\n\u001B[0;32m    110\u001B[0m \n\u001B[0;32m    111\u001B[0m \u001B[38;5;124;03m- To \"upsert\" a document (create if it doesn't exist, replace completely\u001B[39;00m\n\u001B[1;32m   (...)\u001B[0m\n\u001B[0;32m    164\u001B[0m \u001B[38;5;124;03m    result contains an ``update_time`` field.\u001B[39;00m\n\u001B[0;32m    165\u001B[0m \u001B[38;5;124;03m\"\"\"\u001B[39;00m\n\u001B[0;32m    166\u001B[0m batch, kwargs \u001B[38;5;241m=\u001B[39m \u001B[38;5;28mself\u001B[39m\u001B[38;5;241m.\u001B[39m_prep_set(document_data, merge, retry, timeout)\n\u001B[1;32m--> 167\u001B[0m write_results \u001B[38;5;241m=\u001B[39m batch\u001B[38;5;241m.\u001B[39mcommit(\u001B[38;5;241m*\u001B[39m\u001B[38;5;241m*\u001B[39mkwargs)\n\u001B[0;32m    168\u001B[0m \u001B[38;5;28;01mreturn\u001B[39;00m _first_write_result(write_results)\n",
      "File \u001B[1;32mc:\\users\\andi\\documents\\github\\mc-ml\\venv\\lib\\site-packages\\google\\cloud\\firestore_v1\\batch.py:59\u001B[0m, in \u001B[0;36mWriteBatch.commit\u001B[1;34m(self, retry, timeout)\u001B[0m\n\u001B[0;32m     43\u001B[0m \u001B[38;5;124;03m\"\"\"Commit the changes accumulated in this batch.\u001B[39;00m\n\u001B[0;32m     44\u001B[0m \n\u001B[0;32m     45\u001B[0m \u001B[38;5;124;03mArgs:\u001B[39;00m\n\u001B[1;32m   (...)\u001B[0m\n\u001B[0;32m     55\u001B[0m \u001B[38;5;124;03m    write result contains an ``update_time`` field.\u001B[39;00m\n\u001B[0;32m     56\u001B[0m \u001B[38;5;124;03m\"\"\"\u001B[39;00m\n\u001B[0;32m     57\u001B[0m request, kwargs \u001B[38;5;241m=\u001B[39m \u001B[38;5;28mself\u001B[39m\u001B[38;5;241m.\u001B[39m_prep_commit(retry, timeout)\n\u001B[1;32m---> 59\u001B[0m commit_response \u001B[38;5;241m=\u001B[39m \u001B[38;5;28mself\u001B[39m\u001B[38;5;241m.\u001B[39m_client\u001B[38;5;241m.\u001B[39m_firestore_api\u001B[38;5;241m.\u001B[39mcommit(\n\u001B[0;32m     60\u001B[0m     request\u001B[38;5;241m=\u001B[39mrequest,\n\u001B[0;32m     61\u001B[0m     metadata\u001B[38;5;241m=\u001B[39m\u001B[38;5;28mself\u001B[39m\u001B[38;5;241m.\u001B[39m_client\u001B[38;5;241m.\u001B[39m_rpc_metadata,\n\u001B[0;32m     62\u001B[0m     \u001B[38;5;241m*\u001B[39m\u001B[38;5;241m*\u001B[39mkwargs,\n\u001B[0;32m     63\u001B[0m )\n\u001B[0;32m     65\u001B[0m \u001B[38;5;28mself\u001B[39m\u001B[38;5;241m.\u001B[39m_write_pbs \u001B[38;5;241m=\u001B[39m []\n\u001B[0;32m     66\u001B[0m \u001B[38;5;28mself\u001B[39m\u001B[38;5;241m.\u001B[39mwrite_results \u001B[38;5;241m=\u001B[39m results \u001B[38;5;241m=\u001B[39m \u001B[38;5;28mlist\u001B[39m(commit_response\u001B[38;5;241m.\u001B[39mwrite_results)\n",
      "File \u001B[1;32mc:\\users\\andi\\documents\\github\\mc-ml\\venv\\lib\\site-packages\\google\\cloud\\firestore_v1\\services\\firestore\\client.py:1124\u001B[0m, in \u001B[0;36mFirestoreClient.commit\u001B[1;34m(self, request, database, writes, retry, timeout, metadata)\u001B[0m\n\u001B[0;32m   1119\u001B[0m metadata \u001B[38;5;241m=\u001B[39m \u001B[38;5;28mtuple\u001B[39m(metadata) \u001B[38;5;241m+\u001B[39m (\n\u001B[0;32m   1120\u001B[0m     gapic_v1\u001B[38;5;241m.\u001B[39mrouting_header\u001B[38;5;241m.\u001B[39mto_grpc_metadata(((\u001B[38;5;124m\"\u001B[39m\u001B[38;5;124mdatabase\u001B[39m\u001B[38;5;124m\"\u001B[39m, request\u001B[38;5;241m.\u001B[39mdatabase),)),\n\u001B[0;32m   1121\u001B[0m )\n\u001B[0;32m   1123\u001B[0m \u001B[38;5;66;03m# Send the request.\u001B[39;00m\n\u001B[1;32m-> 1124\u001B[0m response \u001B[38;5;241m=\u001B[39m \u001B[43mrpc\u001B[49m\u001B[43m(\u001B[49m\n\u001B[0;32m   1125\u001B[0m \u001B[43m    \u001B[49m\u001B[43mrequest\u001B[49m\u001B[43m,\u001B[49m\n\u001B[0;32m   1126\u001B[0m \u001B[43m    \u001B[49m\u001B[43mretry\u001B[49m\u001B[38;5;241;43m=\u001B[39;49m\u001B[43mretry\u001B[49m\u001B[43m,\u001B[49m\n\u001B[0;32m   1127\u001B[0m \u001B[43m    \u001B[49m\u001B[43mtimeout\u001B[49m\u001B[38;5;241;43m=\u001B[39;49m\u001B[43mtimeout\u001B[49m\u001B[43m,\u001B[49m\n\u001B[0;32m   1128\u001B[0m \u001B[43m    \u001B[49m\u001B[43mmetadata\u001B[49m\u001B[38;5;241;43m=\u001B[39;49m\u001B[43mmetadata\u001B[49m\u001B[43m,\u001B[49m\n\u001B[0;32m   1129\u001B[0m \u001B[43m\u001B[49m\u001B[43m)\u001B[49m\n\u001B[0;32m   1131\u001B[0m \u001B[38;5;66;03m# Done; return the response.\u001B[39;00m\n\u001B[0;32m   1132\u001B[0m \u001B[38;5;28;01mreturn\u001B[39;00m response\n",
      "File \u001B[1;32mc:\\users\\andi\\documents\\github\\mc-ml\\venv\\lib\\site-packages\\google\\api_core\\gapic_v1\\method.py:113\u001B[0m, in \u001B[0;36m_GapicCallable.__call__\u001B[1;34m(self, timeout, retry, *args, **kwargs)\u001B[0m\n\u001B[0;32m    110\u001B[0m     metadata\u001B[38;5;241m.\u001B[39mextend(\u001B[38;5;28mself\u001B[39m\u001B[38;5;241m.\u001B[39m_metadata)\n\u001B[0;32m    111\u001B[0m     kwargs[\u001B[38;5;124m\"\u001B[39m\u001B[38;5;124mmetadata\u001B[39m\u001B[38;5;124m\"\u001B[39m] \u001B[38;5;241m=\u001B[39m metadata\n\u001B[1;32m--> 113\u001B[0m \u001B[38;5;28;01mreturn\u001B[39;00m wrapped_func(\u001B[38;5;241m*\u001B[39margs, \u001B[38;5;241m*\u001B[39m\u001B[38;5;241m*\u001B[39mkwargs)\n",
      "File \u001B[1;32mc:\\users\\andi\\documents\\github\\mc-ml\\venv\\lib\\site-packages\\google\\api_core\\retry.py:349\u001B[0m, in \u001B[0;36mRetry.__call__.<locals>.retry_wrapped_func\u001B[1;34m(*args, **kwargs)\u001B[0m\n\u001B[0;32m    345\u001B[0m target \u001B[38;5;241m=\u001B[39m functools\u001B[38;5;241m.\u001B[39mpartial(func, \u001B[38;5;241m*\u001B[39margs, \u001B[38;5;241m*\u001B[39m\u001B[38;5;241m*\u001B[39mkwargs)\n\u001B[0;32m    346\u001B[0m sleep_generator \u001B[38;5;241m=\u001B[39m exponential_sleep_generator(\n\u001B[0;32m    347\u001B[0m     \u001B[38;5;28mself\u001B[39m\u001B[38;5;241m.\u001B[39m_initial, \u001B[38;5;28mself\u001B[39m\u001B[38;5;241m.\u001B[39m_maximum, multiplier\u001B[38;5;241m=\u001B[39m\u001B[38;5;28mself\u001B[39m\u001B[38;5;241m.\u001B[39m_multiplier\n\u001B[0;32m    348\u001B[0m )\n\u001B[1;32m--> 349\u001B[0m \u001B[38;5;28;01mreturn\u001B[39;00m \u001B[43mretry_target\u001B[49m\u001B[43m(\u001B[49m\n\u001B[0;32m    350\u001B[0m \u001B[43m    \u001B[49m\u001B[43mtarget\u001B[49m\u001B[43m,\u001B[49m\n\u001B[0;32m    351\u001B[0m \u001B[43m    \u001B[49m\u001B[38;5;28;43mself\u001B[39;49m\u001B[38;5;241;43m.\u001B[39;49m\u001B[43m_predicate\u001B[49m\u001B[43m,\u001B[49m\n\u001B[0;32m    352\u001B[0m \u001B[43m    \u001B[49m\u001B[43msleep_generator\u001B[49m\u001B[43m,\u001B[49m\n\u001B[0;32m    353\u001B[0m \u001B[43m    \u001B[49m\u001B[38;5;28;43mself\u001B[39;49m\u001B[38;5;241;43m.\u001B[39;49m\u001B[43m_timeout\u001B[49m\u001B[43m,\u001B[49m\n\u001B[0;32m    354\u001B[0m \u001B[43m    \u001B[49m\u001B[43mon_error\u001B[49m\u001B[38;5;241;43m=\u001B[39;49m\u001B[43mon_error\u001B[49m\u001B[43m,\u001B[49m\n\u001B[0;32m    355\u001B[0m \u001B[43m\u001B[49m\u001B[43m)\u001B[49m\n",
      "File \u001B[1;32mc:\\users\\andi\\documents\\github\\mc-ml\\venv\\lib\\site-packages\\google\\api_core\\retry.py:191\u001B[0m, in \u001B[0;36mretry_target\u001B[1;34m(target, predicate, sleep_generator, timeout, on_error, **kwargs)\u001B[0m\n\u001B[0;32m    189\u001B[0m \u001B[38;5;28;01mfor\u001B[39;00m sleep \u001B[38;5;129;01min\u001B[39;00m sleep_generator:\n\u001B[0;32m    190\u001B[0m     \u001B[38;5;28;01mtry\u001B[39;00m:\n\u001B[1;32m--> 191\u001B[0m         \u001B[38;5;28;01mreturn\u001B[39;00m \u001B[43mtarget\u001B[49m\u001B[43m(\u001B[49m\u001B[43m)\u001B[49m\n\u001B[0;32m    193\u001B[0m     \u001B[38;5;66;03m# pylint: disable=broad-except\u001B[39;00m\n\u001B[0;32m    194\u001B[0m     \u001B[38;5;66;03m# This function explicitly must deal with broad exceptions.\u001B[39;00m\n\u001B[0;32m    195\u001B[0m     \u001B[38;5;28;01mexcept\u001B[39;00m \u001B[38;5;167;01mException\u001B[39;00m \u001B[38;5;28;01mas\u001B[39;00m exc:\n",
      "File \u001B[1;32mc:\\users\\andi\\documents\\github\\mc-ml\\venv\\lib\\site-packages\\google\\api_core\\timeout.py:120\u001B[0m, in \u001B[0;36mTimeToDeadlineTimeout.__call__.<locals>.func_with_timeout\u001B[1;34m(*args, **kwargs)\u001B[0m\n\u001B[0;32m    117\u001B[0m     \u001B[38;5;66;03m# Avoid setting negative timeout\u001B[39;00m\n\u001B[0;32m    118\u001B[0m     kwargs[\u001B[38;5;124m\"\u001B[39m\u001B[38;5;124mtimeout\u001B[39m\u001B[38;5;124m\"\u001B[39m] \u001B[38;5;241m=\u001B[39m \u001B[38;5;28mmax\u001B[39m(\u001B[38;5;241m0\u001B[39m, \u001B[38;5;28mself\u001B[39m\u001B[38;5;241m.\u001B[39m_timeout \u001B[38;5;241m-\u001B[39m time_since_first_attempt)\n\u001B[1;32m--> 120\u001B[0m \u001B[38;5;28;01mreturn\u001B[39;00m func(\u001B[38;5;241m*\u001B[39margs, \u001B[38;5;241m*\u001B[39m\u001B[38;5;241m*\u001B[39mkwargs)\n",
      "File \u001B[1;32mc:\\users\\andi\\documents\\github\\mc-ml\\venv\\lib\\site-packages\\google\\api_core\\grpc_helpers.py:72\u001B[0m, in \u001B[0;36m_wrap_unary_errors.<locals>.error_remapped_callable\u001B[1;34m(*args, **kwargs)\u001B[0m\n\u001B[0;32m     69\u001B[0m \u001B[38;5;129m@functools\u001B[39m\u001B[38;5;241m.\u001B[39mwraps(callable_)\n\u001B[0;32m     70\u001B[0m \u001B[38;5;28;01mdef\u001B[39;00m \u001B[38;5;21merror_remapped_callable\u001B[39m(\u001B[38;5;241m*\u001B[39margs, \u001B[38;5;241m*\u001B[39m\u001B[38;5;241m*\u001B[39mkwargs):\n\u001B[0;32m     71\u001B[0m     \u001B[38;5;28;01mtry\u001B[39;00m:\n\u001B[1;32m---> 72\u001B[0m         \u001B[38;5;28;01mreturn\u001B[39;00m callable_(\u001B[38;5;241m*\u001B[39margs, \u001B[38;5;241m*\u001B[39m\u001B[38;5;241m*\u001B[39mkwargs)\n\u001B[0;32m     73\u001B[0m     \u001B[38;5;28;01mexcept\u001B[39;00m grpc\u001B[38;5;241m.\u001B[39mRpcError \u001B[38;5;28;01mas\u001B[39;00m exc:\n\u001B[0;32m     74\u001B[0m         \u001B[38;5;28;01mraise\u001B[39;00m exceptions\u001B[38;5;241m.\u001B[39mfrom_grpc_error(exc) \u001B[38;5;28;01mfrom\u001B[39;00m \u001B[38;5;21;01mexc\u001B[39;00m\n",
      "File \u001B[1;32mc:\\users\\andi\\documents\\github\\mc-ml\\venv\\lib\\site-packages\\grpc\\_channel.py:944\u001B[0m, in \u001B[0;36m_UnaryUnaryMultiCallable.__call__\u001B[1;34m(self, request, timeout, metadata, credentials, wait_for_ready, compression)\u001B[0m\n\u001B[0;32m    937\u001B[0m \u001B[38;5;28;01mdef\u001B[39;00m \u001B[38;5;21m__call__\u001B[39m(\u001B[38;5;28mself\u001B[39m,\n\u001B[0;32m    938\u001B[0m              request,\n\u001B[0;32m    939\u001B[0m              timeout\u001B[38;5;241m=\u001B[39m\u001B[38;5;28;01mNone\u001B[39;00m,\n\u001B[1;32m   (...)\u001B[0m\n\u001B[0;32m    942\u001B[0m              wait_for_ready\u001B[38;5;241m=\u001B[39m\u001B[38;5;28;01mNone\u001B[39;00m,\n\u001B[0;32m    943\u001B[0m              compression\u001B[38;5;241m=\u001B[39m\u001B[38;5;28;01mNone\u001B[39;00m):\n\u001B[1;32m--> 944\u001B[0m     state, call, \u001B[38;5;241m=\u001B[39m \u001B[38;5;28;43mself\u001B[39;49m\u001B[38;5;241;43m.\u001B[39;49m\u001B[43m_blocking\u001B[49m\u001B[43m(\u001B[49m\u001B[43mrequest\u001B[49m\u001B[43m,\u001B[49m\u001B[43m \u001B[49m\u001B[43mtimeout\u001B[49m\u001B[43m,\u001B[49m\u001B[43m \u001B[49m\u001B[43mmetadata\u001B[49m\u001B[43m,\u001B[49m\u001B[43m \u001B[49m\u001B[43mcredentials\u001B[49m\u001B[43m,\u001B[49m\n\u001B[0;32m    945\u001B[0m \u001B[43m                                  \u001B[49m\u001B[43mwait_for_ready\u001B[49m\u001B[43m,\u001B[49m\u001B[43m \u001B[49m\u001B[43mcompression\u001B[49m\u001B[43m)\u001B[49m\n\u001B[0;32m    946\u001B[0m     \u001B[38;5;28;01mreturn\u001B[39;00m _end_unary_response_blocking(state, call, \u001B[38;5;28;01mFalse\u001B[39;00m, \u001B[38;5;28;01mNone\u001B[39;00m)\n",
      "File \u001B[1;32mc:\\users\\andi\\documents\\github\\mc-ml\\venv\\lib\\site-packages\\grpc\\_channel.py:933\u001B[0m, in \u001B[0;36m_UnaryUnaryMultiCallable._blocking\u001B[1;34m(self, request, timeout, metadata, credentials, wait_for_ready, compression)\u001B[0m\n\u001B[0;32m    925\u001B[0m \u001B[38;5;28;01melse\u001B[39;00m:\n\u001B[0;32m    926\u001B[0m     call \u001B[38;5;241m=\u001B[39m \u001B[38;5;28mself\u001B[39m\u001B[38;5;241m.\u001B[39m_channel\u001B[38;5;241m.\u001B[39msegregated_call(\n\u001B[0;32m    927\u001B[0m         cygrpc\u001B[38;5;241m.\u001B[39mPropagationConstants\u001B[38;5;241m.\u001B[39mGRPC_PROPAGATE_DEFAULTS,\n\u001B[0;32m    928\u001B[0m         \u001B[38;5;28mself\u001B[39m\u001B[38;5;241m.\u001B[39m_method, \u001B[38;5;28;01mNone\u001B[39;00m, _determine_deadline(deadline), metadata,\n\u001B[1;32m   (...)\u001B[0m\n\u001B[0;32m    931\u001B[0m             \u001B[38;5;28;01mNone\u001B[39;00m,\n\u001B[0;32m    932\u001B[0m         ),), \u001B[38;5;28mself\u001B[39m\u001B[38;5;241m.\u001B[39m_context)\n\u001B[1;32m--> 933\u001B[0m     event \u001B[38;5;241m=\u001B[39m \u001B[43mcall\u001B[49m\u001B[38;5;241;43m.\u001B[39;49m\u001B[43mnext_event\u001B[49m\u001B[43m(\u001B[49m\u001B[43m)\u001B[49m\n\u001B[0;32m    934\u001B[0m     _handle_event(event, state, \u001B[38;5;28mself\u001B[39m\u001B[38;5;241m.\u001B[39m_response_deserializer)\n\u001B[0;32m    935\u001B[0m     \u001B[38;5;28;01mreturn\u001B[39;00m state, call\n",
      "File \u001B[1;32msrc\\python\\grpcio\\grpc\\_cython\\_cygrpc/channel.pyx.pxi:338\u001B[0m, in \u001B[0;36mgrpc._cython.cygrpc.SegregatedCall.next_event\u001B[1;34m()\u001B[0m\n",
      "File \u001B[1;32msrc\\python\\grpcio\\grpc\\_cython\\_cygrpc/channel.pyx.pxi:169\u001B[0m, in \u001B[0;36mgrpc._cython.cygrpc._next_call_event\u001B[1;34m()\u001B[0m\n",
      "File \u001B[1;32msrc\\python\\grpcio\\grpc\\_cython\\_cygrpc/channel.pyx.pxi:163\u001B[0m, in \u001B[0;36mgrpc._cython.cygrpc._next_call_event\u001B[1;34m()\u001B[0m\n",
      "File \u001B[1;32msrc\\python\\grpcio\\grpc\\_cython\\_cygrpc/completion_queue.pyx.pxi:78\u001B[0m, in \u001B[0;36mgrpc._cython.cygrpc._latent_event\u001B[1;34m()\u001B[0m\n",
      "File \u001B[1;32msrc\\python\\grpcio\\grpc\\_cython\\_cygrpc/completion_queue.pyx.pxi:62\u001B[0m, in \u001B[0;36mgrpc._cython.cygrpc._internal_latent_event\u001B[1;34m()\u001B[0m\n",
      "File \u001B[1;32msrc\\python\\grpcio\\grpc\\_cython\\_cygrpc/completion_queue.pyx.pxi:58\u001B[0m, in \u001B[0;36mgrpc._cython.cygrpc._interpret_event\u001B[1;34m()\u001B[0m\n",
      "File \u001B[1;32msrc\\python\\grpcio\\grpc\\_cython\\_cygrpc/tag.pyx.pxi:71\u001B[0m, in \u001B[0;36mgrpc._cython.cygrpc._BatchOperationTag.event\u001B[1;34m()\u001B[0m\n",
      "File \u001B[1;32msrc\\python\\grpcio\\grpc\\_cython\\_cygrpc/operation.pyx.pxi:138\u001B[0m, in \u001B[0;36mgrpc._cython.cygrpc.ReceiveInitialMetadataOperation.un_c\u001B[1;34m()\u001B[0m\n",
      "File \u001B[1;32msrc\\python\\grpcio\\grpc\\_cython\\_cygrpc/metadata.pyx.pxi:69\u001B[0m, in \u001B[0;36mgrpc._cython.cygrpc._metadata\u001B[1;34m()\u001B[0m\n",
      "File \u001B[1;32msrc\\python\\grpcio\\grpc\\_cython\\_cygrpc/metadata.pyx.pxi:70\u001B[0m, in \u001B[0;36mgenexpr\u001B[1;34m()\u001B[0m\n",
      "File \u001B[1;32msrc\\python\\grpcio\\grpc\\_cython\\_cygrpc/metadata.pyx.pxi:64\u001B[0m, in \u001B[0;36mgrpc._cython.cygrpc._metadatum\u001B[1;34m()\u001B[0m\n",
      "File \u001B[1;32m<string>:1\u001B[0m, in \u001B[0;36m<lambda>\u001B[1;34m(_cls, key, value)\u001B[0m\n",
      "\u001B[1;31mKeyboardInterrupt\u001B[0m: "
     ]
    }
   ],
   "source": [
    "crawler.collect_tracks_from_playlist(\"1C49yxU1XBkoq5yaVDbJwx\")"
   ],
   "metadata": {
    "collapsed": false,
    "pycharm": {
     "name": "#%%\n"
    }
   }
  },
  {
   "cell_type": "code",
   "execution_count": null,
   "outputs": [],
   "source": [],
   "metadata": {
    "collapsed": false,
    "pycharm": {
     "name": "#%%\n"
    }
   }
  }
 ],
 "metadata": {
  "kernelspec": {
   "display_name": "Python 3",
   "language": "python",
   "name": "python3"
  },
  "language_info": {
   "codemirror_mode": {
    "name": "ipython",
    "version": 2
   },
   "file_extension": ".py",
   "mimetype": "text/x-python",
   "name": "python",
   "nbconvert_exporter": "python",
   "pygments_lexer": "ipython2",
   "version": "2.7.6"
  }
 },
 "nbformat": 4,
 "nbformat_minor": 0
}