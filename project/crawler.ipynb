{
 "cells": [
  {
   "cell_type": "markdown",
   "source": [
    "# Collect data from Spotify and Last.fm"
   ],
   "metadata": {
    "collapsed": false
   }
  },
  {
   "cell_type": "code",
   "execution_count": 1,
   "outputs": [],
   "source": [
    "from crawler import Crawler\n",
    "\n",
    "crawler = Crawler(\"127.0.0.1\", 5000)"
   ],
   "metadata": {
    "collapsed": false,
    "pycharm": {
     "name": "#%%\n"
    }
   }
  },
  {
   "cell_type": "code",
   "execution_count": null,
   "outputs": [],
   "source": [
    "crawler.collect_random_tracks()"
   ],
   "metadata": {
    "collapsed": false,
    "pycharm": {
     "name": "#%%\n"
    }
   }
  },
  {
   "cell_type": "markdown",
   "source": [
    "Huge party playlist (500+ hours)"
   ],
   "metadata": {
    "collapsed": false,
    "pycharm": {
     "name": "#%% md\n"
    }
   }
  },
  {
   "cell_type": "code",
   "execution_count": null,
   "outputs": [
    {
     "name": "stdout",
     "output_type": "stream",
     "text": [
      "refreshing spotify credentials at _retrieve_playlist_tracks\n",
      "Analyzing 50 tracks ...\n",
      "No tags 50i4g5QRKsw0jzI2IMvtmC Universe of Calm ['8D Relaxium']\n",
      "No tags 3zmY99mQqB0lBifOwBzHHy Charleston Charleston ['Damien Poyard']\n",
      "No tags 7fvOUyRi8q9y4IrQPTIxQ3 Top Of The World / Take Me Home Country Roads / Hey Good Looking ['The Diamond Accordion Band']\n",
      "No tags 4IBlIZtU6v7SnCNf7kdCgx Three Little Birds - Acoustic ['Richard Watts']\n",
      "No tags 1FvOd1pzW9c1Cdq0CWtO7x Hanggang Kailan (Umuwi Ka Na Baby) ['Angelina Cruz']\n",
      "No tags 1mIjg3nbumqPee6BjWpq0F Corre a Sus Pies ['July Ann Alvarado', 'Héctor Delgado']\n",
      "No tags 3b8GsO4H7M5jC3skXctKby A Él Sea la Gloria - En Vivo ['Karen Rivera', 'Ministerio Sion']\n",
      "No tags 2tarv1UbVt0c4ygyi1D8NW ¡Oh, Tu Fidelidad! ['Addi Yin', 'Hugo Yin']\n",
      "No tags 3fi9zB1ojXw9Rv1NbR043q Guatemala Shawty ['lonelyrari']\n",
      "No tags 7Gha6uktqprgG82ZSMojQ5 To Ba Ma Bash ['Rail 47']\n",
      "No tags 1nLaAGaf7LToTcuy7vhJb5 Il est bon de louer Dieu ['Dorcas Kaja']\n",
      "refreshing spotify credentials at _enrich_tracks\n",
      "Retry of audio analysis for track 0WuuVfq5e2Zg1aaQzrJlxX necessary.\n",
      "Retry of audio analysis for track 0WuuVfq5e2Zg1aaQzrJlxX necessary.\n",
      "Retry of audio analysis for track 0WuuVfq5e2Zg1aaQzrJlxX necessary.\n",
      "Retry of audio analysis for track 4KZWXhQivY3VmD9g7yyFpR necessary.\n",
      "Retry of audio analysis for track 2sDurGdooRkMxYRGfRvPdn necessary.\n",
      "Retry of audio analysis for track 6J0ECsNLFFEAl18tTtvB0m necessary.\n",
      "Retry of audio analysis for track 5tLOyz4zKn4M0lpMAT58FD necessary.\n",
      "Retry of audio analysis for track 2haFMwFbUyAWBZB5MaESPC necessary.\n",
      "Retry of audio analysis for track 5FEdj9bQyPnhDn8rSnsTX9 necessary.\n",
      "Retry of audio analysis for track 5FEdj9bQyPnhDn8rSnsTX9 necessary.\n",
      "Retry of audio analysis for track 5FEdj9bQyPnhDn8rSnsTX9 necessary.\n",
      "Retry of audio analysis for track 5FEdj9bQyPnhDn8rSnsTX9 necessary.\n",
      "Retry of audio analysis for track 4IBlIZtU6v7SnCNf7kdCgx necessary.\n",
      "Retry of audio analysis for track 53iFMaNUXn6Oj8hUIKSO5a necessary.\n",
      "Retry of audio analysis for track 53iFMaNUXn6Oj8hUIKSO5a necessary.\n",
      "Retry of audio analysis for track 1G9TGafoedKwfqj9KxOTLa necessary.\n",
      "Retry of audio analysis for track 6AkbB07TdDuPGUkWPm8bpR necessary.\n",
      "Retry of audio analysis for track 3vF8qZZNw7RzNmfeShK9B2 necessary.\n",
      "Retry of audio analysis for track 726jL4DA03vptKr05so4Zu necessary.\n",
      "Retry of audio analysis for track 726jL4DA03vptKr05so4Zu necessary.\n",
      "Retry of audio analysis for track 726jL4DA03vptKr05so4Zu necessary.\n",
      "Retry of audio analysis for track 726jL4DA03vptKr05so4Zu necessary.\n",
      "Retry of audio analysis for track 726jL4DA03vptKr05so4Zu necessary.\n",
      "Retry of audio analysis for track 726jL4DA03vptKr05so4Zu necessary.\n",
      "Retry of audio analysis for track 726jL4DA03vptKr05so4Zu necessary.\n",
      "Retry of audio analysis for track 726jL4DA03vptKr05so4Zu necessary.\n",
      "Retry of audio analysis for track 1mIjg3nbumqPee6BjWpq0F necessary.\n",
      "Retry of audio analysis for track 1mIjg3nbumqPee6BjWpq0F necessary.\n",
      "Retry of audio analysis for track 1mIjg3nbumqPee6BjWpq0F necessary.\n",
      "Retry of audio analysis for track 3b8GsO4H7M5jC3skXctKby necessary.\n",
      "Retry of audio analysis for track 3KzgdYUlqV6TOG7JCmx2Wg necessary.\n",
      "Retry of audio analysis for track 1nLaAGaf7LToTcuy7vhJb5 necessary.\n",
      "Saving tracks ...\n",
      "Analyzing 50 tracks ...\n",
      "No tags 4qwBmPUVUbyXjwlttBAp8J Saggies ['Young King The Vocalist', 'Temple Boys Cpt']\n",
      "No tags 0k0P17GUIH5QauRJHjmUh8 Plouf plouf tizen ['Hafida Favret']\n",
      "No tags 327WXOY26JOPcjRVMSZsY1 No Love/No One ['Gideon']\n",
      "No tags 3ZG2CsczcYoUQnFiqO0FSy Peru ['Blleki']\n",
      "No tags 3olVZCzBxO4EfXYtmly33X Balluket e ballit moj ['Këngë labe']\n",
      "refreshing spotify credentials at _enrich_tracks\n",
      "Retry of audio analysis for track 7DirY6NZx5zbsNChNHUZNb necessary.\n",
      "Retry of audio analysis for track 7DirY6NZx5zbsNChNHUZNb necessary.\n",
      "Retry of audio analysis for track 3zTObKcN6vfo9teWsKCU34 necessary.\n",
      "Retry of audio analysis for track 3zTObKcN6vfo9teWsKCU34 necessary.\n",
      "Retry of audio analysis for track 1IRaxGm2DMUiMpirWAfUqo necessary.\n",
      "Retry of audio analysis for track 4aLnxFrimShp5lMEVMA1cC necessary.\n",
      "Retry of audio analysis for track 48EjSdYh8wz2gBxxqzrsLe necessary.\n",
      "Retry of audio analysis for track 0sXz1ORoQmOfno8LFPaop9 necessary.\n",
      "Retry of audio analysis for track 6xxAr3lcYtrKkPzJa87u0g necessary.\n",
      "Retry of audio analysis for track 6xxAr3lcYtrKkPzJa87u0g necessary.\n",
      "Retry of audio analysis for track 3ZG2CsczcYoUQnFiqO0FSy necessary.\n",
      "Retry of audio analysis for track 7i4H1zqeVH2TmVVCqLqdVj necessary.\n",
      "Saving tracks ...\n",
      "Analyzing 50 tracks ...\n",
      "No tags 3Iig5ERWfCY6Jx9p7ac7Kb Rivers ['Young Collective']\n",
      "refreshing spotify credentials at _enrich_tracks\n",
      "Retry of audio analysis for track 5wwbe5wtc4pd9RDlFNXeFg necessary.\n",
      "Retry of audio analysis for track 5wwbe5wtc4pd9RDlFNXeFg necessary.\n",
      "Retry of audio analysis for track 24gq8lBC6Zkecb8wpVGVUW necessary.\n",
      "Retry of audio analysis for track 24gq8lBC6Zkecb8wpVGVUW necessary.\n",
      "Retry of audio analysis for track 6lgDvkxcWNnCefaT2qeJPf necessary.\n",
      "Retry of audio analysis for track 0DxV8iMQuWxo8tbyK4g2w3 necessary.\n",
      "Retry of audio analysis for track 0DxV8iMQuWxo8tbyK4g2w3 necessary.\n",
      "Retry of audio analysis for track 0DxV8iMQuWxo8tbyK4g2w3 necessary.\n",
      "Retry of audio analysis for track 0DxV8iMQuWxo8tbyK4g2w3 necessary.\n",
      "Retry of audio analysis for track 0DxV8iMQuWxo8tbyK4g2w3 necessary.\n",
      "Retry of audio analysis for track 05OsKzq1tm0SY5Hk4lZQRE necessary.\n",
      "Retry of audio analysis for track 7r09MgJeUGLr46qJAwWQIn necessary.\n",
      "Retry of audio analysis for track 7r09MgJeUGLr46qJAwWQIn necessary.\n",
      "Retry of audio analysis for track 3P5e77I40H0fzHFjJ9q7xJ necessary.\n",
      "Retry of audio analysis for track 5vhuCnEAcQcUz1SyKpbPG5 necessary.\n",
      "Retry of audio analysis for track 2wOAeV7IE1vxJDn6LsaywO necessary.\n",
      "Retry of audio analysis for track 2wOAeV7IE1vxJDn6LsaywO necessary.\n",
      "Retry of audio analysis for track 2wOAeV7IE1vxJDn6LsaywO necessary.\n",
      "Retry of audio analysis for track 2wOAeV7IE1vxJDn6LsaywO necessary.\n",
      "Retry of audio analysis for track 2wOAeV7IE1vxJDn6LsaywO necessary.\n",
      "Retry of audio analysis for track 2wOAeV7IE1vxJDn6LsaywO necessary.\n",
      "Retry of audio analysis for track 2wOAeV7IE1vxJDn6LsaywO necessary.\n",
      "Retry of audio analysis for track 2wOAeV7IE1vxJDn6LsaywO necessary.\n",
      "Retry of audio analysis for track 2wOAeV7IE1vxJDn6LsaywO necessary.\n",
      "Retry of audio analysis for track 2wOAeV7IE1vxJDn6LsaywO necessary.\n",
      "Retry of audio analysis for track 2wOAeV7IE1vxJDn6LsaywO necessary.\n",
      "Retry of audio analysis for track 3s5L9EWDNXfUlwHhba4wUv necessary.\n",
      "Retry of audio analysis for track 3s5L9EWDNXfUlwHhba4wUv necessary.\n",
      "Retry of audio analysis for track 4CZq7M6hBTg77Qhp3TJHdN necessary.\n",
      "Retry of audio analysis for track 4CZq7M6hBTg77Qhp3TJHdN necessary.\n",
      "Retry of audio analysis for track 4CZq7M6hBTg77Qhp3TJHdN necessary.\n",
      "Retry of audio analysis for track 2eAMb00IDT4wnC794mG0ps necessary.\n",
      "Saving tracks ...\n",
      "Analyzing 50 tracks ...\n",
      "No tags 6PWNxmM4RYwT1b2J5hw9pc Te Aprovechas ['Grupo Andino Show']\n",
      "No tags 38GxLG5AHziQ9ho4Qel0Vg EXCEED ['Eden/乱 凪砂(CV.諏訪部順一)、巴 日和(CV.花江夏樹)、七種 茨(CV.逢坂良太)、漣 ジュン(CV.内田雄馬)']\n",
      "No tags 65kiKcnBccOiqKJYG0bLw8 5th Chain ['BlvkDivmonds']\n",
      "No tags 1eNYKZgWGsRweBVfslau7j クリムゾン・ブルーミング ['赤城']\n",
      "No tags 12Ev4G4e47hjSplMShXU6e Kamado Tanjiro No Uta but it's lofi ['Ajotabeats']\n",
      "No tags 6jiZOEoAbI591K6oE7tO9a Isabella’s Lullaby (From \"The Promised Neverland\") ['Piano Pan']\n",
      "No tags 1b4c2gSEjOvy0tjUKnWJXx Hoodstar + ['HYPNOSISMIC -D.R.B- (Division All Stars)']\n",
      "No tags 4q4dWUeNCk3ULWK1IxYblZ Great Britain United Kingdom England God Save the Queen Himno Nacionales Nationale Hymne National Anthem ['U.S.N.B.']\n",
      "No tags 0sw4u9EcSC2E6rtCCdglHZ Faithful ['Erik Nieder']\n",
      "No tags 6JI79G3rDwkFFMYdxwtukR The Way That I Take ['First Pentecostal Church of North Little Rock']\n",
      "refreshing spotify credentials at _enrich_tracks\n",
      "Retry of audio analysis for track 2OY4ZXOgnQOGP1oeB79svU necessary.\n",
      "Retry of audio analysis for track 65kiKcnBccOiqKJYG0bLw8 necessary.\n",
      "Retry of audio analysis for track 7oa18QwhLsV3JfITGDxslD necessary.\n",
      "Retry of audio analysis for track 4q4dWUeNCk3ULWK1IxYblZ necessary.\n",
      "Retry of audio analysis for track 6UWZUL60UVWXE2CwbntY7B necessary.\n",
      "Retry of audio analysis for track 6UWZUL60UVWXE2CwbntY7B necessary.\n",
      "Retry of audio analysis for track 6UWZUL60UVWXE2CwbntY7B necessary.\n",
      "Retry of audio analysis for track 6UWZUL60UVWXE2CwbntY7B necessary.\n",
      "Retry of audio analysis for track 6UWZUL60UVWXE2CwbntY7B necessary.\n",
      "Retry of audio analysis for track 6UWZUL60UVWXE2CwbntY7B necessary.\n",
      "Retry of audio analysis for track 6UWZUL60UVWXE2CwbntY7B necessary.\n",
      "Retry of audio analysis for track 6UWZUL60UVWXE2CwbntY7B necessary.\n",
      "Retry of audio analysis for track 6UWZUL60UVWXE2CwbntY7B necessary.\n",
      "Retry of audio analysis for track 1AofrI6TYzXGIrvKk3tjWe necessary.\n",
      "Retry of audio analysis for track 1AofrI6TYzXGIrvKk3tjWe necessary.\n",
      "Retry of audio analysis for track 1AofrI6TYzXGIrvKk3tjWe necessary.\n",
      "Retry of audio analysis for track 1AofrI6TYzXGIrvKk3tjWe necessary.\n",
      "Retry of audio analysis for track 1AofrI6TYzXGIrvKk3tjWe necessary.\n",
      "Saving tracks ...\n",
      "Analyzing 50 tracks ...\n",
      "No tags 68kdEFOwf35ETd50QkNDAM Que Lejos Ando ['Conjunto De Arpa Barajas']\n",
      "No tags 7BrR9xnpDKyAj0XvwIKHlS Crinkle Sounds II ['ASMR 4 U']\n",
      "No tags 1Bsn3jSsYPVlzpHO3p1j7q Roi Jua ['Dyou', 'Koushik Sarma']\n",
      "No tags 2kOSYxtdNVTTjrdiaOgqlj Kela Aziztee ['Ramsen Sheeno']\n",
      "No tags 7bYiL7nx6hw5TZmv9eQ7qs A Better Place ['Scott Maynarde']\n",
      "No tags 2KMQeNiBxPh7z7nxPtdjh9 Split Screen ['Pistol Pete & Enzo']\n",
      "refreshing spotify credentials at _enrich_tracks\n",
      "Retry of audio analysis for track 6tUster4YGoNj6U5yZ5NXz necessary.\n",
      "Retry of audio analysis for track 6tUster4YGoNj6U5yZ5NXz necessary.\n",
      "Retry of audio analysis for track 217rrEULoEhwza1PIJKT71 necessary.\n",
      "Retry of audio analysis for track 2johnzqTeIdgF1kUV4Yaeo necessary.\n",
      "Retry of audio analysis for track 0k4JSIG2PfVxVCiV7SDCJh necessary.\n",
      "Retry of audio analysis for track 1qjADgyPMiFFJvs8arLtCq necessary.\n",
      "Retry of audio analysis for track 2527WUoKIauHY1tx5TCetu necessary.\n",
      "Retry of audio analysis for track 0mfo3pSczHkPwlWbawU2uX necessary.\n",
      "Retry of audio analysis for track 2KMQeNiBxPh7z7nxPtdjh9 necessary.\n",
      "Retry of audio analysis for track 3tswe9ghRUi8jXrMBJKR9Y necessary.\n",
      "Retry of audio analysis for track 3s5NrHgyTkuinl0TgHCHeK necessary.\n",
      "Retry of audio analysis for track 0bsEd30Ho08d9SD4LXrzXX necessary.\n",
      "Saving tracks ...\n",
      "Analyzing 50 tracks ...\n",
      "No tags 57e0TpcPmUSKHZbjA5GaFD Groovy ABC ['Lah-Lah']\n",
      "No tags 0epc6FCUxWAOYI5q7nyIQu As You Go ['Jordy Maxwell']\n",
      "No tags 4TcuugOzYexBABmxE9Ln24 Hello - The Voice Australia 2019 Performance / Live ['Jack Vidgen']\n",
      "refreshing spotify credentials at _enrich_tracks\n",
      "Retry of audio analysis for track 3nQLl9jJ3ff8PfhkEra4Fj necessary.\n",
      "Retry of audio analysis for track 3nQLl9jJ3ff8PfhkEra4Fj necessary.\n",
      "Retry of audio analysis for track 3nQLl9jJ3ff8PfhkEra4Fj necessary.\n",
      "Retry of audio analysis for track 3i1isbSpcLUVejr3rT9bNT necessary.\n",
      "Retry of audio analysis for track 5olluWUXjkYTAIqtnFElyS necessary.\n",
      "Retry of audio analysis for track 3gSvibGXA2XWtmpeUgg4K9 necessary.\n",
      "Retry of audio analysis for track 4QZQusy2R5WM10smJ5LzD6 necessary.\n",
      "Retry of audio analysis for track 3Lp99XSPw1pywTDOL3MaUm necessary.\n",
      "Saving tracks ...\n",
      "Analyzing 50 tracks ...\n",
      "No tags 1xvwkEuT98ZDDVEXPV1BYh Ek Mota Hathi Jhoom Ke Chala ['Sims Kaur']\n",
      "No tags 3z3aqRH8F8dnZSSDuWjh9f Can’t Resist ['Cafezinho Mood']\n",
      "No tags 7zVpXNJWZTx9VFGsASdvDb Liminal ride ['Luna Bauer']\n",
      "No tags 5YqBiHBTevTPTnDB8phqu7 Stevie Ray Shuffle A ['Briggs Marangoni Occhipinti']\n",
      "No tags 5Fub1EL8yvfHK9iYZ49d67 Puchatek i pszczoły ['Bajka Muzyczna']\n",
      "refreshing spotify credentials at _enrich_tracks\n",
      "Retry of audio analysis for track 3nFdWBHgWP4MiYid0MkWA2 necessary.\n",
      "Retry of audio analysis for track 15pJPbo0r00e82puUIUS1i necessary.\n",
      "Retry of audio analysis for track 7nGA1sRfLDWXYb3VPstnZf necessary.\n",
      "Retry of audio analysis for track 0hi38sQ6FM69mepBRJEpmq necessary.\n",
      "Retry of audio analysis for track 0hi38sQ6FM69mepBRJEpmq necessary.\n",
      "Retry of audio analysis for track 0hi38sQ6FM69mepBRJEpmq necessary.\n",
      "Retry of audio analysis for track 0hi38sQ6FM69mepBRJEpmq necessary.\n",
      "Retry of audio analysis for track 0hi38sQ6FM69mepBRJEpmq necessary.\n",
      "Retry of audio analysis for track 0hi38sQ6FM69mepBRJEpmq necessary.\n",
      "Retry of audio analysis for track 0hi38sQ6FM69mepBRJEpmq necessary.\n",
      "Retry of audio analysis for track 0hi38sQ6FM69mepBRJEpmq necessary.\n",
      "Retry of audio analysis for track 0hi38sQ6FM69mepBRJEpmq necessary.\n",
      "Retry of audio analysis for track 0hi38sQ6FM69mepBRJEpmq necessary.\n",
      "Retry of audio analysis for track 0hi38sQ6FM69mepBRJEpmq necessary.\n",
      "Retry of audio analysis for track 7vjXPjtvm9IjoPKGVyfg10 necessary.\n",
      "Retry of audio analysis for track 1fwtJ5PoXp02amYo4gFHpP necessary.\n"
     ]
    }
   ],
   "source": [
    "crawler.collect_tracks_from_playlist(\"69fEt9DN5r4JQATi52sRtq\")"
   ],
   "metadata": {
    "collapsed": false,
    "pycharm": {
     "is_executing": true
    }
   }
  },
  {
   "cell_type": "code",
   "execution_count": null,
   "outputs": [],
   "source": [],
   "metadata": {
    "collapsed": false,
    "pycharm": {
     "name": "#%%\n"
    }
   }
  }
 ],
 "metadata": {
  "kernelspec": {
   "display_name": "Python 3",
   "language": "python",
   "name": "python3"
  },
  "language_info": {
   "codemirror_mode": {
    "name": "ipython",
    "version": 2
   },
   "file_extension": ".py",
   "mimetype": "text/x-python",
   "name": "python",
   "nbconvert_exporter": "python",
   "pygments_lexer": "ipython2",
   "version": "2.7.6"
  }
 },
 "nbformat": 4,
 "nbformat_minor": 0
}
