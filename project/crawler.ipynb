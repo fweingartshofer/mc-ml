{
 "cells": [
  {
   "cell_type": "markdown",
   "source": [
    "# Collect data from Spotify and Last.fm"
   ],
   "metadata": {
    "collapsed": false
   }
  },
  {
   "cell_type": "code",
   "execution_count": 1,
   "outputs": [],
   "source": [
    "from crawler import Crawler\n",
    "\n",
    "crawler = Crawler(\"127.0.0.1\", 5000)"
   ],
   "metadata": {
    "collapsed": false,
    "pycharm": {
     "name": "#%%\n"
    }
   }
  },
  {
   "cell_type": "code",
   "execution_count": null,
   "outputs": [],
   "source": [
    "# crawler.collect_random_tracks()"
   ],
   "metadata": {
    "collapsed": false,
    "pycharm": {
     "name": "#%%\n"
    }
   }
  },
  {
   "cell_type": "markdown",
   "source": [
    "Huge party playlist (500+ hours)"
   ],
   "metadata": {
    "collapsed": false,
    "pycharm": {
     "name": "#%% md\n"
    }
   }
  },
  {
   "cell_type": "code",
   "execution_count": null,
   "outputs": [
    {
     "name": "stdout",
     "output_type": "stream",
     "text": [
      "loading playlist 1C49yxU1XBkoq5yaVDbJwx , offset: 1400\n",
      "Analyzing 50 tracks ...\n",
      "No tags 5uCdgBAqYPWQ2HGpJVGAeD Get Up I Feel Like Being A Sex Machine - Pt. 1 / Single Version ['James Brown']\n",
      "Retry of audio analysis for track 1huvTbEYtgltjQRXzrNKGi necessary.\n",
      "Retry of audio analysis for track 1huvTbEYtgltjQRXzrNKGi necessary.\n",
      "Retry of audio analysis for track 63bniwRWWFGoasyhX2eQHJ necessary.\n",
      "Retry of audio analysis for track 6kotXaSQaGYxE62hVpdHWu necessary.\n",
      "Retry of audio analysis for track 7dNUfw7xbVXz4wyQTsMYmt necessary.\n",
      "Retry of audio analysis for track 7dNUfw7xbVXz4wyQTsMYmt necessary.\n",
      "Retry of audio analysis for track 7dNUfw7xbVXz4wyQTsMYmt necessary.\n",
      "Retry of audio analysis for track 7dNUfw7xbVXz4wyQTsMYmt necessary.\n",
      "Retry of audio analysis for track 7dNUfw7xbVXz4wyQTsMYmt necessary.\n",
      "Retry of audio analysis for track 7dNUfw7xbVXz4wyQTsMYmt necessary.\n",
      "Retry of audio analysis for track 7dNUfw7xbVXz4wyQTsMYmt necessary.\n",
      "Saving tracks ...\n",
      "loading playlist 1C49yxU1XBkoq5yaVDbJwx , offset: 1450\n",
      "Analyzing 50 tracks ...\n",
      "Retry of audio analysis for track 4hJNA7VCBfNDly2Lz1SKAt necessary.\n",
      "Retry of audio analysis for track 1SZ5EEmCQ03fRAHnFNYW8N necessary.\n"
     ]
    }
   ],
   "source": [
    "crawler.collect_tracks_from_playlist(\"6srddMK48bjlvaVZBpukVv\")"
   ],
   "metadata": {
    "collapsed": false,
    "pycharm": {
     "name": "#%%\n",
     "is_executing": true
    }
   }
  },
  {
   "cell_type": "code",
   "execution_count": null,
   "outputs": [],
   "source": [
    "crawler.collect_tracks_from_playlist(\"5oJlzeStFx6PynShmLu7xZ\")"
   ],
   "metadata": {
    "collapsed": false,
    "pycharm": {
     "name": "#%%\n"
    }
   }
  }
 ],
 "metadata": {
  "kernelspec": {
   "display_name": "Python 3",
   "language": "python",
   "name": "python3"
  },
  "language_info": {
   "codemirror_mode": {
    "name": "ipython",
    "version": 2
   },
   "file_extension": ".py",
   "mimetype": "text/x-python",
   "name": "python",
   "nbconvert_exporter": "python",
   "pygments_lexer": "ipython2",
   "version": "2.7.6"
  }
 },
 "nbformat": 4,
 "nbformat_minor": 0
}
