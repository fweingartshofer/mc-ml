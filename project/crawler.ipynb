{
 "cells": [
  {
   "cell_type": "markdown",
   "source": [
    "# Server"
   ],
   "metadata": {
    "collapsed": false
   }
  },
  {
   "cell_type": "code",
   "execution_count": 24,
   "outputs": [],
   "source": [
    "import tekore as tk\n",
    "from dotenv import load_dotenv\n",
    "import httpx\n",
    "\n",
    "load_dotenv()\n",
    "\n",
    "conf = tk.config_from_environment()\n",
    "cred = tk.Credentials(*conf)\n",
    "\n",
    "trans = httpx.HTTPTransport(retries=3)\n",
    "client = httpx.Client(timeout=30, transport=trans)\n",
    "sender = tk.SyncSender(client=client)\n",
    "spotify = tk.Spotify(sender=sender)\n",
    "\n",
    "host = '127.0.0.1'\n",
    "port = 5000"
   ],
   "metadata": {
    "collapsed": false
   }
  },
  {
   "cell_type": "code",
   "execution_count": 25,
   "metadata": {
    "collapsed": true
   },
   "outputs": [],
   "source": [
    "from os import environ as env\n",
    "import json\n",
    "from authentication.spotify_server import SpotifyServer\n",
    "try:\n",
    "    with open(\".spotify_credentials.json\", \"r\") as infile:\n",
    "        token_dict = json.load(infile)\n",
    "        token_dict[\"scope\"] = \" \".join(token_dict[\"scope\"])\n",
    "        spotify.token = tk.Token(token_dict, token_dict[\"uses_pkce\"])\n",
    "        spotify.token = cred.refresh(spotify.token)\n",
    "except Exception as e:\n",
    "    print(e)\n",
    "    app = SpotifyServer(host, port, spotify, cred)\n",
    "    spotify.token = app.spawn_single_use_server()"
   ]
  },
  {
   "cell_type": "code",
   "execution_count": 26,
   "outputs": [],
   "source": [
    "from typing import List\n",
    "token: tk.Token = spotify.token\n",
    "scopes: List[str] = list(token.scope)\n",
    "token_dict = {\n",
    "    \"token_type\": token.token_type,\n",
    "    \"access_token\": token.access_token,\n",
    "    \"refresh_token\": token.refresh_token,\n",
    "    \"scope\": scopes[0].replace(\"[\", \"\").replace(\"]\", \"\").replace(\"'\", \"\").split(\", \") if len(scopes) == 0 else scopes,\n",
    "    \"expires_at\": token.expires_at,\n",
    "    \"uses_pkce\": token.uses_pkce,\n",
    "    \"expires_in\": 0\n",
    "}\n",
    "json_object = json.dumps(token_dict, indent=4)\n",
    "with open(\".spotify_credentials.json\", \"w\") as outfile:\n",
    "    outfile.write(json_object)"
   ],
   "metadata": {
    "collapsed": false
   }
  },
  {
   "cell_type": "markdown",
   "source": [
    "# Spotify API"
   ],
   "metadata": {
    "collapsed": false
   }
  },
  {
   "cell_type": "code",
   "execution_count": 27,
   "outputs": [],
   "source": [
    "spotify.token = cred.refresh(spotify.token)"
   ],
   "metadata": {
    "collapsed": false
   }
  },
  {
   "cell_type": "code",
   "execution_count": 28,
   "outputs": [
    {
     "data": {
      "text/plain": "['When It Rains, It Pours (feat. Coco, Mr Traumatik & Songer) - Shapes Remix',\n 'R3VOLUTION',\n 'Lekkere Boterham - GPF Remix',\n 'Reignite',\n 'Anadrol (Jiyagi Remix)',\n 'The Flute Tune - Soulpride Remix',\n \"I'm Good (Blue) - REAPER Remix\",\n 'Groeien - Radio Edit',\n 'Lost Control - Jiyagi Remix',\n 'Release The Kraken - Sefa Remix',\n 'Froz3n - Aftershock Remix',\n 'Liberté - Sefa & Outsiders Remix',\n 'Died In Your Arms (Reloaded)',\n 'Ready To Fly - Sub Focus & Dimension',\n 'Getting Started - Chase & Status Remix',\n 'RAVE',\n 'XYZ - NERO Remix',\n 'Remedy',\n 'Riptide',\n 'Roller',\n \"I'm Good (Blue)\",\n 'Ramenez la coupe à la maison',\n 'Rasputin',\n 'go - goddard. Remix',\n 'Kraut & Ruam',\n 'Running Up That Hill (A Deal With God)',\n 'The Real Slim Shady',\n 'Rich Flex',\n 'Run Rudolph Run',\n 'LEBENSLANG - HBz Remix',\n 'Robbery',\n 'R&Drill',\n 'Rolling in the Deep',\n 'Wonderful Dream (Holidays Are Coming) - Radio Version',\n 'Rain In Ibiza',\n 'Revenge',\n \"Rockin' Around The Christmas Tree\",\n \"Rockin' Around the Christmas Tree\",\n 'Rudolph The Red-Nosed Reindeer',\n 'Romantic Homicide',\n 'Driving Home for Christmas - 2019 Remaster',\n 'Jingle Bell Rock',\n 'Last Christmas - Remastered',\n 'Mood - RAF Camora Remix',\n 'Happy Xmas (War Is Over) - Remastered 2010',\n 'Ring Out The Bells',\n 'Rede mit mir (feat. Luciano)',\n 'Wonderful Christmastime - Edited Version / Remastered 2011',\n 'Sleigh Ride',\n 'Let It Snow! Let It Snow! Let It Snow!']"
     },
     "execution_count": 28,
     "metadata": {},
     "output_type": "execute_result"
    }
   ],
   "source": [
    "from project.random_track import RandomTrack\n",
    "\n",
    "rndTrack = RandomTrack(spotify, cred)\n",
    "tracks = rndTrack.random_tracks()\n",
    "[track.name for track in tracks]"
   ],
   "metadata": {
    "collapsed": false
   }
  },
  {
   "cell_type": "code",
   "execution_count": 29,
   "outputs": [
    {
     "data": {
      "text/plain": "86"
     },
     "execution_count": 29,
     "metadata": {},
     "output_type": "execute_result"
    }
   ],
   "source": [
    "from project.util import Partition\n",
    "\n",
    "artist_ids = [artist.id for track in tracks for artist in track.artists]\n",
    "artist_id_partitions = Partition(artist_ids)\n",
    "artists = [spotify.artists(ids) for ids in artist_id_partitions]\n",
    "artists: List[tk.model.FullArtist] = list(artist for partition in artists for artist in partition)\n",
    "len(artists)"
   ],
   "metadata": {
    "collapsed": false
   }
  },
  {
   "cell_type": "code",
   "execution_count": 30,
   "outputs": [],
   "source": [
    "import pylast\n",
    "from authentication.lastfm_credentials import LastFmCredentials\n",
    "from lastfm import LastFmScraper, LastFmProxy\n",
    "\n",
    "creds = LastFmCredentials(env[\"LASTFM_API_KEY\"], env[\"LASTFM_SHARED_SECRET\"])\n",
    "last_network = pylast.LastFMNetwork(\n",
    "    api_key=creds.api_key,\n",
    "    api_secret=creds.shared_secret,\n",
    ")\n",
    "\n",
    "lastfm = LastFmProxy(last_network, LastFmScraper())"
   ],
   "metadata": {
    "collapsed": false
   }
  },
  {
   "cell_type": "code",
   "execution_count": 31,
   "outputs": [],
   "source": [
    "import track as model\n",
    "analyzed_tracks = model.AnalyzedTracks(tracks, artists)"
   ],
   "metadata": {
    "collapsed": false
   }
  },
  {
   "cell_type": "code",
   "execution_count": 32,
   "outputs": [
    {
     "name": "stdout",
     "output_type": "stream",
     "text": [
      "No tags 0WxwQcXbfVQuVjY7rm4yPd Kraut & Ruam ['Mozhart']\n",
      "No tags 4FXX4P3dxc1JMBx5wVRJ5N LEBENSLANG - HBz Remix ['Tream', 'HBz', 'treamiboii']\n"
     ]
    }
   ],
   "source": [
    "from project.track import TaggedTrack\n",
    "for track in analyzed_tracks.tracks:\n",
    "    try:\n",
    "        tags = TaggedTrack(lastfm, track.name, track.artist_names).tags()\n",
    "        if len(tags) == 0:\n",
    "            raise Exception(\"No tags\")\n",
    "    except Exception as e:\n",
    "        print(e, track.id, track.name, track.artist_names)\n",
    "        continue\n",
    "    track.tags = tags"
   ],
   "metadata": {
    "collapsed": false
   }
  },
  {
   "cell_type": "code",
   "execution_count": 33,
   "outputs": [],
   "source": [
    "import track as model\n",
    "analyzed_tracks = model.AnalyzedTracks(tracks, artists)\n",
    "\n",
    "audio_feature_id_limit=50\n",
    "track_ids = [track.id for track in analyzed_tracks.tracks]\n",
    "track_id_partitions = Partition(track_ids)\n",
    "features = [spotify.tracks_audio_features(ids) for ids in track_id_partitions]\n",
    "features = [feature for partition in features for feature in partition]\n",
    "\n",
    "for track in analyzed_tracks.tracks:\n",
    "    # analysis = spotify.track_audio_analysis(track_id=track.id)\n",
    "    feature = [feature for feature in features if feature.id == track.id][0]\n",
    "    track.acousticness = feature.acousticness\n",
    "    # track.pitches = {segment.start:segment.pitches for segment in analysis.segments}\n",
    "    track.loudness = feature.loudness\n",
    "    track.energy = feature.energy\n",
    "    track.danceability = feature.danceability\n",
    "    track.mode = feature.mode\n",
    "    track.instrumentalness = feature.instrumentalness\n",
    "    track.key = feature.key\n",
    "    track.liveness = feature.liveness\n",
    "    track.tempo = feature.tempo\n",
    "    track.time_signature = feature.time_signature\n",
    "    track.valence = feature.valence"
   ],
   "metadata": {
    "collapsed": false,
    "pycharm": {
     "name": "#%%\n"
    }
   }
  },
  {
   "cell_type": "markdown",
   "source": [
    "# Firebase"
   ],
   "metadata": {
    "collapsed": false
   }
  },
  {
   "cell_type": "code",
   "execution_count": 34,
   "outputs": [
    {
     "data": {
      "text/plain": "<firebase_admin.App at 0x125eaf01240>"
     },
     "execution_count": 34,
     "metadata": {},
     "output_type": "execute_result"
    }
   ],
   "source": [
    "import firebase_admin\n",
    "from firebase_admin import credentials, firestore\n",
    "\n",
    "cred = credentials.ApplicationDefault()\n",
    "firebase_admin.initialize_app()"
   ],
   "metadata": {
    "collapsed": false
   }
  },
  {
   "cell_type": "code",
   "execution_count": 37,
   "outputs": [],
   "source": [
    "from google.cloud.firestore_v1 import Client\n",
    "\n",
    "firestore_client: Client = firestore.client()\n",
    "analyzed_tracks.upsert(firestore_client.collection(\"tracks\"))"
   ],
   "metadata": {
    "collapsed": false
   }
  },
  {
   "cell_type": "code",
   "execution_count": 35,
   "outputs": [],
   "source": [],
   "metadata": {
    "collapsed": false
   }
  }
 ],
 "metadata": {
  "kernelspec": {
   "display_name": "Python 3",
   "language": "python",
   "name": "python3"
  },
  "language_info": {
   "codemirror_mode": {
    "name": "ipython",
    "version": 2
   },
   "file_extension": ".py",
   "mimetype": "text/x-python",
   "name": "python",
   "nbconvert_exporter": "python",
   "pygments_lexer": "ipython2",
   "version": "2.7.6"
  }
 },
 "nbformat": 4,
 "nbformat_minor": 0
}