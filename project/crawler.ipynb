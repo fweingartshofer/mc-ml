{
 "cells": [
  {
   "cell_type": "markdown",
   "source": [
    "# Collect data from Spotify and Last.fm"
   ],
   "metadata": {
    "collapsed": false
   }
  },
  {
   "cell_type": "code",
   "execution_count": 1,
   "outputs": [],
   "source": [
    "from crawler import Crawler\n",
    "\n",
    "crawler = Crawler(\"127.0.0.1\", 5000)"
   ],
   "metadata": {
    "collapsed": false
   }
  },
  {
   "cell_type": "code",
   "execution_count": null,
   "outputs": [],
   "source": [
    "crawler.collect_random_tracks()"
   ],
   "metadata": {
    "collapsed": false
   }
  },
  {
   "cell_type": "markdown",
   "source": [
    "Huge party playlist (500+ hours)"
   ],
   "metadata": {
    "collapsed": false
   }
  },
  {
   "cell_type": "code",
   "execution_count": null,
   "outputs": [
    {
     "name": "stdout",
     "output_type": "stream",
     "text": [
      "loading playlist 1C49yxU1XBkoq5yaVDbJwx offset: 2750\n",
      "Analyzing 50 tracks ...\n",
      "Could not find analysis for 5cY8y2XgOfkAh4kSWLFKkz trying again:  1 /10\n",
      "Could not find analysis for 5cY8y2XgOfkAh4kSWLFKkz trying again:  2 /10\n",
      "Could not find analysis for 5cY8y2XgOfkAh4kSWLFKkz trying again:  3 /10\n",
      "Could not find analysis for 5cY8y2XgOfkAh4kSWLFKkz trying again:  4 /10\n",
      "Could not find analysis for 5cY8y2XgOfkAh4kSWLFKkz trying again:  5 /10\n",
      "Track 5cY8y2XgOfkAh4kSWLFKkz does not have audio analysis: Error in https://api.spotify.com/v1/audio-analysis/5cY8y2XgOfkAh4kSWLFKkz:\n",
      "404: analysis not found\n",
      "\n",
      "Retry of audio analysis for track 5483X8KsrDiYuzY1TXY8pk necessary.\n",
      "Retry of audio analysis for track 5UDAmLAmHYSTirMvysAirJ necessary.\n",
      "Retry of audio analysis for track 5UDAmLAmHYSTirMvysAirJ necessary.\n",
      "Retry of audio analysis for track 5qGwqO0lkbBXw4xNfzT7SF necessary.\n",
      "Retry of audio analysis for track 454h9zAIuTe1eJyw9iTnj4 necessary.\n",
      "Retry of audio analysis for track 7fW1OwQPexk5OWCj7CSpqU necessary.\n",
      "Retry of audio analysis for track 7fW1OwQPexk5OWCj7CSpqU necessary.\n",
      "Retry of audio analysis for track 3zYylKHq9ceezB95zjPgex necessary.\n",
      "Retry of audio analysis for track 2xar08Fq5xra2KKZs5Bw9j necessary.\n",
      "Saving tracks ...\n"
     ]
    }
   ],
   "source": [
    "crawler.collect_tracks_from_playlist(\"1C49yxU1XBkoq5yaVDbJwx\", offset=2750)\n",
    "#crawler.collect_tracks_from_playlist(\"69fEt9DN5r4JQATi52sRtq\") Not Done\n",
    "#crawler.collect_tracks_from_playlist(\"6srddMK48bjlvaVZBpukVv\") Done"
   ],
   "metadata": {
    "collapsed": false,
    "pycharm": {
     "is_executing": true
    }
   }
  },
  {
   "cell_type": "code",
   "execution_count": null,
   "outputs": [],
   "source": [
    "from tekore import NotFound\n",
    "import tekore as tk\n",
    "s: tk.Spotify = crawler._spotify\n",
    "try:\n",
    "    s.track_audio_analysis(\"5cY8y2XgOfkAh4kSWLFKkz\")\n",
    "except NotFound:\n",
    "    print(\"HERE\")"
   ],
   "metadata": {
    "collapsed": false,
    "pycharm": {
     "is_executing": true
    }
   }
  },
  {
   "cell_type": "code",
   "execution_count": null,
   "outputs": [],
   "source": [],
   "metadata": {
    "collapsed": false
   }
  }
 ],
 "metadata": {
  "kernelspec": {
   "display_name": "Python 3",
   "language": "python",
   "name": "python3"
  },
  "language_info": {
   "codemirror_mode": {
    "name": "ipython",
    "version": 2
   },
   "file_extension": ".py",
   "mimetype": "text/x-python",
   "name": "python",
   "nbconvert_exporter": "python",
   "pygments_lexer": "ipython2",
   "version": "2.7.6"
  }
 },
 "nbformat": 4,
 "nbformat_minor": 0
}
