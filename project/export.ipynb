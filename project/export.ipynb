{
 "cells": [
  {
   "cell_type": "markdown",
   "source": [
    "# Firebase"
   ],
   "metadata": {
    "collapsed": false
   }
  },
  {
   "cell_type": "code",
   "execution_count": 25,
   "outputs": [],
   "source": [
    "import os\n",
    "\n",
    "from dotenv import load_dotenv\n",
    "from pymongo import MongoClient\n",
    "from pymongo.server_api import ServerApi\n",
    "\n",
    "load_dotenv()\n",
    "\n",
    "mongo_uri = os.environ.get(\"MONGO_URL\")\n",
    "mongo_certificate = os.environ.get(\"MONGO_CERTIFICATE\")\n",
    "client = MongoClient(mongo_uri,\n",
    "                     tls=True,\n",
    "                     tlsCertificateKeyFile=mongo_certificate,\n",
    "                     server_api=ServerApi('1'))\n",
    "db = client['spotifai']\n",
    "track_collection = db['tracks']\n",
    "\n",
    "limit = 1000\n",
    "offset = 0\n",
    "loading = True\n",
    "\n",
    "track_data = []\n",
    "query = {\n",
    "    \"$and\": [\n",
    "        {\n",
    "            \"tags\": {\n",
    "                \"$ne\": {\n",
    "                    \"$regex\": \"^-?[0-9]+$\",\n",
    "                    \"$options\": \"m\"\n",
    "                }\n",
    "            }\n",
    "        },\n",
    "        {\n",
    "            \"tags\": {\n",
    "                \"$ne\": \"[]\",\n",
    "            }\n",
    "        }\n",
    "    ]\n",
    "}\n",
    "while loading:\n",
    "    docs = track_collection.find(query).skip(offset).limit(limit)\n",
    "    current_track_data = [doc for doc in docs]\n",
    "    loading = len(current_track_data) != 0\n",
    "    track_data += current_track_data\n",
    "    offset += limit\n"
   ],
   "metadata": {
    "collapsed": false
   }
  },
  {
   "cell_type": "code",
   "execution_count": 27,
   "outputs": [
    {
     "ename": "TypeError",
     "evalue": "if no direction is specified, key_or_list must be an instance of list",
     "output_type": "error",
     "traceback": [
      "\u001B[0;31m---------------------------------------------------------------------------\u001B[0m",
      "\u001B[0;31mTypeError\u001B[0m                                 Traceback (most recent call last)",
      "Cell \u001B[0;32mIn [27], line 1\u001B[0m\n\u001B[0;32m----> 1\u001B[0m \u001B[43mtrack_collection\u001B[49m\u001B[38;5;241;43m.\u001B[39;49m\u001B[43mcreate_index\u001B[49m\u001B[43m(\u001B[49m\u001B[43m{\u001B[49m\u001B[38;5;124;43m\"\u001B[39;49m\u001B[38;5;124;43mid\u001B[39;49m\u001B[38;5;124;43m\"\u001B[39;49m\u001B[43m:\u001B[49m\u001B[38;5;241;43m1\u001B[39;49m\u001B[43m \u001B[49m\u001B[43m}\u001B[49m\u001B[43m,\u001B[49m\u001B[43m{\u001B[49m\u001B[38;5;124;43m\"\u001B[39;49m\u001B[38;5;124;43munique\u001B[39;49m\u001B[38;5;124;43m\"\u001B[39;49m\u001B[43m:\u001B[49m\u001B[38;5;28;43;01mTrue\u001B[39;49;00m\u001B[43m}\u001B[49m\u001B[43m)\u001B[49m\n",
      "File \u001B[0;32m~/projects/fh/mc/ml/venv/lib/python3.10/site-packages/pymongo/collection.py:2054\u001B[0m, in \u001B[0;36mCollection.create_index\u001B[0;34m(self, keys, session, comment, **kwargs)\u001B[0m\n\u001B[1;32m   2052\u001B[0m \u001B[38;5;28;01mif\u001B[39;00m comment \u001B[38;5;129;01mis\u001B[39;00m \u001B[38;5;129;01mnot\u001B[39;00m \u001B[38;5;28;01mNone\u001B[39;00m:\n\u001B[1;32m   2053\u001B[0m     cmd_options[\u001B[38;5;124m\"\u001B[39m\u001B[38;5;124mcomment\u001B[39m\u001B[38;5;124m\"\u001B[39m] \u001B[38;5;241m=\u001B[39m comment\n\u001B[0;32m-> 2054\u001B[0m index \u001B[38;5;241m=\u001B[39m \u001B[43mIndexModel\u001B[49m\u001B[43m(\u001B[49m\u001B[43mkeys\u001B[49m\u001B[43m,\u001B[49m\u001B[43m \u001B[49m\u001B[38;5;241;43m*\u001B[39;49m\u001B[38;5;241;43m*\u001B[39;49m\u001B[43mkwargs\u001B[49m\u001B[43m)\u001B[49m\n\u001B[1;32m   2055\u001B[0m \u001B[38;5;28;01mreturn\u001B[39;00m \u001B[38;5;28mself\u001B[39m\u001B[38;5;241m.\u001B[39m__create_indexes([index], session, \u001B[38;5;241m*\u001B[39m\u001B[38;5;241m*\u001B[39mcmd_options)[\u001B[38;5;241m0\u001B[39m]\n",
      "File \u001B[0;32m~/projects/fh/mc/ml/venv/lib/python3.10/site-packages/pymongo/operations.py:494\u001B[0m, in \u001B[0;36mIndexModel.__init__\u001B[0;34m(self, keys, **kwargs)\u001B[0m\n\u001B[1;32m    433\u001B[0m \u001B[38;5;28;01mdef\u001B[39;00m \u001B[38;5;21m__init__\u001B[39m(\u001B[38;5;28mself\u001B[39m, keys: _IndexKeyHint, \u001B[38;5;241m*\u001B[39m\u001B[38;5;241m*\u001B[39mkwargs: Any) \u001B[38;5;241m-\u001B[39m\u001B[38;5;241m>\u001B[39m \u001B[38;5;28;01mNone\u001B[39;00m:\n\u001B[1;32m    434\u001B[0m     \u001B[38;5;124;03m\"\"\"Create an Index instance.\u001B[39;00m\n\u001B[1;32m    435\u001B[0m \n\u001B[1;32m    436\u001B[0m \u001B[38;5;124;03m    For use with :meth:`~pymongo.collection.Collection.create_indexes`.\u001B[39;00m\n\u001B[0;32m   (...)\u001B[0m\n\u001B[1;32m    492\u001B[0m \u001B[38;5;124;03m    .. _wildcard index: https://mongodb.com/docs/master/core/index-wildcard/\u001B[39;00m\n\u001B[1;32m    493\u001B[0m \u001B[38;5;124;03m    \"\"\"\u001B[39;00m\n\u001B[0;32m--> 494\u001B[0m     keys \u001B[38;5;241m=\u001B[39m \u001B[43m_index_list\u001B[49m\u001B[43m(\u001B[49m\u001B[43mkeys\u001B[49m\u001B[43m)\u001B[49m\n\u001B[1;32m    495\u001B[0m     \u001B[38;5;28;01mif\u001B[39;00m \u001B[38;5;124m\"\u001B[39m\u001B[38;5;124mname\u001B[39m\u001B[38;5;124m\"\u001B[39m \u001B[38;5;129;01mnot\u001B[39;00m \u001B[38;5;129;01min\u001B[39;00m kwargs:\n\u001B[1;32m    496\u001B[0m         kwargs[\u001B[38;5;124m\"\u001B[39m\u001B[38;5;124mname\u001B[39m\u001B[38;5;124m\"\u001B[39m] \u001B[38;5;241m=\u001B[39m _gen_index_name(keys)\n",
      "File \u001B[0;32m~/projects/fh/mc/ml/venv/lib/python3.10/site-packages/pymongo/helpers.py:90\u001B[0m, in \u001B[0;36m_index_list\u001B[0;34m(key_or_list, direction)\u001B[0m\n\u001B[1;32m     88\u001B[0m     \u001B[38;5;28;01mreturn\u001B[39;00m \u001B[38;5;28mlist\u001B[39m(key_or_list)\n\u001B[1;32m     89\u001B[0m \u001B[38;5;28;01melif\u001B[39;00m \u001B[38;5;129;01mnot\u001B[39;00m \u001B[38;5;28misinstance\u001B[39m(key_or_list, (\u001B[38;5;28mlist\u001B[39m, \u001B[38;5;28mtuple\u001B[39m)):\n\u001B[0;32m---> 90\u001B[0m     \u001B[38;5;28;01mraise\u001B[39;00m \u001B[38;5;167;01mTypeError\u001B[39;00m(\u001B[38;5;124m\"\u001B[39m\u001B[38;5;124mif no direction is specified, key_or_list must be an instance of list\u001B[39m\u001B[38;5;124m\"\u001B[39m)\n\u001B[1;32m     91\u001B[0m \u001B[38;5;28;01mreturn\u001B[39;00m key_or_list\n",
      "\u001B[0;31mTypeError\u001B[0m: if no direction is specified, key_or_list must be an instance of list"
     ]
    }
   ],
   "source": [
    "#track_collection.create_index({\"id\":1 },{\"unique\":True})"
   ],
   "metadata": {
    "collapsed": false
   }
  },
  {
   "cell_type": "code",
   "execution_count": null,
   "outputs": [],
   "source": [
    "import pandas as pd\n",
    "\n",
    "df = pd.DataFrame(track_data)\n",
    "df.set_index(\"id\", inplace=True)\n",
    "df.info()\n",
    "df = df[~df[\"pitches\"].isna()]\n",
    "tolower = lambda s: s.lower()\n",
    "flatmap = lambda list_of_lists: [item for l in list_of_lists for item in l]\n",
    "tags = pd.Series(flatmap(df[~df[\"tags\"].isna()][\"tags\"].values.tolist())).apply(tolower).drop_duplicates()\n",
    "tags.info()\n",
    "tags"
   ],
   "metadata": {
    "collapsed": false
   }
  },
  {
   "cell_type": "code",
   "execution_count": null,
   "outputs": [],
   "source": [
    "pitch_symbol = [\"C\", \"C#\", \"D\", \"D#\", \"E\", \"F\", \"F#\", \"G\", \"G#\", \"A\", \"A#\", \"B\"]\n",
    "\n",
    "\n",
    "def pitch_trans(p):\n",
    "    pitch_frequency = list()\n",
    "    for timestamp in p:\n",
    "        pitch_dict = {\"timestamp\": float(timestamp)}\n",
    "        for i in range(0, len(p[timestamp])):\n",
    "            pitch_dict[pitch_symbol[i]] = p[timestamp][i]\n",
    "        pitch_frequency.append(pitch_dict)\n",
    "    return pitch_frequency\n",
    "\n",
    "\n",
    "def pitches_to_dataframe(p):\n",
    "    return pd.DataFrame(p).sort_values(by=[\"timestamp\"])\n",
    "\n",
    "\n",
    "pitches = df[\"pitches\"].apply(pitch_trans)\n",
    "df[\"pitches\"] = pitches\n",
    "df[\"pitches\"]"
   ],
   "metadata": {
    "collapsed": false
   }
  },
  {
   "cell_type": "code",
   "execution_count": null,
   "outputs": [],
   "source": [
    "first_song = pitches_to_dataframe(pitches.iloc[0])\n",
    "first_song"
   ],
   "metadata": {
    "collapsed": false
   }
  },
  {
   "cell_type": "code",
   "execution_count": null,
   "outputs": [],
   "source": [
    "first_song.plot(x=\"timestamp\", figsize=(40, 10))"
   ],
   "metadata": {
    "collapsed": false
   }
  },
  {
   "cell_type": "code",
   "execution_count": null,
   "outputs": [],
   "source": [
    "from typing import List\n",
    "\n",
    "from typing import Dict\n",
    "\n",
    "\n",
    "def max_of_pitches(freq: List[Dict[str, float]], pitch: chr):\n",
    "    return max([item[pitch] for item in freq])\n",
    "\n",
    "\n",
    "def min_of_pitches(freq: List[Dict[str, float]], pitch: chr):\n",
    "    return min([item[pitch] for item in freq])\n",
    "\n",
    "\n",
    "for sym in pitch_symbol:\n",
    "    df.insert(len(df.columns), f\"{sym}_max\", [max_of_pitches(item, sym) for item in df[\"pitches\"]])\n",
    "    df.insert(len(df.columns), f\"{sym}_min\", [min_of_pitches(item, sym) for item in df[\"pitches\"]])\n",
    "df.info()\n",
    "temp_df = pd.DataFrame()\n",
    "\n",
    "for index, row in enumerate(df[\"pitches\"].values):\n",
    "    song = pitches_to_dataframe(row)\n",
    "    song[\"timestamp\"] = song[\"timestamp\"].apply(pd.to_timedelta, unit='s')\n",
    "    resampled: pd.DataFrame = song.set_index(\"timestamp\").resample(\n",
    "        f\"{song.iloc[-1]['timestamp'].total_seconds() * 10 // 1}ms\").mean().interpolate()[:100]\n",
    "    d: pd.DataFrame = pd.DataFrame()\n",
    "    for col in resampled.columns:\n",
    "        if col == \"timestamp\":\n",
    "            continue\n",
    "        d = pd.concat([d, pd.DataFrame({f\"{col}_{row_idx}\": [val] for row_idx, val in enumerate(resampled[col].values)},\n",
    "                                       index=[df.index[index]])], axis=1)\n",
    "    temp_df = pd.concat([temp_df, d])\n",
    "\n",
    "df = pd.concat([df, temp_df], axis=1)\n",
    "df.info()"
   ],
   "metadata": {
    "collapsed": false
   }
  },
  {
   "cell_type": "code",
   "execution_count": null,
   "outputs": [],
   "source": [
    "df.drop(columns=[\"pitches\"], inplace=True)\n",
    "df.to_csv(\"songs.csv\")"
   ],
   "metadata": {
    "collapsed": false
   }
  }
 ],
 "metadata": {
  "kernelspec": {
   "display_name": "Python 3",
   "language": "python",
   "name": "python3"
  },
  "language_info": {
   "codemirror_mode": {
    "name": "ipython",
    "version": 2
   },
   "file_extension": ".py",
   "mimetype": "text/x-python",
   "name": "python",
   "nbconvert_exporter": "python",
   "pygments_lexer": "ipython2",
   "version": "2.7.6"
  }
 },
 "nbformat": 4,
 "nbformat_minor": 0
}
