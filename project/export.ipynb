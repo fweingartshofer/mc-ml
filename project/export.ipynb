{
 "cells": [
  {
   "cell_type": "markdown",
   "source": [
    "# Firebase"
   ],
   "metadata": {
    "collapsed": false
   }
  },
  {
   "cell_type": "code",
   "execution_count": 15,
   "outputs": [],
   "source": [
    "import os\n",
    "\n",
    "from dotenv import load_dotenv\n",
    "from pymongo import MongoClient\n",
    "from pymongo.server_api import ServerApi\n",
    "\n",
    "load_dotenv()\n",
    "\n",
    "mongo_uri = os.environ.get(\"MONGO_URL\")\n",
    "mongo_certificate = os.environ.get(\"MONGO_CERTIFICATE\")\n",
    "client = MongoClient(mongo_uri,\n",
    "                     tls=True,\n",
    "                     tlsCertificateKeyFile=mongo_certificate,\n",
    "                     server_api=ServerApi('1'))\n",
    "db = client['spotifai']\n",
    "track_collection = db['tracks']\n",
    "\n",
    "limit = 1000\n",
    "offset = 0\n",
    "completed = False\n",
    "\n",
    "track_data = []\n",
    "query = {\n",
    "    \"$and\": [\n",
    "        {\n",
    "            \"tags\": {\n",
    "                \"$ne\": {\n",
    "                    \"$regex\": \"^-?[0-9]+$\",\n",
    "                    \"$options\": \"m\"\n",
    "                }\n",
    "            }\n",
    "        },\n",
    "        {\n",
    "            \"tags\": {\n",
    "                \"$ne\": \"[]\",\n",
    "            }\n",
    "        }\n",
    "    ]\n",
    "}\n",
    "docs = track_collection.find(query).skip(offset).limit(limit)\n",
    "while not completed:\n",
    "    pass\n",
    "    docs = track_collection.find(query).skip(offset).limit(limit)\n",
    "    current_track_data = [doc for doc in docs]\n",
    "    completed = len(current_track_data) == 0\n",
    "    track_data += current_track_data\n",
    "    offset += limit\n"
   ],
   "metadata": {
    "collapsed": false
   }
  },
  {
   "cell_type": "code",
   "execution_count": 12,
   "outputs": [
    {
     "ename": "ServerSelectionTimeoutError",
     "evalue": "No replica set members match selector \"Primary()\", Timeout: 30s, Topology Description: <TopologyDescription id: 63c566d408aa522eb31a0017, topology_type: ReplicaSetNoPrimary, servers: [<ServerDescription ('ac-i0nvasr-shard-00-00.ikgqzkz.mongodb.net', 27017) server_type: RSSecondary, rtt: 0.022619641388581774>, <ServerDescription ('ac-i0nvasr-shard-00-01.ikgqzkz.mongodb.net', 27017) server_type: Unknown, rtt: None>, <ServerDescription ('ac-i0nvasr-shard-00-02.ikgqzkz.mongodb.net', 27017) server_type: RSSecondary, rtt: 0.02401339598408413>]>",
     "output_type": "error",
     "traceback": [
      "\u001B[0;31m---------------------------------------------------------------------------\u001B[0m",
      "\u001B[0;31mServerSelectionTimeoutError\u001B[0m               Traceback (most recent call last)",
      "Cell \u001B[0;32mIn [12], line 7\u001B[0m\n\u001B[1;32m      4\u001B[0m     doc\u001B[38;5;241m.\u001B[39mdups\u001B[38;5;241m.\u001B[39mshift()\n\u001B[1;32m      5\u001B[0m     db\u001B[38;5;241m.\u001B[39mevents\u001B[38;5;241m.\u001B[39mremove({ \u001B[38;5;124m\"\u001B[39m\u001B[38;5;124mid\u001B[39m\u001B[38;5;124m\"\u001B[39m: {\u001B[38;5;124m\"\u001B[39m\u001B[38;5;124m$in\u001B[39m\u001B[38;5;124m\"\u001B[39m: doc\u001B[38;5;241m.\u001B[39mdups }})\n\u001B[0;32m----> 7\u001B[0m \u001B[43mtrack_collection\u001B[49m\u001B[38;5;241;43m.\u001B[39;49m\u001B[43maggregate\u001B[49m\u001B[43m(\u001B[49m\u001B[43m[\u001B[49m\n\u001B[1;32m      8\u001B[0m \u001B[43m    \u001B[49m\u001B[43m{\u001B[49m\u001B[43m \u001B[49m\u001B[38;5;124;43m\"\u001B[39;49m\u001B[38;5;124;43m$group\u001B[39;49m\u001B[38;5;124;43m\"\u001B[39;49m\u001B[43m:\u001B[49m\u001B[43m \u001B[49m\u001B[43m{\u001B[49m\n\u001B[1;32m      9\u001B[0m \u001B[43m        \u001B[49m\u001B[38;5;124;43m\"\u001B[39;49m\u001B[38;5;124;43m_id\u001B[39;49m\u001B[38;5;124;43m\"\u001B[39;49m\u001B[43m:\u001B[49m\u001B[43m \u001B[49m\u001B[43m{\u001B[49m\u001B[43m \u001B[49m\u001B[38;5;124;43m\"\u001B[39;49m\u001B[38;5;124;43mid\u001B[39;49m\u001B[38;5;124;43m\"\u001B[39;49m\u001B[43m:\u001B[49m\u001B[43m \u001B[49m\u001B[38;5;124;43m\"\u001B[39;49m\u001B[38;5;132;43;01m%i\u001B[39;49;00m\u001B[38;5;124;43md\u001B[39;49m\u001B[38;5;124;43m\"\u001B[39;49m\u001B[43m \u001B[49m\u001B[43m}\u001B[49m\u001B[43m,\u001B[49m\n\u001B[1;32m     10\u001B[0m \u001B[43m        \u001B[49m\u001B[38;5;124;43m\"\u001B[39;49m\u001B[38;5;124;43mdups\u001B[39;49m\u001B[38;5;124;43m\"\u001B[39;49m\u001B[43m:\u001B[49m\u001B[43m \u001B[49m\u001B[43m{\u001B[49m\u001B[43m \u001B[49m\u001B[38;5;124;43m\"\u001B[39;49m\u001B[38;5;124;43m$push\u001B[39;49m\u001B[38;5;124;43m\"\u001B[39;49m\u001B[43m:\u001B[49m\u001B[43m \u001B[49m\u001B[38;5;124;43m\"\u001B[39;49m\u001B[38;5;124;43m$_id\u001B[39;49m\u001B[38;5;124;43m\"\u001B[39;49m\u001B[43m \u001B[49m\u001B[43m}\u001B[49m\u001B[43m,\u001B[49m\n\u001B[1;32m     11\u001B[0m \u001B[43m        \u001B[49m\u001B[38;5;124;43m\"\u001B[39;49m\u001B[38;5;124;43mcount\u001B[39;49m\u001B[38;5;124;43m\"\u001B[39;49m\u001B[43m:\u001B[49m\u001B[43m \u001B[49m\u001B[43m{\u001B[49m\u001B[43m \u001B[49m\u001B[38;5;124;43m\"\u001B[39;49m\u001B[38;5;124;43m$sum\u001B[39;49m\u001B[38;5;124;43m\"\u001B[39;49m\u001B[43m:\u001B[49m\u001B[43m \u001B[49m\u001B[38;5;241;43m1\u001B[39;49m\u001B[43m \u001B[49m\u001B[43m}\u001B[49m\n\u001B[1;32m     12\u001B[0m \u001B[43m    \u001B[49m\u001B[43m}\u001B[49m\u001B[43m}\u001B[49m\u001B[43m,\u001B[49m\n\u001B[1;32m     13\u001B[0m \u001B[43m    \u001B[49m\u001B[43m{\u001B[49m\u001B[43m \u001B[49m\u001B[38;5;124;43m\"\u001B[39;49m\u001B[38;5;124;43m$match\u001B[39;49m\u001B[38;5;124;43m\"\u001B[39;49m\u001B[43m:\u001B[49m\u001B[43m \u001B[49m\u001B[43m{\u001B[49m\u001B[43m \u001B[49m\u001B[38;5;124;43m\"\u001B[39;49m\u001B[38;5;124;43mcount\u001B[39;49m\u001B[38;5;124;43m\"\u001B[39;49m\u001B[43m:\u001B[49m\u001B[43m \u001B[49m\u001B[43m{\u001B[49m\u001B[43m \u001B[49m\u001B[38;5;124;43m\"\u001B[39;49m\u001B[38;5;124;43m$gt\u001B[39;49m\u001B[38;5;124;43m\"\u001B[39;49m\u001B[43m:\u001B[49m\u001B[43m \u001B[49m\u001B[38;5;241;43m1\u001B[39;49m\u001B[43m \u001B[49m\u001B[43m}\u001B[49m\u001B[43m \u001B[49m\u001B[43m}\u001B[49m\u001B[43m}\u001B[49m\n\u001B[1;32m     14\u001B[0m \u001B[43m]\u001B[49m\u001B[43m)\u001B[49m\u001B[38;5;241m.\u001B[39mforEach(func)\n\u001B[1;32m     16\u001B[0m track_collection\u001B[38;5;241m.\u001B[39mcreateIndex({\u001B[38;5;124m\"\u001B[39m\u001B[38;5;124mid\u001B[39m\u001B[38;5;124m\"\u001B[39m:\u001B[38;5;241m1\u001B[39m },{\u001B[38;5;124m\"\u001B[39m\u001B[38;5;124munique\u001B[39m\u001B[38;5;124m\"\u001B[39m:\u001B[38;5;28;01mTrue\u001B[39;00m})\n",
      "File \u001B[0;32m~/projects/fh/mc/ml/venv/lib/python3.10/site-packages/pymongo/collection.py:2436\u001B[0m, in \u001B[0;36mCollection.aggregate\u001B[0;34m(self, pipeline, session, let, comment, **kwargs)\u001B[0m\n\u001B[1;32m   2358\u001B[0m \u001B[38;5;124;03m\"\"\"Perform an aggregation using the aggregation framework on this\u001B[39;00m\n\u001B[1;32m   2359\u001B[0m \u001B[38;5;124;03mcollection.\u001B[39;00m\n\u001B[1;32m   2360\u001B[0m \n\u001B[0;32m   (...)\u001B[0m\n\u001B[1;32m   2432\u001B[0m \u001B[38;5;124;03m    https://mongodb.com/docs/manual/reference/command/aggregate\u001B[39;00m\n\u001B[1;32m   2433\u001B[0m \u001B[38;5;124;03m\"\"\"\u001B[39;00m\n\u001B[1;32m   2435\u001B[0m \u001B[38;5;28;01mwith\u001B[39;00m \u001B[38;5;28mself\u001B[39m\u001B[38;5;241m.\u001B[39m__database\u001B[38;5;241m.\u001B[39mclient\u001B[38;5;241m.\u001B[39m_tmp_session(session, close\u001B[38;5;241m=\u001B[39m\u001B[38;5;28;01mFalse\u001B[39;00m) \u001B[38;5;28;01mas\u001B[39;00m s:\n\u001B[0;32m-> 2436\u001B[0m     \u001B[38;5;28;01mreturn\u001B[39;00m \u001B[38;5;28;43mself\u001B[39;49m\u001B[38;5;241;43m.\u001B[39;49m\u001B[43m_aggregate\u001B[49m\u001B[43m(\u001B[49m\n\u001B[1;32m   2437\u001B[0m \u001B[43m        \u001B[49m\u001B[43m_CollectionAggregationCommand\u001B[49m\u001B[43m,\u001B[49m\n\u001B[1;32m   2438\u001B[0m \u001B[43m        \u001B[49m\u001B[43mpipeline\u001B[49m\u001B[43m,\u001B[49m\n\u001B[1;32m   2439\u001B[0m \u001B[43m        \u001B[49m\u001B[43mCommandCursor\u001B[49m\u001B[43m,\u001B[49m\n\u001B[1;32m   2440\u001B[0m \u001B[43m        \u001B[49m\u001B[43msession\u001B[49m\u001B[38;5;241;43m=\u001B[39;49m\u001B[43ms\u001B[49m\u001B[43m,\u001B[49m\n\u001B[1;32m   2441\u001B[0m \u001B[43m        \u001B[49m\u001B[43mexplicit_session\u001B[49m\u001B[38;5;241;43m=\u001B[39;49m\u001B[43msession\u001B[49m\u001B[43m \u001B[49m\u001B[38;5;129;43;01mis\u001B[39;49;00m\u001B[43m \u001B[49m\u001B[38;5;129;43;01mnot\u001B[39;49;00m\u001B[43m \u001B[49m\u001B[38;5;28;43;01mNone\u001B[39;49;00m\u001B[43m,\u001B[49m\n\u001B[1;32m   2442\u001B[0m \u001B[43m        \u001B[49m\u001B[43mlet\u001B[49m\u001B[38;5;241;43m=\u001B[39;49m\u001B[43mlet\u001B[49m\u001B[43m,\u001B[49m\n\u001B[1;32m   2443\u001B[0m \u001B[43m        \u001B[49m\u001B[43mcomment\u001B[49m\u001B[38;5;241;43m=\u001B[39;49m\u001B[43mcomment\u001B[49m\u001B[43m,\u001B[49m\n\u001B[1;32m   2444\u001B[0m \u001B[43m        \u001B[49m\u001B[38;5;241;43m*\u001B[39;49m\u001B[38;5;241;43m*\u001B[39;49m\u001B[43mkwargs\u001B[49m\u001B[43m,\u001B[49m\n\u001B[1;32m   2445\u001B[0m \u001B[43m    \u001B[49m\u001B[43m)\u001B[49m\n",
      "File \u001B[0;32m~/projects/fh/mc/ml/venv/lib/python3.10/site-packages/pymongo/_csot.py:105\u001B[0m, in \u001B[0;36mapply.<locals>.csot_wrapper\u001B[0;34m(self, *args, **kwargs)\u001B[0m\n\u001B[1;32m    103\u001B[0m         \u001B[38;5;28;01mwith\u001B[39;00m _TimeoutContext(timeout):\n\u001B[1;32m    104\u001B[0m             \u001B[38;5;28;01mreturn\u001B[39;00m func(\u001B[38;5;28mself\u001B[39m, \u001B[38;5;241m*\u001B[39margs, \u001B[38;5;241m*\u001B[39m\u001B[38;5;241m*\u001B[39mkwargs)\n\u001B[0;32m--> 105\u001B[0m \u001B[38;5;28;01mreturn\u001B[39;00m \u001B[43mfunc\u001B[49m\u001B[43m(\u001B[49m\u001B[38;5;28;43mself\u001B[39;49m\u001B[43m,\u001B[49m\u001B[43m \u001B[49m\u001B[38;5;241;43m*\u001B[39;49m\u001B[43margs\u001B[49m\u001B[43m,\u001B[49m\u001B[43m \u001B[49m\u001B[38;5;241;43m*\u001B[39;49m\u001B[38;5;241;43m*\u001B[39;49m\u001B[43mkwargs\u001B[49m\u001B[43m)\u001B[49m\n",
      "File \u001B[0;32m~/projects/fh/mc/ml/venv/lib/python3.10/site-packages/pymongo/collection.py:2343\u001B[0m, in \u001B[0;36mCollection._aggregate\u001B[0;34m(self, aggregation_command, pipeline, cursor_class, session, explicit_session, let, comment, **kwargs)\u001B[0m\n\u001B[1;32m   2332\u001B[0m     kwargs[\u001B[38;5;124m\"\u001B[39m\u001B[38;5;124mcomment\u001B[39m\u001B[38;5;124m\"\u001B[39m] \u001B[38;5;241m=\u001B[39m comment\n\u001B[1;32m   2333\u001B[0m cmd \u001B[38;5;241m=\u001B[39m aggregation_command(\n\u001B[1;32m   2334\u001B[0m     \u001B[38;5;28mself\u001B[39m,\n\u001B[1;32m   2335\u001B[0m     cursor_class,\n\u001B[0;32m   (...)\u001B[0m\n\u001B[1;32m   2340\u001B[0m     user_fields\u001B[38;5;241m=\u001B[39m{\u001B[38;5;124m\"\u001B[39m\u001B[38;5;124mcursor\u001B[39m\u001B[38;5;124m\"\u001B[39m: {\u001B[38;5;124m\"\u001B[39m\u001B[38;5;124mfirstBatch\u001B[39m\u001B[38;5;124m\"\u001B[39m: \u001B[38;5;241m1\u001B[39m}},\n\u001B[1;32m   2341\u001B[0m )\n\u001B[0;32m-> 2343\u001B[0m \u001B[38;5;28;01mreturn\u001B[39;00m \u001B[38;5;28;43mself\u001B[39;49m\u001B[38;5;241;43m.\u001B[39;49m\u001B[43m__database\u001B[49m\u001B[38;5;241;43m.\u001B[39;49m\u001B[43mclient\u001B[49m\u001B[38;5;241;43m.\u001B[39;49m\u001B[43m_retryable_read\u001B[49m\u001B[43m(\u001B[49m\n\u001B[1;32m   2344\u001B[0m \u001B[43m    \u001B[49m\u001B[43mcmd\u001B[49m\u001B[38;5;241;43m.\u001B[39;49m\u001B[43mget_cursor\u001B[49m\u001B[43m,\u001B[49m\n\u001B[1;32m   2345\u001B[0m \u001B[43m    \u001B[49m\u001B[43mcmd\u001B[49m\u001B[38;5;241;43m.\u001B[39;49m\u001B[43mget_read_preference\u001B[49m\u001B[43m(\u001B[49m\u001B[43msession\u001B[49m\u001B[43m)\u001B[49m\u001B[43m,\u001B[49m\n\u001B[1;32m   2346\u001B[0m \u001B[43m    \u001B[49m\u001B[43msession\u001B[49m\u001B[43m,\u001B[49m\n\u001B[1;32m   2347\u001B[0m \u001B[43m    \u001B[49m\u001B[43mretryable\u001B[49m\u001B[38;5;241;43m=\u001B[39;49m\u001B[38;5;129;43;01mnot\u001B[39;49;00m\u001B[43m \u001B[49m\u001B[43mcmd\u001B[49m\u001B[38;5;241;43m.\u001B[39;49m\u001B[43m_performs_write\u001B[49m\u001B[43m,\u001B[49m\n\u001B[1;32m   2348\u001B[0m \u001B[43m\u001B[49m\u001B[43m)\u001B[49m\n",
      "File \u001B[0;32m~/projects/fh/mc/ml/venv/lib/python3.10/site-packages/pymongo/_csot.py:105\u001B[0m, in \u001B[0;36mapply.<locals>.csot_wrapper\u001B[0;34m(self, *args, **kwargs)\u001B[0m\n\u001B[1;32m    103\u001B[0m         \u001B[38;5;28;01mwith\u001B[39;00m _TimeoutContext(timeout):\n\u001B[1;32m    104\u001B[0m             \u001B[38;5;28;01mreturn\u001B[39;00m func(\u001B[38;5;28mself\u001B[39m, \u001B[38;5;241m*\u001B[39margs, \u001B[38;5;241m*\u001B[39m\u001B[38;5;241m*\u001B[39mkwargs)\n\u001B[0;32m--> 105\u001B[0m \u001B[38;5;28;01mreturn\u001B[39;00m \u001B[43mfunc\u001B[49m\u001B[43m(\u001B[49m\u001B[38;5;28;43mself\u001B[39;49m\u001B[43m,\u001B[49m\u001B[43m \u001B[49m\u001B[38;5;241;43m*\u001B[39;49m\u001B[43margs\u001B[49m\u001B[43m,\u001B[49m\u001B[43m \u001B[49m\u001B[38;5;241;43m*\u001B[39;49m\u001B[38;5;241;43m*\u001B[39;49m\u001B[43mkwargs\u001B[49m\u001B[43m)\u001B[49m\n",
      "File \u001B[0;32m~/projects/fh/mc/ml/venv/lib/python3.10/site-packages/pymongo/mongo_client.py:1441\u001B[0m, in \u001B[0;36mMongoClient._retryable_read\u001B[0;34m(self, func, read_pref, session, address, retryable)\u001B[0m\n\u001B[1;32m   1439\u001B[0m         \u001B[38;5;28;01mraise\u001B[39;00m last_error\n\u001B[1;32m   1440\u001B[0m \u001B[38;5;28;01mtry\u001B[39;00m:\n\u001B[0;32m-> 1441\u001B[0m     server \u001B[38;5;241m=\u001B[39m \u001B[38;5;28;43mself\u001B[39;49m\u001B[38;5;241;43m.\u001B[39;49m\u001B[43m_select_server\u001B[49m\u001B[43m(\u001B[49m\u001B[43mread_pref\u001B[49m\u001B[43m,\u001B[49m\u001B[43m \u001B[49m\u001B[43msession\u001B[49m\u001B[43m,\u001B[49m\u001B[43m \u001B[49m\u001B[43maddress\u001B[49m\u001B[38;5;241;43m=\u001B[39;49m\u001B[43maddress\u001B[49m\u001B[43m)\u001B[49m\n\u001B[1;32m   1442\u001B[0m     \u001B[38;5;28;01mwith\u001B[39;00m \u001B[38;5;28mself\u001B[39m\u001B[38;5;241m.\u001B[39m_socket_from_server(read_pref, server, session) \u001B[38;5;28;01mas\u001B[39;00m (sock_info, read_pref):\n\u001B[1;32m   1443\u001B[0m         \u001B[38;5;28;01mif\u001B[39;00m retrying \u001B[38;5;129;01mand\u001B[39;00m \u001B[38;5;129;01mnot\u001B[39;00m retryable:\n\u001B[1;32m   1444\u001B[0m             \u001B[38;5;66;03m# A retry is not possible because this server does\u001B[39;00m\n\u001B[1;32m   1445\u001B[0m             \u001B[38;5;66;03m# not support retryable reads, raise the last error.\u001B[39;00m\n",
      "File \u001B[0;32m~/projects/fh/mc/ml/venv/lib/python3.10/site-packages/pymongo/mongo_client.py:1257\u001B[0m, in \u001B[0;36mMongoClient._select_server\u001B[0;34m(self, server_selector, session, address)\u001B[0m\n\u001B[1;32m   1255\u001B[0m             \u001B[38;5;28;01mraise\u001B[39;00m AutoReconnect(\u001B[38;5;124m\"\u001B[39m\u001B[38;5;124mserver \u001B[39m\u001B[38;5;132;01m%s\u001B[39;00m\u001B[38;5;124m:\u001B[39m\u001B[38;5;132;01m%d\u001B[39;00m\u001B[38;5;124m no longer available\u001B[39m\u001B[38;5;124m\"\u001B[39m \u001B[38;5;241m%\u001B[39m address)\n\u001B[1;32m   1256\u001B[0m     \u001B[38;5;28;01melse\u001B[39;00m:\n\u001B[0;32m-> 1257\u001B[0m         server \u001B[38;5;241m=\u001B[39m \u001B[43mtopology\u001B[49m\u001B[38;5;241;43m.\u001B[39;49m\u001B[43mselect_server\u001B[49m\u001B[43m(\u001B[49m\u001B[43mserver_selector\u001B[49m\u001B[43m)\u001B[49m\n\u001B[1;32m   1258\u001B[0m     \u001B[38;5;28;01mreturn\u001B[39;00m server\n\u001B[1;32m   1259\u001B[0m \u001B[38;5;28;01mexcept\u001B[39;00m PyMongoError \u001B[38;5;28;01mas\u001B[39;00m exc:\n\u001B[1;32m   1260\u001B[0m     \u001B[38;5;66;03m# Server selection errors in a transaction are transient.\u001B[39;00m\n",
      "File \u001B[0;32m~/projects/fh/mc/ml/venv/lib/python3.10/site-packages/pymongo/topology.py:272\u001B[0m, in \u001B[0;36mTopology.select_server\u001B[0;34m(self, selector, server_selection_timeout, address)\u001B[0m\n\u001B[1;32m    270\u001B[0m \u001B[38;5;28;01mdef\u001B[39;00m \u001B[38;5;21mselect_server\u001B[39m(\u001B[38;5;28mself\u001B[39m, selector, server_selection_timeout\u001B[38;5;241m=\u001B[39m\u001B[38;5;28;01mNone\u001B[39;00m, address\u001B[38;5;241m=\u001B[39m\u001B[38;5;28;01mNone\u001B[39;00m):\n\u001B[1;32m    271\u001B[0m     \u001B[38;5;124;03m\"\"\"Like select_servers, but choose a random server if several match.\"\"\"\u001B[39;00m\n\u001B[0;32m--> 272\u001B[0m     server \u001B[38;5;241m=\u001B[39m \u001B[38;5;28;43mself\u001B[39;49m\u001B[38;5;241;43m.\u001B[39;49m\u001B[43m_select_server\u001B[49m\u001B[43m(\u001B[49m\u001B[43mselector\u001B[49m\u001B[43m,\u001B[49m\u001B[43m \u001B[49m\u001B[43mserver_selection_timeout\u001B[49m\u001B[43m,\u001B[49m\u001B[43m \u001B[49m\u001B[43maddress\u001B[49m\u001B[43m)\u001B[49m\n\u001B[1;32m    273\u001B[0m     \u001B[38;5;28;01mif\u001B[39;00m _csot\u001B[38;5;241m.\u001B[39mget_timeout():\n\u001B[1;32m    274\u001B[0m         _csot\u001B[38;5;241m.\u001B[39mset_rtt(server\u001B[38;5;241m.\u001B[39mdescription\u001B[38;5;241m.\u001B[39mround_trip_time)\n",
      "File \u001B[0;32m~/projects/fh/mc/ml/venv/lib/python3.10/site-packages/pymongo/topology.py:261\u001B[0m, in \u001B[0;36mTopology._select_server\u001B[0;34m(self, selector, server_selection_timeout, address)\u001B[0m\n\u001B[1;32m    260\u001B[0m \u001B[38;5;28;01mdef\u001B[39;00m \u001B[38;5;21m_select_server\u001B[39m(\u001B[38;5;28mself\u001B[39m, selector, server_selection_timeout\u001B[38;5;241m=\u001B[39m\u001B[38;5;28;01mNone\u001B[39;00m, address\u001B[38;5;241m=\u001B[39m\u001B[38;5;28;01mNone\u001B[39;00m):\n\u001B[0;32m--> 261\u001B[0m     servers \u001B[38;5;241m=\u001B[39m \u001B[38;5;28;43mself\u001B[39;49m\u001B[38;5;241;43m.\u001B[39;49m\u001B[43mselect_servers\u001B[49m\u001B[43m(\u001B[49m\u001B[43mselector\u001B[49m\u001B[43m,\u001B[49m\u001B[43m \u001B[49m\u001B[43mserver_selection_timeout\u001B[49m\u001B[43m,\u001B[49m\u001B[43m \u001B[49m\u001B[43maddress\u001B[49m\u001B[43m)\u001B[49m\n\u001B[1;32m    262\u001B[0m     \u001B[38;5;28;01mif\u001B[39;00m \u001B[38;5;28mlen\u001B[39m(servers) \u001B[38;5;241m==\u001B[39m \u001B[38;5;241m1\u001B[39m:\n\u001B[1;32m    263\u001B[0m         \u001B[38;5;28;01mreturn\u001B[39;00m servers[\u001B[38;5;241m0\u001B[39m]\n",
      "File \u001B[0;32m~/projects/fh/mc/ml/venv/lib/python3.10/site-packages/pymongo/topology.py:223\u001B[0m, in \u001B[0;36mTopology.select_servers\u001B[0;34m(self, selector, server_selection_timeout, address)\u001B[0m\n\u001B[1;32m    220\u001B[0m     server_timeout \u001B[38;5;241m=\u001B[39m server_selection_timeout\n\u001B[1;32m    222\u001B[0m \u001B[38;5;28;01mwith\u001B[39;00m \u001B[38;5;28mself\u001B[39m\u001B[38;5;241m.\u001B[39m_lock:\n\u001B[0;32m--> 223\u001B[0m     server_descriptions \u001B[38;5;241m=\u001B[39m \u001B[38;5;28;43mself\u001B[39;49m\u001B[38;5;241;43m.\u001B[39;49m\u001B[43m_select_servers_loop\u001B[49m\u001B[43m(\u001B[49m\u001B[43mselector\u001B[49m\u001B[43m,\u001B[49m\u001B[43m \u001B[49m\u001B[43mserver_timeout\u001B[49m\u001B[43m,\u001B[49m\u001B[43m \u001B[49m\u001B[43maddress\u001B[49m\u001B[43m)\u001B[49m\n\u001B[1;32m    225\u001B[0m     \u001B[38;5;28;01mreturn\u001B[39;00m [\u001B[38;5;28mself\u001B[39m\u001B[38;5;241m.\u001B[39mget_server_by_address(sd\u001B[38;5;241m.\u001B[39maddress) \u001B[38;5;28;01mfor\u001B[39;00m sd \u001B[38;5;129;01min\u001B[39;00m server_descriptions]\n",
      "File \u001B[0;32m~/projects/fh/mc/ml/venv/lib/python3.10/site-packages/pymongo/topology.py:238\u001B[0m, in \u001B[0;36mTopology._select_servers_loop\u001B[0;34m(self, selector, timeout, address)\u001B[0m\n\u001B[1;32m    235\u001B[0m \u001B[38;5;28;01mwhile\u001B[39;00m \u001B[38;5;129;01mnot\u001B[39;00m server_descriptions:\n\u001B[1;32m    236\u001B[0m     \u001B[38;5;66;03m# No suitable servers.\u001B[39;00m\n\u001B[1;32m    237\u001B[0m     \u001B[38;5;28;01mif\u001B[39;00m timeout \u001B[38;5;241m==\u001B[39m \u001B[38;5;241m0\u001B[39m \u001B[38;5;129;01mor\u001B[39;00m now \u001B[38;5;241m>\u001B[39m end_time:\n\u001B[0;32m--> 238\u001B[0m         \u001B[38;5;28;01mraise\u001B[39;00m ServerSelectionTimeoutError(\n\u001B[1;32m    239\u001B[0m             \u001B[38;5;124m\"\u001B[39m\u001B[38;5;132;01m%s\u001B[39;00m\u001B[38;5;124m, Timeout: \u001B[39m\u001B[38;5;132;01m%s\u001B[39;00m\u001B[38;5;124ms, Topology Description: \u001B[39m\u001B[38;5;132;01m%r\u001B[39;00m\u001B[38;5;124m\"\u001B[39m\n\u001B[1;32m    240\u001B[0m             \u001B[38;5;241m%\u001B[39m (\u001B[38;5;28mself\u001B[39m\u001B[38;5;241m.\u001B[39m_error_message(selector), timeout, \u001B[38;5;28mself\u001B[39m\u001B[38;5;241m.\u001B[39mdescription)\n\u001B[1;32m    241\u001B[0m         )\n\u001B[1;32m    243\u001B[0m     \u001B[38;5;28mself\u001B[39m\u001B[38;5;241m.\u001B[39m_ensure_opened()\n\u001B[1;32m    244\u001B[0m     \u001B[38;5;28mself\u001B[39m\u001B[38;5;241m.\u001B[39m_request_check_all()\n",
      "\u001B[0;31mServerSelectionTimeoutError\u001B[0m: No replica set members match selector \"Primary()\", Timeout: 30s, Topology Description: <TopologyDescription id: 63c566d408aa522eb31a0017, topology_type: ReplicaSetNoPrimary, servers: [<ServerDescription ('ac-i0nvasr-shard-00-00.ikgqzkz.mongodb.net', 27017) server_type: RSSecondary, rtt: 0.022619641388581774>, <ServerDescription ('ac-i0nvasr-shard-00-01.ikgqzkz.mongodb.net', 27017) server_type: Unknown, rtt: None>, <ServerDescription ('ac-i0nvasr-shard-00-02.ikgqzkz.mongodb.net', 27017) server_type: RSSecondary, rtt: 0.02401339598408413>]>"
     ]
    }
   ],
   "source": [
    "#track_collection.ensureIndex({\"id\": 1}, {\"unique\": True, \"dropDups\": True})\n",
    "#track_collection.create_index(\"id\")\n",
    "def func(doc):\n",
    "    doc.dups.shift()\n",
    "    db.events.remove({ \"id\": {\"$in\": doc.dups }})\n",
    "\n",
    "track_collection.aggregate([\n",
    "    { \"$group\": {\n",
    "        \"_id\": { \"id\": \"%id\" },\n",
    "        \"dups\": { \"$push\": \"$_id\" },\n",
    "        \"count\": { \"$sum\": 1 }\n",
    "    }},\n",
    "    { \"$match\": { \"count\": { \"$gt\": 1 } }}\n",
    "]).forEach(func)\n",
    "\n",
    "track_collection.createIndex({\"id\":1 },{\"unique\":True})"
   ],
   "metadata": {
    "collapsed": false
   }
  },
  {
   "cell_type": "code",
   "execution_count": null,
   "outputs": [],
   "source": [
    "import pandas as pd\n",
    "\n",
    "df = pd.DataFrame(track_data)\n",
    "df.set_index(\"id\", inplace=True)\n",
    "df.info()\n",
    "df = df[~df[\"pitches\"].isna()]\n",
    "tolower = lambda s: s.lower()\n",
    "flatmap = lambda list_of_lists: [item for l in list_of_lists for item in l]\n",
    "tags = pd.Series(flatmap(df[~df[\"tags\"].isna()][\"tags\"].values.tolist())).apply(tolower).drop_duplicates()\n",
    "tags.info()\n",
    "tags"
   ],
   "metadata": {
    "collapsed": false
   }
  },
  {
   "cell_type": "code",
   "execution_count": null,
   "outputs": [],
   "source": [
    "pitch_symbol = [\"C\", \"C#\", \"D\", \"D#\", \"E\", \"F\", \"F#\", \"G\", \"G#\", \"A\", \"A#\", \"B\"]\n",
    "\n",
    "\n",
    "def pitch_trans(p):\n",
    "    pitch_frequency = list()\n",
    "    for timestamp in p:\n",
    "        pitch_dict = {\"timestamp\": float(timestamp)}\n",
    "        for i in range(0, len(p[timestamp])):\n",
    "            pitch_dict[pitch_symbol[i]] = p[timestamp][i]\n",
    "        pitch_frequency.append(pitch_dict)\n",
    "    return pitch_frequency\n",
    "\n",
    "\n",
    "def pitches_to_dataframe(p):\n",
    "    return pd.DataFrame(p).sort_values(by=[\"timestamp\"])\n",
    "\n",
    "\n",
    "pitches = df[\"pitches\"].apply(pitch_trans)\n",
    "df[\"pitches\"] = pitches\n",
    "df[\"pitches\"]"
   ],
   "metadata": {
    "collapsed": false
   }
  },
  {
   "cell_type": "code",
   "execution_count": null,
   "outputs": [],
   "source": [
    "first_song = pitches_to_dataframe(pitches.iloc[0])\n",
    "first_song"
   ],
   "metadata": {
    "collapsed": false
   }
  },
  {
   "cell_type": "code",
   "execution_count": null,
   "outputs": [],
   "source": [
    "first_song.plot(x=\"timestamp\", figsize=(40, 10))"
   ],
   "metadata": {
    "collapsed": false
   }
  },
  {
   "cell_type": "code",
   "execution_count": null,
   "outputs": [],
   "source": [
    "from typing import List\n",
    "\n",
    "from typing import Dict\n",
    "\n",
    "\n",
    "def max_of_pitches(freq: List[Dict[str, float]], pitch: chr):\n",
    "    return max([item[pitch] for item in freq])\n",
    "\n",
    "\n",
    "def min_of_pitches(freq: List[Dict[str, float]], pitch: chr):\n",
    "    return min([item[pitch] for item in freq])\n",
    "\n",
    "\n",
    "for sym in pitch_symbol:\n",
    "    df.insert(len(df.columns), f\"{sym}_max\", [max_of_pitches(item, sym) for item in df[\"pitches\"]])\n",
    "    df.insert(len(df.columns), f\"{sym}_min\", [min_of_pitches(item, sym) for item in df[\"pitches\"]])\n",
    "df.info()\n",
    "temp_df = pd.DataFrame()\n",
    "\n",
    "for index, row in enumerate(df[\"pitches\"].values):\n",
    "    song = pitches_to_dataframe(row)\n",
    "    song[\"timestamp\"] = song[\"timestamp\"].apply(pd.to_timedelta, unit='s')\n",
    "    resampled: pd.DataFrame = song.set_index(\"timestamp\").resample(\n",
    "        f\"{song.iloc[-1]['timestamp'].total_seconds() * 10 // 1}ms\").mean().interpolate()[:100]\n",
    "    d: pd.DataFrame = pd.DataFrame()\n",
    "    for col in resampled.columns:\n",
    "        if col == \"timestamp\":\n",
    "            continue\n",
    "        d = pd.concat([d, pd.DataFrame({f\"{col}_{row_idx}\": [val] for row_idx, val in enumerate(resampled[col].values)},\n",
    "                                       index=[df.index[index]])], axis=1)\n",
    "    temp_df = pd.concat([temp_df, d])\n",
    "\n",
    "df = pd.concat([df, temp_df], axis=1)\n",
    "df.info()"
   ],
   "metadata": {
    "collapsed": false
   }
  },
  {
   "cell_type": "code",
   "execution_count": null,
   "outputs": [],
   "source": [
    "df.drop(columns=[\"pitches\"], inplace=True)\n",
    "df.to_csv(\"songs.csv\")"
   ],
   "metadata": {
    "collapsed": false
   }
  }
 ],
 "metadata": {
  "kernelspec": {
   "display_name": "Python 3",
   "language": "python",
   "name": "python3"
  },
  "language_info": {
   "codemirror_mode": {
    "name": "ipython",
    "version": 2
   },
   "file_extension": ".py",
   "mimetype": "text/x-python",
   "name": "python",
   "nbconvert_exporter": "python",
   "pygments_lexer": "ipython2",
   "version": "2.7.6"
  }
 },
 "nbformat": 4,
 "nbformat_minor": 0
}
