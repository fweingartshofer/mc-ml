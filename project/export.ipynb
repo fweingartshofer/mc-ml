{
 "cells": [
  {
   "cell_type": "markdown",
   "source": [
    "# MongoDB"
   ],
   "metadata": {
    "collapsed": false
   }
  },
  {
   "cell_type": "code",
   "execution_count": null,
   "outputs": [],
   "source": [
    "import certifi\n",
    "import os\n",
    "\n",
    "from dotenv import load_dotenv\n",
    "from pymongo import MongoClient\n",
    "from pymongo.server_api import ServerApi\n",
    "\n",
    "load_dotenv()\n",
    "\n",
    "mongo_uri = os.environ.get(\"MONGO_URL\")\n",
    "mongo_certificate = os.environ.get(\"MONGO_CERTIFICATE\")\n",
    "client = MongoClient(mongo_uri,\n",
    "                     tls=True,\n",
    "                     tlsCAFile=certifi.where(),\n",
    "                     tlsCertificateKeyFile=mongo_certificate,\n",
    "                     server_api=ServerApi('1'))\n",
    "db = client['spotifai']\n",
    "\n",
    "#track_collection = db['tracks']\n",
    "track_collection = db[\"preprocessed_tracks\"]\n",
    "limit = 400\n",
    "offset = 0\n",
    "loading = True\n",
    "track_data = []\n",
    "\n",
    "try:\n",
    "    while loading:\n",
    "        print(\"fetching tracks with offset\", offset)\n",
    "        docs = track_collection.find({}, allow_disk_use=True)\\\n",
    "            .skip(offset)\\\n",
    "            .limit(limit)\n",
    "        current_track_data = [doc for doc in docs]\n",
    "        loading = len(current_track_data) != 0\n",
    "        track_data += current_track_data\n",
    "        offset += limit\n",
    "except Exception as e:\n",
    "    print(e)\n",
    "len(track_data)"
   ],
   "metadata": {
    "collapsed": false
   }
  },
  {
   "cell_type": "code",
   "execution_count": null,
   "outputs": [],
   "source": [
    "import pandas as pd\n",
    "\n",
    "df = pd.DataFrame(track_data)\n",
    "df.set_index(\"_id\", inplace=True)\n",
    "df.info()\n",
    "df = df[~df[\"pitches\"].isna()]\n",
    "tolower = lambda s: s.lower()\n",
    "flatmap = lambda list_of_lists: [item for l in list_of_lists for item in l]\n",
    "tags = pd.Series(flatmap(df[~df[\"tags\"].isna()][\"tags\"].values.tolist())).apply(tolower).drop_duplicates()\n",
    "tags.info()\n",
    "tags"
   ],
   "metadata": {
    "collapsed": false
   }
  },
  {
   "cell_type": "code",
   "execution_count": null,
   "outputs": [],
   "source": [
    "df.info()"
   ],
   "metadata": {
    "collapsed": false
   }
  },
  {
   "cell_type": "code",
   "execution_count": null,
   "outputs": [],
   "source": [
    "pitch_symbol = [\"C\", \"C#\", \"D\", \"D#\", \"E\", \"F\", \"F#\", \"G\", \"G#\", \"A\", \"A#\", \"B\"]\n",
    "\n",
    "doc_count = 0\n",
    "def pitch_trans(p):\n",
    "    global doc_count\n",
    "    print(f\"Processing doc #{doc_count}\")\n",
    "    doc_count += 1\n",
    "    pitch_frequency = list()\n",
    "    for timestamp in p:\n",
    "        pitch_dict = {\"timestamp\": float(timestamp)}\n",
    "        for i in range(0, len(p[timestamp])):\n",
    "            pitch_dict[pitch_symbol[i]] = p[timestamp][i]\n",
    "        pitch_frequency.append(pitch_dict)\n",
    "    return pitch_frequency\n",
    "\n",
    "\n",
    "def pitches_to_dataframe(p):\n",
    "    return pd.DataFrame(p).sort_values(by=[\"timestamp\"])\n",
    "\n",
    "pitches = df[\"pitches\"].apply(pitch_trans)\n",
    "df[\"pitches\"] = pitches\n",
    "df[\"pitches\"]"
   ],
   "metadata": {
    "collapsed": false,
    "pycharm": {
     "is_executing": true
    }
   }
  },
  {
   "cell_type": "code",
   "execution_count": null,
   "outputs": [],
   "source": [
    "first_song = pitches_to_dataframe(pitches.iloc[0])\n",
    "first_song"
   ],
   "metadata": {
    "collapsed": false
   }
  },
  {
   "cell_type": "code",
   "execution_count": null,
   "outputs": [],
   "source": [
    "first_song.plot(x=\"timestamp\", figsize=(40, 10))"
   ],
   "metadata": {
    "collapsed": false
   }
  },
  {
   "cell_type": "code",
   "execution_count": null,
   "outputs": [],
   "source": [
    "from typing import List\n",
    "\n",
    "from typing import Dict\n",
    "\n",
    "\n",
    "def max_of_pitches(freq: List[Dict[str, float]], pitch: chr):\n",
    "    return max([item[pitch] for item in freq])\n",
    "\n",
    "\n",
    "def min_of_pitches(freq: List[Dict[str, float]], pitch: chr):\n",
    "    return min([item[pitch] for item in freq])\n",
    "\n",
    "\n",
    "for sym in pitch_symbol:\n",
    "    df.insert(len(df.columns), f\"{sym}_max\", [max_of_pitches(item, sym) for item in df[\"pitches\"]])\n",
    "    df.insert(len(df.columns), f\"{sym}_min\", [min_of_pitches(item, sym) for item in df[\"pitches\"]])\n",
    "df.info()"
   ],
   "metadata": {
    "collapsed": false
   }
  },
  {
   "cell_type": "code",
   "execution_count": null,
   "outputs": [],
   "source": [
    "temp_df = pd.DataFrame()\n",
    "\n",
    "for index, row in enumerate(df[\"pitches\"].values):\n",
    "    song = pitches_to_dataframe(row)\n",
    "    song[\"timestamp\"] = song[\"timestamp\"].apply(pd.to_timedelta, unit='s')\n",
    "    resampled: pd.DataFrame = song.set_index(\"timestamp\").resample(\n",
    "        f\"{song.iloc[-1]['timestamp'].total_seconds() * 10 // 1}ms\").mean().interpolate()[:100]\n",
    "    d: pd.DataFrame = pd.DataFrame()\n",
    "    for col in resampled.columns:\n",
    "        if col == \"timestamp\":\n",
    "            continue\n",
    "        d = pd.concat([d, pd.DataFrame({f\"{col}_{row_idx}\": [val] for row_idx, val in enumerate(resampled[col].values)},\n",
    "                                       index=[df.index[index]])], axis=1)\n",
    "    temp_df = pd.concat([temp_df, d])\n",
    "\n",
    "df = pd.concat([df, temp_df], axis=1)\n",
    "df.info()"
   ],
   "metadata": {
    "collapsed": false
   }
  },
  {
   "cell_type": "code",
   "execution_count": null,
   "outputs": [],
   "source": [
    "df.drop(columns=[\"pitches\"], inplace=True)  # drop preprocessed pitches"
   ],
   "metadata": {
    "collapsed": false
   }
  },
  {
   "cell_type": "code",
   "execution_count": null,
   "outputs": [],
   "source": [
    "len(df)"
   ],
   "metadata": {
    "collapsed": false
   }
  },
  {
   "cell_type": "code",
   "execution_count": null,
   "outputs": [],
   "source": [
    "df.to_csv(\"songs.csv\", index=False)"
   ],
   "metadata": {
    "collapsed": false
   }
  },
  {
   "cell_type": "code",
   "execution_count": null,
   "outputs": [],
   "source": [],
   "metadata": {
    "collapsed": false
   }
  }
 ],
 "metadata": {
  "kernelspec": {
   "display_name": "Python 3",
   "language": "python",
   "name": "python3"
  },
  "language_info": {
   "codemirror_mode": {
    "name": "ipython",
    "version": 2
   },
   "file_extension": ".py",
   "mimetype": "text/x-python",
   "name": "python",
   "nbconvert_exporter": "python",
   "pygments_lexer": "ipython2",
   "version": "2.7.6"
  }
 },
 "nbformat": 4,
 "nbformat_minor": 0
}
